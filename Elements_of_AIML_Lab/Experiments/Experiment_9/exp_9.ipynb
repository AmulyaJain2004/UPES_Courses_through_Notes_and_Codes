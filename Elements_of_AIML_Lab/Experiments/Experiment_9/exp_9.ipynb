{
 "cells": [
  {
   "cell_type": "markdown",
   "metadata": {},
   "source": [
    "### Step 1: Create a Custom Imbalanced Dataset\n",
    "#### We simulate a dictionary-based dataset to mimic real-world scenarios. For example, consider a binary classification problem (fraud detection) where the minority class (1) represents fraudulent cases."
   ]
  },
  {
   "cell_type": "markdown",
   "metadata": {},
   "source": [
    "##### A. Importing Libraries"
   ]
  },
  {
   "cell_type": "code",
   "execution_count": 5,
   "metadata": {},
   "outputs": [],
   "source": [
    "import numpy as np\n",
    "import pandas as pd"
   ]
  },
  {
   "cell_type": "markdown",
   "metadata": {},
   "source": [
    "##### B. Creating our sample dataset"
   ]
  },
  {
   "cell_type": "code",
   "execution_count": 6,
   "metadata": {},
   "outputs": [],
   "source": [
    "# Create synthetic data\n",
    "np.random.seed(42)\n",
    "\n",
    "# Majority class (Class 0)\n",
    "majority_class = {\n",
    "    \"Feature1\": np.random.normal(loc=50, scale=10, size=950),\n",
    "    \"Feature2\": np.random.normal(loc=60, scale=15, size=950),\n",
    "    \"Feature3\": np.random.normal(loc=30, scale=5, size=950),\n",
    "    \"Label\": np.zeros(950, dtype=int),\n",
    "}\n",
    "\n",
    "# Minority class (Class 1)\n",
    "minority_class = {\n",
    "    \"Feature1\": np.random.normal(loc=70, scale=10, size=50),\n",
    "    \"Feature2\": np.random.normal(loc=80, scale=15, size=50),\n",
    "    \"Feature3\": np.random.normal(loc=40, scale=5, size=50),\n",
    "    \"Label\": np.ones(50, dtype=int),\n",
    "}"
   ]
  },
  {
   "cell_type": "code",
   "execution_count": 10,
   "metadata": {},
   "outputs": [
    {
     "name": "stdout",
     "output_type": "stream",
     "text": [
      "Class Distribution:\n",
      "Label\n",
      "0    950\n",
      "1     50\n",
      "Name: count, dtype: int64\n"
     ]
    }
   ],
   "source": [
    "# Combine into a single dataset\n",
    "data_dict = {key: np.concatenate([majority_class[key], minority_class[key]]) for key in majority_class}\n",
    "df = pd.DataFrame(data_dict)\n",
    "\n",
    "print(f\"Class Distribution:\\n{df['Label'].value_counts()}\")"
   ]
  },
  {
   "cell_type": "markdown",
   "metadata": {},
   "source": [
    "### Step 2: Explore Techniques to Handle Imbalance\n",
    "#### 1. Random Undersampling\n",
    "##### Reduces the majority class to balance the dataset."
   ]
  },
  {
   "cell_type": "code",
   "execution_count": 13,
   "metadata": {},
   "outputs": [
    {
     "name": "stdout",
     "output_type": "stream",
     "text": [
      "Class Distribution After Random Undersampling:\n",
      "Label\n",
      "0    50\n",
      "1    50\n",
      "Name: count, dtype: int64\n"
     ]
    }
   ],
   "source": [
    "from imblearn.under_sampling import RandomUnderSampler\n",
    "\n",
    "X = df[[\"Feature1\", \"Feature2\", \"Feature3\"]]\n",
    "y = df[\"Label\"]\n",
    "\n",
    "rus = RandomUnderSampler(random_state=42)\n",
    "X_resampled, y_resampled = rus.fit_resample(X, y)\n",
    "\n",
    "print(\"Class Distribution After Random Undersampling:\")\n",
    "print(pd.Series(y_resampled).value_counts())"
   ]
  },
  {
   "cell_type": "markdown",
   "metadata": {},
   "source": [
    "#### 2. Random Oversampling\n",
    "##### Duplicates samples from the minority class."
   ]
  },
  {
   "cell_type": "code",
   "execution_count": 14,
   "metadata": {},
   "outputs": [
    {
     "name": "stdout",
     "output_type": "stream",
     "text": [
      "Class Distribution After Random Oversampling:\n",
      "Label\n",
      "0    950\n",
      "1    950\n",
      "Name: count, dtype: int64\n"
     ]
    }
   ],
   "source": [
    "from imblearn.over_sampling import RandomOverSampler\n",
    "\n",
    "ros = RandomOverSampler(random_state=42)\n",
    "X_resampled, y_resampled = ros.fit_resample(X, y)\n",
    "\n",
    "print(\"Class Distribution After Random Oversampling:\")\n",
    "print(pd.Series(y_resampled).value_counts())"
   ]
  },
  {
   "cell_type": "markdown",
   "metadata": {},
   "source": [
    "#### 3. SMOTE (Synthetic Minority Oversampling Technique)\n",
    "##### Generates synthetic samples for the minority class."
   ]
  },
  {
   "cell_type": "code",
   "execution_count": 15,
   "metadata": {},
   "outputs": [
    {
     "name": "stdout",
     "output_type": "stream",
     "text": [
      "Class Distribution After SMOTE:\n",
      "Label\n",
      "0    950\n",
      "1    950\n",
      "Name: count, dtype: int64\n"
     ]
    }
   ],
   "source": [
    "from imblearn.over_sampling import SMOTE\n",
    "\n",
    "smote = SMOTE(random_state=42)\n",
    "X_resampled, y_resampled = smote.fit_resample(X, y)\n",
    "\n",
    "print(\"Class Distribution After SMOTE:\")\n",
    "print(pd.Series(y_resampled).value_counts())"
   ]
  },
  {
   "cell_type": "markdown",
   "metadata": {},
   "source": [
    "#### 4. Class Weighting\n",
    "##### Use weighted loss functions during model training to handle imbalance."
   ]
  },
  {
   "cell_type": "code",
   "execution_count": 16,
   "metadata": {},
   "outputs": [
    {
     "name": "stdout",
     "output_type": "stream",
     "text": [
      "Classification Report with Class Weighting:\n",
      "              precision    recall  f1-score   support\n",
      "\n",
      "           0       0.98      0.99      0.99       285\n",
      "           1       0.82      0.60      0.69        15\n",
      "\n",
      "    accuracy                           0.97       300\n",
      "   macro avg       0.90      0.80      0.84       300\n",
      "weighted avg       0.97      0.97      0.97       300\n",
      "\n"
     ]
    }
   ],
   "source": [
    "from sklearn.ensemble import RandomForestClassifier\n",
    "from sklearn.model_selection import train_test_split\n",
    "from sklearn.metrics import classification_report\n",
    "\n",
    "X_train, X_test, y_train, y_test = train_test_split(X, y, test_size=0.3, random_state=42)\n",
    "\n",
    "clf = RandomForestClassifier(class_weight=\"balanced\", random_state=42)\n",
    "clf.fit(X_train, y_train)\n",
    "\n",
    "y_pred = clf.predict(X_test)\n",
    "print(\"Classification Report with Class Weighting:\")\n",
    "print(classification_report(y_test, y_pred))"
   ]
  },
  {
   "cell_type": "markdown",
   "metadata": {},
   "source": [
    "#### 5. Custom Sampling with a Pipeline\n",
    "##### Combining resampling and model training in a pipeline."
   ]
  },
  {
   "cell_type": "code",
   "execution_count": 17,
   "metadata": {},
   "outputs": [
    {
     "name": "stdout",
     "output_type": "stream",
     "text": [
      "Classification Report with SMOTE in Pipeline:\n",
      "              precision    recall  f1-score   support\n",
      "\n",
      "           0       1.00      0.97      0.98       285\n",
      "           1       0.61      0.93      0.74        15\n",
      "\n",
      "    accuracy                           0.97       300\n",
      "   macro avg       0.80      0.95      0.86       300\n",
      "weighted avg       0.98      0.97      0.97       300\n",
      "\n"
     ]
    }
   ],
   "source": [
    "from imblearn.pipeline import Pipeline\n",
    "\n",
    "pipeline = Pipeline([\n",
    "    (\"smote\", SMOTE(random_state=42)),\n",
    "    (\"classifier\", RandomForestClassifier(random_state=42)),\n",
    "])\n",
    "\n",
    "pipeline.fit(X_train, y_train)\n",
    "y_pred = pipeline.predict(X_test)\n",
    "\n",
    "print(\"Classification Report with SMOTE in Pipeline:\")\n",
    "print(classification_report(y_test, y_pred))"
   ]
  },
  {
   "cell_type": "markdown",
   "metadata": {},
   "source": [
    "#### 6. Threshold Adjustment\n",
    "##### Manually adjust the classification threshold based on probabilities."
   ]
  },
  {
   "cell_type": "code",
   "execution_count": 18,
   "metadata": {},
   "outputs": [
    {
     "name": "stdout",
     "output_type": "stream",
     "text": [
      "Classification Report with Threshold Adjustment:\n",
      "              precision    recall  f1-score   support\n",
      "\n",
      "           0       0.99      0.98      0.99       285\n",
      "           1       0.71      0.80      0.75        15\n",
      "\n",
      "    accuracy                           0.97       300\n",
      "   macro avg       0.85      0.89      0.87       300\n",
      "weighted avg       0.98      0.97      0.97       300\n",
      "\n"
     ]
    }
   ],
   "source": [
    "y_probs = clf.predict_proba(X_test)[:, 1]\n",
    "threshold = 0.3  # Example threshold\n",
    "y_pred_adjusted = (y_probs >= threshold).astype(int)\n",
    "\n",
    "print(\"Classification Report with Threshold Adjustment:\")\n",
    "print(classification_report(y_test, y_pred_adjusted))"
   ]
  },
  {
   "cell_type": "markdown",
   "metadata": {},
   "source": [
    "### Step 3: Evaluate the Impact\n",
    "#### Use metrics such as precision, recall, F1-score, and AUC-ROC to compare results. Visualizations can also help:"
   ]
  },
  {
   "cell_type": "code",
   "execution_count": 19,
   "metadata": {},
   "outputs": [
    {
     "data": {
      "image/png": "[encoded data removed]",
      "text/plain": [
       "<Figure size 640x480 with 1 Axes>"
      ]
     },
     "metadata": {},
     "output_type": "display_data"
    }
   ],
   "source": [
    "from sklearn.metrics import roc_curve, auc\n",
    "import matplotlib.pyplot as plt\n",
    "\n",
    "fpr, tpr, _ = roc_curve(y_test, y_probs)\n",
    "roc_auc = auc(fpr, tpr)\n",
    "\n",
    "plt.figure()\n",
    "plt.plot(fpr, tpr, color='darkorange', lw=2, label=f'ROC curve (area = {roc_auc:.2f})')\n",
    "plt.plot([0, 1], [0, 1], color='navy', lw=2, linestyle='--')\n",
    "plt.xlabel('False Positive Rate')\n",
    "plt.ylabel('True Positive Rate')\n",
    "plt.title('Receiver Operating Characteristic')\n",
    "plt.legend(loc=\"lower right\")\n",
    "plt.show()\n"
   ]
  }
 ],
 "metadata": {
  "kernelspec": {
   "display_name": "Python 3",
   "language": "python",
   "name": "python3"
  },
  "language_info": {
   "codemirror_mode": {
    "name": "ipython",
    "version": 3
   },
   "file_extension": ".py",
   "mimetype": "text/x-python",
   "name": "python",
   "nbconvert_exporter": "python",
   "pygments_lexer": "ipython3",
   "version": "3.12.4"
  }
 },
 "nbformat": 4,
 "nbformat_minor": 2
}
