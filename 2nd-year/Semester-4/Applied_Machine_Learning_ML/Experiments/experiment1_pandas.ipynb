{
 "cells": [
  {
   "cell_type": "code",
   "execution_count": 2,
   "metadata": {},
   "outputs": [],
   "source": [
    "import pandas as pd "
   ]
  },
  {
   "cell_type": "code",
   "execution_count": 5,
   "metadata": {},
   "outputs": [
    {
     "data": {
      "text/plain": [
       "0    4\n",
       "1    7\n",
       "2   -5\n",
       "3    3\n",
       "dtype: int64"
      ]
     },
     "execution_count": 5,
     "metadata": {},
     "output_type": "execute_result"
    }
   ],
   "source": [
    "obj = pd.Series([4, 7, -5, 3])\n",
    "obj"
   ]
  },
  {
   "cell_type": "code",
   "execution_count": 10,
   "metadata": {},
   "outputs": [
    {
     "name": "stdout",
     "output_type": "stream",
     "text": [
      "RangeIndex(start=0, stop=4, step=1)\n",
      "[ 4  7 -5  3]\n",
      "<class 'pandas.core.series.Series'>\n"
     ]
    }
   ],
   "source": [
    "print(obj.index)\n",
    "print(obj.values)\n",
    "print(type(obj))"
   ]
  },
  {
   "cell_type": "markdown",
   "metadata": {},
   "source": [
    "Series – referencing elements"
   ]
  },
  {
   "cell_type": "code",
   "execution_count": 14,
   "metadata": {},
   "outputs": [
    {
     "name": "stdout",
     "output_type": "stream",
     "text": [
      "d    4\n",
      "b    7\n",
      "a   -5\n",
      "c    3\n",
      "dtype: int64\n"
     ]
    }
   ],
   "source": [
    "obj2 = pd.Series([4, 7, -5, 3], index=['d', 'b', 'a', 'c'])\n",
    "print(obj2)"
   ]
  },
  {
   "cell_type": "code",
   "execution_count": 19,
   "metadata": {},
   "outputs": [
    {
     "name": "stdout",
     "output_type": "stream",
     "text": [
      "Index(['d', 'b', 'a', 'c'], dtype='object')\n",
      "[ 4  7 -5  3]\n",
      "-5\n",
      "d   -10\n",
      "c     3\n",
      "a    -5\n",
      "dtype: int64\n"
     ]
    }
   ],
   "source": [
    "print(obj2.index)\n",
    "print(obj2.values)\n",
    "print(obj2['a'])\n",
    "\n",
    "obj2['d'] = -10\n",
    "print(obj2[['d', 'c', 'a']])"
   ]
  },
  {
   "cell_type": "code",
   "execution_count": 24,
   "metadata": {},
   "outputs": [
    {
     "name": "stdout",
     "output_type": "stream",
     "text": [
      "-5\n",
      "-5\n",
      "d   -10\n",
      "b     7\n",
      "dtype: int64\n"
     ]
    }
   ],
   "source": [
    "print(obj2.a)\n",
    "print(obj2.get('a'))\n",
    "print(obj2[:2])"
   ]
  },
  {
   "cell_type": "markdown",
   "metadata": {},
   "source": [
    "Can be thought of as a dict. Can be constructed from a dict directly."
   ]
  },
  {
   "cell_type": "code",
   "execution_count": 26,
   "metadata": {},
   "outputs": [
    {
     "name": "stdout",
     "output_type": "stream",
     "text": [
      "d    4\n",
      "b    7\n",
      "a   -5\n",
      "c    3\n",
      "dtype: int64\n"
     ]
    }
   ],
   "source": [
    "obj3 = pd.Series({'d': 4, 'b': 7, 'a': -5, 'c':3 })\n",
    "print(obj3)"
   ]
  },
  {
   "cell_type": "markdown",
   "metadata": {},
   "source": [
    "numpy array operations can also be applied, which will preserve the index-value link"
   ]
  },
  {
   "cell_type": "code",
   "execution_count": 28,
   "metadata": {},
   "outputs": [
    {
     "name": "stdout",
     "output_type": "stream",
     "text": [
      "d    4\n",
      "b    7\n",
      "c    3\n",
      "dtype: int64\n"
     ]
    }
   ],
   "source": [
    "obj4 = obj3[obj3>0]\n",
    "print(obj4)"
   ]
  },
  {
   "cell_type": "code",
   "execution_count": 30,
   "metadata": {},
   "outputs": [
    {
     "name": "stdout",
     "output_type": "stream",
     "text": [
      "d    16\n",
      "b    49\n",
      "a    25\n",
      "c     9\n",
      "dtype: int64\n",
      "True\n"
     ]
    }
   ],
   "source": [
    "print(obj3**2)\n",
    "print('b' in obj3)"
   ]
  },
  {
   "cell_type": "markdown",
   "metadata": {},
   "source": [
    "Series – from dictionary"
   ]
  },
  {
   "cell_type": "code",
   "execution_count": 38,
   "metadata": {},
   "outputs": [
    {
     "name": "stdout",
     "output_type": "stream",
     "text": [
      "<class 'dict_keys'>\n",
      "<class 'list'>\n",
      "['Texas', 'Ohio', 'Oregon', 'Utah']\n"
     ]
    }
   ],
   "source": [
    "sdata = {'Texas': 10, 'Ohio': 20, 'Oregon': 15, 'Utah': 18}\n",
    "states = sdata.keys()\n",
    "print(type(states))\n",
    "states = list(sdata.keys())\n",
    "print(type(states))\n",
    "print(states)"
   ]
  },
  {
   "cell_type": "code",
   "execution_count": 40,
   "metadata": {},
   "outputs": [],
   "source": [
    "states = ['Texas', 'Ohio', 'Oregon', 'Iowa']\n",
    "obj4 = pd.Series(sdata, index = states)"
   ]
  },
  {
   "cell_type": "code",
   "execution_count": 43,
   "metadata": {},
   "outputs": [
    {
     "name": "stdout",
     "output_type": "stream",
     "text": [
      "Texas     10.0\n",
      "Ohio      20.0\n",
      "Oregon    15.0\n",
      "Iowa       NaN\n",
      "dtype: float64\n"
     ]
    }
   ],
   "source": [
    "print(obj4)"
   ]
  },
  {
   "cell_type": "markdown",
   "metadata": {},
   "source": [
    "You explicitly provided the states list as the index for the Series. The index determines which keys from the dictionary are included and in what order. Since 'Utah' is not in the states list, it is excluded. Additionally, 'Iowa' is in the states list but not in the sdata dictionary, so it is assigned a value of NaN (Not a Number) because no corresponding value exists in sdata."
   ]
  },
  {
   "cell_type": "code",
   "execution_count": 46,
   "metadata": {},
   "outputs": [
    {
     "name": "stdout",
     "output_type": "stream",
     "text": [
      "Texas     10\n",
      "Ohio      20\n",
      "Oregon    15\n",
      "Utah      18\n",
      "dtype: int64\n"
     ]
    }
   ],
   "source": [
    "sdata = {'Texas': 10, 'Ohio': 20, 'Oregon': 15, 'Utah': 18}\n",
    "obj4 = pd.Series(sdata)  # No explicit index, includes all keys from sdata\n",
    "print(obj4)"
   ]
  },
  {
   "cell_type": "code",
   "execution_count": 48,
   "metadata": {},
   "outputs": [
    {
     "name": "stdout",
     "output_type": "stream",
     "text": [
      "Texas     10.0\n",
      "Ohio      20.0\n",
      "Oregon    15.0\n",
      "Iowa       NaN\n",
      "Utah      18.0\n",
      "dtype: float64\n"
     ]
    }
   ],
   "source": [
    "states = ['Texas', 'Ohio', 'Oregon', 'Iowa', 'Utah']\n",
    "obj4 = pd.Series(sdata, index=states)\n",
    "print(obj4)"
   ]
  },
  {
   "cell_type": "code",
   "execution_count": 49,
   "metadata": {},
   "outputs": [
    {
     "name": "stdout",
     "output_type": "stream",
     "text": [
      "Texas     10.0\n",
      "Ohio      20.0\n",
      "Oregon    15.0\n",
      "Iowa       NaN\n",
      "dtype: float64\n"
     ]
    }
   ],
   "source": [
    "states = ['Texas', 'Ohio', 'Oregon', 'Iowa']\n",
    "obj4 = pd.Series(sdata, index = states)\n",
    "print(obj4)"
   ]
  },
  {
   "cell_type": "code",
   "execution_count": 50,
   "metadata": {},
   "outputs": [
    {
     "name": "stdout",
     "output_type": "stream",
     "text": [
      "Texas     False\n",
      "Ohio      False\n",
      "Oregon    False\n",
      "Iowa       True\n",
      "dtype: bool\n"
     ]
    }
   ],
   "source": [
    "print(pd.isnull(obj4))"
   ]
  },
  {
   "cell_type": "code",
   "execution_count": 51,
   "metadata": {},
   "outputs": [
    {
     "name": "stdout",
     "output_type": "stream",
     "text": [
      "Texas      True\n",
      "Ohio       True\n",
      "Oregon     True\n",
      "Iowa      False\n",
      "dtype: bool\n"
     ]
    }
   ],
   "source": [
    "print(pd.notnull(obj4))"
   ]
  },
  {
   "cell_type": "code",
   "execution_count": 52,
   "metadata": {},
   "outputs": [
    {
     "name": "stdout",
     "output_type": "stream",
     "text": [
      "Texas     10.0\n",
      "Ohio      20.0\n",
      "Oregon    15.0\n",
      "dtype: float64\n"
     ]
    }
   ],
   "source": [
    "print(obj4[obj4.notnull()])"
   ]
  },
  {
   "cell_type": "markdown",
   "metadata": {},
   "source": [
    "Series – auto alignment"
   ]
  },
  {
   "cell_type": "code",
   "execution_count": null,
   "metadata": {},
   "outputs": [],
   "source": []
  }
 ],
 "metadata": {
  "kernelspec": {
   "display_name": "base",
   "language": "python",
   "name": "python3"
  },
  "language_info": {
   "codemirror_mode": {
    "name": "ipython",
    "version": 3
   },
   "file_extension": ".py",
   "mimetype": "text/x-python",
   "name": "python",
   "nbconvert_exporter": "python",
   "pygments_lexer": "ipython3",
   "version": "3.12.4"
  }
 },
 "nbformat": 4,
 "nbformat_minor": 2
}
