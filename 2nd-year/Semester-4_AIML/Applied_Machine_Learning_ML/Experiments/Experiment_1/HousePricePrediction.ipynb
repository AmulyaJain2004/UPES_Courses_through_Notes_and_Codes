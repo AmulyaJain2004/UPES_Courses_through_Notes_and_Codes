{
 "cells": [
  {
   "cell_type": "markdown",
   "metadata": {},
   "source": [
    "## Applied Machine Learning\n",
    "### Assignment-I\n",
    "### Introductory Data Analysis Assignment\n",
    "\n",
    "Date of Submission: 20th January 2025\n",
    "\n",
    "    Submitted to:                           Submitted by:\n",
    "    Dr. Shresth Gupta                       Amulya Jain\n",
    "                                            B. Tech CSE AIML Batch 1\n",
    "                                            SAP Id: 500122439"
   ]
  },
  {
   "cell_type": "markdown",
   "metadata": {},
   "source": [
    "https://www.kaggle.com/code/heyrobin/house-price-prediction-beginner-s-notebook/notebook"
   ]
  },
  {
   "cell_type": "markdown",
   "metadata": {},
   "source": [
    "### **Step 1: Understand the Problem and Define Objectives**\n",
    "1. **Objective Clarification**:\n",
    "   - Predict house prices with high accuracy based on available features.\n",
    "   - Identify key features that drive pricing (e.g., location, size, amenities).\n",
    "   - Provide actionable insights for business decisions (e.g., pricing strategy, market trends).\n",
    "\n",
    "2. **Define Success Metrics**:\n",
    "   - Use metrics like Mean Absolute Error (MAE), Root Mean Square Error (RMSE), and R² for evaluation.\n",
    "   - Ensure the model is interpretable for business stakeholders.\n",
    "\n",
    "---"
   ]
  },
  {
   "cell_type": "markdown",
   "metadata": {},
   "source": [
    "### **Step 2: Data Collection**\n",
    "1. Gather data from reliable sources:\n",
    "   - **Internal Databases**: Company records, transaction data.\n",
    "   - **External Sources**: Real estate platforms, government property data, open data APIs.\n",
    "\n",
    "2. **Data Categories**:\n",
    "   - **Location**: ZIP codes, neighborhoods, proximity to key areas (e.g., schools, hospitals).\n",
    "   - **Property Characteristics**: Square footage, number of bedrooms/bathrooms, property type.\n",
    "   - **Amenities**: Pool, garage, garden, parking space.\n",
    "   - **Market Factors**: Historical price trends, market demand.\n",
    "\n",
    "---"
   ]
  },
  {
   "cell_type": "markdown",
   "metadata": {},
   "source": [
    "### **Step 3: Data Preprocessing**\n",
    "1. **Data Cleaning**:\n",
    "   - Handle missing values using appropriate strategies (e.g., mean/mode imputation or domain knowledge).\n",
    "   - Remove or correct outliers based on domain expertise.\n",
    "\n",
    "2. **Feature Encoding**:\n",
    "   - Convert categorical variables (e.g., location, property type) to numerical representations (e.g., one-hot encoding or target encoding).\n",
    "\n",
    "3. **Feature Scaling**:\n",
    "   - Normalize/standardize numerical features to ensure consistent scaling for distance-based algorithms.\n",
    "\n",
    "4. **Handle Class Imbalance (if applicable)**:\n",
    "   - If certain property types or locations dominate, balance the dataset using techniques like SMOTE or undersampling.\n",
    "\n",
    "---"
   ]
  },
  {
   "cell_type": "markdown",
   "metadata": {},
   "source": [
    "### **Step 4: Exploratory Data Analysis (EDA)**\n",
    "1. **Understand Feature Relationships**:\n",
    "   - Correlation analysis to identify features highly correlated with house prices.\n",
    "   - Visualization: Heatmaps, scatter plots, and box plots to analyze distribution.\n",
    "\n",
    "2. **Geospatial Analysis**:\n",
    "   - Use geospatial tools to map location-based trends.\n",
    "\n",
    "3. **Temporal Analysis**:\n",
    "   - Examine seasonal patterns and price fluctuations over time.\n",
    "\n",
    "4. **Feature Importance**:\n",
    "   - Use techniques like mutual information or permutation importance to rank key features.\n",
    "\n",
    "---"
   ]
  },
  {
   "cell_type": "markdown",
   "metadata": {},
   "source": [
    "### **Step 5: Feature Engineering**\n",
    "1. **Create New Features**:\n",
    "   - Distance to key locations (e.g., city center, schools).\n",
    "   - Age of property or renovation year.\n",
    "   - Interaction terms (e.g., size × location desirability).\n",
    "\n",
    "2. **Remove Redundant Features**:\n",
    "   - Perform feature selection using techniques like Lasso regularization or Recursive Feature Elimination (RFE).\n",
    "\n",
    "---"
   ]
  },
  {
   "cell_type": "markdown",
   "metadata": {},
   "source": [
    "### **Step 6: Model Selection and Development**\n",
    "1. **Baseline Model**:\n",
    "   - Start with simple models like Linear Regression or Decision Trees to establish a baseline.\n",
    "\n",
    "2. **Algorithm Selection**:\n",
    "   - **Simple Models**: Linear Regression, Ridge, Lasso for interpretability.\n",
    "   - **Complex Models**: Random Forests, Gradient Boosting (e.g., XGBoost, LightGBM), Neural Networks for improved accuracy.\n",
    "\n",
    "3. **Hyperparameter Tuning**:\n",
    "   - Use grid search or Bayesian optimization to tune hyperparameters.\n",
    "\n",
    "4. **Cross-Validation**:\n",
    "   - Perform k-fold cross-validation to ensure model robustness.\n",
    "\n",
    "---"
   ]
  },
  {
   "cell_type": "markdown",
   "metadata": {},
   "source": [
    "### **Step 7: Model Evaluation**\n",
    "1. **Evaluate Metrics**:\n",
    "   - MAE, RMSE for absolute error.\n",
    "   - R² for model fit quality.\n",
    "\n",
    "2. **Residual Analysis**:\n",
    "   - Plot residuals to check for patterns or model biases.\n",
    "\n",
    "3. **Comparison**:\n",
    "   - Compare different models based on performance metrics and interpretability.\n",
    "\n",
    "---"
   ]
  },
  {
   "cell_type": "markdown",
   "metadata": {},
   "source": [
    "### **Step 8: Deployment and Actionable Insights**\n",
    "1. **Deploy Model**:\n",
    "   - Use cloud platforms (e.g., AWS, GCP) to integrate the model into business applications.\n",
    "   - Monitor real-time predictions and retrain periodically.\n",
    "\n",
    "2. **Generate Insights**:\n",
    "   - Identify top features influencing prices for marketing or strategic focus.\n",
    "   - Detect undervalued properties or overpriced listings.\n",
    "\n",
    "3. **Communicate Findings**:\n",
    "   - Present results with clear visualizations and actionable recommendations tailored to business stakeholders.\n",
    "\n",
    "---"
   ]
  },
  {
   "cell_type": "markdown",
   "metadata": {},
   "source": [
    "### **Step 9: Continuous Monitoring and Improvement**\n",
    "1. **Monitor Model Performance**:\n",
    "   - Set up performance drift detection for the deployed model.\n",
    "\n",
    "2. **Update the Model**:\n",
    "   - Incorporate new data periodically to ensure relevance.\n",
    "\n",
    "3. **Refine Insights**:\n",
    "   - Revisit EDA and feature engineering as new trends emerge.\n",
    "\n",
    "---"
   ]
  },
  {
   "cell_type": "markdown",
   "metadata": {},
   "source": [
    "### **Tools and Technologies**\n",
    "1. **Data Preprocessing and EDA**:\n",
    "   - Python libraries: Pandas, NumPy, Matplotlib, Seaborn.\n",
    "   - Geospatial analysis: Geopandas, Folium.\n",
    "\n",
    "2. **Machine Learning**:\n",
    "   - Scikit-learn, XGBoost, LightGBM, TensorFlow/Keras.\n",
    "\n",
    "3. **Deployment**:\n",
    "   - Flask/FastAPI for APIs, Docker for containerization, cloud platforms (AWS, GCP).\n",
    "\n",
    "---\n",
    "\n",
    "This structured and iterative approach ensures accurate predictions, actionable insights, and long-term value to the firm."
   ]
  },
  {
   "cell_type": "code",
   "execution_count": 2,
   "metadata": {},
   "outputs": [
    {
     "name": "stdout",
     "output_type": "stream",
     "text": [
      "No                              int64\n",
      "transaction_date       datetime64[ns]\n",
      "house_age                     float64\n",
      "distance_to_MRT               float64\n",
      "convenience_stores              int64\n",
      "latitude                      float64\n",
      "longitude                     float64\n",
      "price_per_unit_area           float64\n",
      "dtype: object\n",
      "Houses sold per year:\n",
      "year\n",
      "2012    5\n",
      "2013    4\n",
      "dtype: int64\n",
      "\n",
      "Houses sold per month:\n",
      "month\n",
      "6     1\n",
      "7     2\n",
      "8     1\n",
      "9     2\n",
      "10    1\n",
      "12    2\n",
      "dtype: int64\n",
      "\n",
      "Houses sold per day:\n",
      "day\n",
      "1     5\n",
      "2     3\n",
      "31    1\n",
      "dtype: int64\n"
     ]
    }
   ],
   "source": [
    "import pandas as pd\n",
    "\n",
    "# Load the data into a DataFrame\n",
    "data = {\n",
    "    \"No\": [1, 2, 3, 4, 5, 6, 7, 8, 9],\n",
    "    \"transaction_date\": [\n",
    "        \"2012-12-01\", \"2012-12-01\", \"2013-08-01\",\n",
    "        \"2013-07-02\", \"2012-10-31\", \"2012-09-01\",\n",
    "        \"2012-09-01\", \"2013-06-02\", \"2013-07-02\"\n",
    "    ],\n",
    "    \"house_age\": [32.0, 19.5, 13.3, 13.3, 5.0, 7.1, 34.5, 20.3, 31.7],\n",
    "    \"distance_to_MRT\": [84.87882, 306.5947, 561.9845, 561.9845, 390.5684, 2175.03, 623.4731, 287.6025, 5512.038],\n",
    "    \"convenience_stores\": [10, 9, 5, 5, 5, 3, 7, 6, 1],\n",
    "    \"latitude\": [24.98298, 24.98034, 24.98746, 24.98746, 24.97937, 24.96305, 24.97933, 24.98042, 24.95095],\n",
    "    \"longitude\": [121.54024, 121.53951, 121.54391, 121.54391, 121.54245, 121.51254, 121.53642, 121.54228, 121.48458],\n",
    "    \"price_per_unit_area\": [37.9, 42.2, 47.3, 54.8, 43.1, 32.1, 40.3, 46.7, 18.8],\n",
    "}\n",
    "\n",
    "df = pd.DataFrame(data)\n",
    "\n",
    "# Convert 'transaction_date' to datetime format\n",
    "df['transaction_date'] = pd.to_datetime(df['transaction_date'])\n",
    "\n",
    "\n",
    "print(df.dtypes)\n",
    "\n",
    "# Extract year, month, and day from the date\n",
    "df['year'] = df['transaction_date'].dt.year\n",
    "df['month'] = df['transaction_date'].dt.month\n",
    "df['day'] = df['transaction_date'].dt.day\n",
    "\n",
    "# Group by year, month, and day\n",
    "houses_per_year = df.groupby('year').size()\n",
    "houses_per_month = df.groupby('month').size()\n",
    "houses_per_day = df.groupby('day').size()\n",
    "\n",
    "# Display the results\n",
    "print(\"Houses sold per year:\")\n",
    "print(houses_per_year)\n",
    "\n",
    "print(\"\\nHouses sold per month:\")\n",
    "print(houses_per_month)\n",
    "\n",
    "print(\"\\nHouses sold per day:\")\n",
    "print(houses_per_day)\n"
   ]
  },
  {
   "cell_type": "code",
   "execution_count": null,
   "metadata": {},
   "outputs": [],
   "source": [
    "correlation_matrix = numerical_features.corr()\n",
    "sns.heatmap(correlation_matrix, annot=True, cmap=\"coolwarm\")\n",
    "plt.title(f\"Correlation Matrix for dataset\")\n",
    "plt.show()"
   ]
  }
 ],
 "metadata": {
  "kernelspec": {
   "display_name": "base",
   "language": "python",
   "name": "python3"
  },
  "language_info": {
   "codemirror_mode": {
    "name": "ipython",
    "version": 3
   },
   "file_extension": ".py",
   "mimetype": "text/x-python",
   "name": "python",
   "nbconvert_exporter": "python",
   "pygments_lexer": "ipython3",
   "version": "3.12.4"
  }
 },
 "nbformat": 4,
 "nbformat_minor": 2
}
