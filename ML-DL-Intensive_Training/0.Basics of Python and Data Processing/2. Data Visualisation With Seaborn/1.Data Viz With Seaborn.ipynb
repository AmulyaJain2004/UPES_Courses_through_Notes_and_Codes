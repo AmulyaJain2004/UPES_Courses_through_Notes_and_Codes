{
 "cells": [
  {
   "cell_type": "code",
   "execution_count": null,
   "id": "7eb8a964-ebfa-4b5e-9e52-106eaf803a95",
   "metadata": {},
   "outputs": [],
   "source": [
    "import seaborn as sns\n",
    "import  matplotlib.pyplot as plt\n",
    "import pandas as pd\n",
    "import warnings\n",
    "warnings.filterwarnings('ignore')"
   ]
  },
  {
   "cell_type": "markdown",
   "id": "067694c1",
   "metadata": {},
   "source": [
    "matplotlib is the original visualisation package in python . seaborn builds on top of that and uses custom class written internally to abstract away a lot of what you will need to manually code in matplotlib. We will use components from both packages to build our visualisations .\n",
    "\n",
    "first we will look at how we can control different parts of the visual frame with matplotlib and seaborn functions and attribute and we will get to data specific visualisation . Using the control of visual frame in context of those plots has been something your can practice .\n",
    "\n",
    "Also know that there are tons of possibilities , we will focus on covering visualising data of different kind and their combinations in our context . If you want to explore any specific kind of visual that you might have seen somewhere; it might require a ton of customisation, we can explore that offline over email aside from the in-class discussion. "
   ]
  },
  {
   "cell_type": "markdown",
   "id": "fbaebfcf",
   "metadata": {},
   "source": [
    "# Color Palettes\n",
    "\n",
    "seaborn has multiple color palettes that you can use . lets start with looking at default color palette "
   ]
  },
  {
   "cell_type": "code",
   "execution_count": null,
   "id": "7a7219df",
   "metadata": {},
   "outputs": [],
   "source": [
    "sns.palplot(sns.color_palette())"
   ]
  },
  {
   "cell_type": "markdown",
   "id": "e17e0bba",
   "metadata": {},
   "source": [
    "you can find documentation on all available palettes in seaborn here [dont get bogged down by so many available options there , you can do all of what we are going to do with default palette also ]\n",
    "\n",
    "https://www.practicalpythonfordatascience.com/ap_seaborn_palette"
   ]
  },
  {
   "cell_type": "markdown",
   "id": "34ccb1bd",
   "metadata": {},
   "source": [
    "lets quickly discuss how to create a custom palette apart from the ones available already in seaborn . You can use hexadecimal codes for colors. \n",
    "\n",
    "you can find reference for hexadecimal codes for colors here : https://htmlcolorcodes.com"
   ]
  },
  {
   "cell_type": "code",
   "execution_count": null,
   "id": "b5cc8235",
   "metadata": {},
   "outputs": [],
   "source": [
    "palette = [\"#F72585\", \"#7209B7\", \"#3A0CA3\", \"#4361EE\", \"#4CC9F0\"]\n",
    "# once you have created your palette you can use sns.set_palette to make it default for the rest of your notebook\n",
    "# also you can as many colors as you want "
   ]
  },
  {
   "cell_type": "code",
   "execution_count": null,
   "id": "b67efe5d",
   "metadata": {},
   "outputs": [],
   "source": [
    "sns.set_palette(palette)\n",
    "# you can use this to set palette to other available palettes in seaborn \n",
    "# for example : sns.set_palette(sns.color_palette('pastel')) will set the palette to pastel palette as you might \n",
    "# have seen in the palette link shared earlier "
   ]
  },
  {
   "cell_type": "code",
   "execution_count": null,
   "id": "60d91014",
   "metadata": {},
   "outputs": [],
   "source": [
    "sns.palplot(sns.color_palette())\n",
    "# these are the colors that we selected in our color palette with hexadecimal codes earlier \n",
    "# feel free to whatever colors you want to work with "
   ]
  },
  {
   "cell_type": "markdown",
   "id": "d7fbce65",
   "metadata": {},
   "source": [
    "Here is a good discussion on how to choose colors : https://seaborn.pydata.org/tutorial/color_palettes.html#general-principles-for-using-color-in-plots"
   ]
  },
  {
   "cell_type": "markdown",
   "id": "b9519329",
   "metadata": {},
   "source": [
    "# Stlying and Customising a Visual with matplotlib.pyplot"
   ]
  },
  {
   "cell_type": "code",
   "execution_count": null,
   "id": "fb81cdd2",
   "metadata": {},
   "outputs": [],
   "source": [
    "# note that we have imported matplotlib.pyplot as plt and we will be using that alias"
   ]
  },
  {
   "cell_type": "code",
   "execution_count": null,
   "id": "d92e52b3",
   "metadata": {},
   "outputs": [],
   "source": [
    "# lets read some data to visualise first\n",
    "bd=pd.read_csv(r'./bd_train.csv')"
   ]
  },
  {
   "cell_type": "markdown",
   "id": "4eca2874",
   "metadata": {},
   "source": [
    "we are going to create a simple countplot for different job categories present in our data. and with that we will explore in what all ways we can do some easy customisation. Lets start with default catplot."
   ]
  },
  {
   "cell_type": "code",
   "execution_count": null,
   "id": "251c91df",
   "metadata": {},
   "outputs": [],
   "source": [
    "bd.head()"
   ]
  },
  {
   "cell_type": "code",
   "execution_count": null,
   "id": "49f8c881",
   "metadata": {},
   "outputs": [],
   "source": [
    "sns.catplot(x='occupation', data=bd,kind='count')"
   ]
  },
  {
   "cell_type": "markdown",
   "id": "5e039776",
   "metadata": {},
   "source": [
    "There is a lot we can do to make this look better. Lets do that and in process learn about customisation options available in seaborn "
   ]
  },
  {
   "cell_type": "code",
   "execution_count": null,
   "id": "c5aaffe6",
   "metadata": {},
   "outputs": [],
   "source": [
    "# There are five preset seaborn themes: `darkgrid`, `whitegrid`, `dark`, `white`, and `ticks`.\n",
    "# They are each suited to different applications and personal preferences. \n",
    "\n",
    "sns.set_style('whitegrid')\n",
    "\n",
    "sns.catplot(x='occupation', data=bd,kind='count')\n",
    "\n",
    "# set axes labels\n",
    "plt.xlabel(\"Job Category \")\n",
    "plt.ylabel(\"Number of People in Each Category\")\n",
    "\n",
    "plt.show()"
   ]
  },
  {
   "cell_type": "markdown",
   "id": "b8c95994",
   "metadata": {},
   "source": [
    "Note that we first create the plot with seaborn and then plt object from matplotlib to modify different aspects of the visualisation"
   ]
  },
  {
   "cell_type": "code",
   "execution_count": null,
   "id": "1fc3c059",
   "metadata": {},
   "outputs": [],
   "source": [
    "sns.set_style('whitegrid')\n",
    "\n",
    "# Reorder the categories on x axes\n",
    "# we are using here order driven by descending frequencies which we can calculate with value_counts \n",
    "# but you can pass custom order also\n",
    "\n",
    "\n",
    "cat_order=list(bd['occupation'].value_counts().index)\n",
    "\n",
    "# you can also pass your own color palette , different from the set palette or default palette\n",
    "\n",
    "my_palette=[\"#003f5c\", \"#2f4b7c\", \"#665191\", \"#a05195\", \"#d45087\", \"#f95d6a\", \"#ff7c43\", \"#ffa600\", \"#58508d\"]\n",
    "\n",
    "\n",
    "sns.catplot(x='occupation', data=bd,kind='count',order=cat_order,palette=my_palette)\n",
    "\n",
    "# set axes labels\n",
    "plt.xlabel(\"Job Category \")\n",
    "plt.ylabel(\"Number of People in Each Category\")\n",
    "\n",
    "# rotate xticks to make them readable \n",
    "\n",
    "plt.xticks(rotation=45,rotation_mode='anchor',ha='right')\n",
    "# try removing each of those inputs and see what it does to your plot\n",
    "\n",
    "# Put Title to the chart \n",
    "\n",
    "plt.title('Job Categories')\n",
    "\n",
    "plt.show()\n"
   ]
  },
  {
   "cell_type": "markdown",
   "id": "815da943",
   "metadata": {},
   "source": [
    "matplotlib is a powerful low level library and plt object here comes with a ton of other options to customise things . Keep in mind that not all option will make sense in context of all kind of visualisation . For example order categories will not fit with scenario of working with just numeric data.\n",
    "\n",
    "Other notable customisation options available with plt here [its not an exhaustive list ] \n",
    "\n",
    "`plt.xlim,plt.ylim` : control ranges of x and y axes in case of numeric data <br />\n",
    "`plt.legend` : add legend to chart <br />\n",
    "`plt.annotate` : to add annotation to your chart <br />\n",
    "`plt.figure` : to control different aspect of the figure like figure size , resolution etc <br />\n",
    "\n",
    "there is a long list of such options. \n",
    "\n",
    "You can also explore more arguments available in the option shown earlier , for example setting font and font size in `xlabel` . \n",
    "\n",
    "Lets now get started with what kind of visualisation we will use in context of different kind of data. Lets go!"
   ]
  },
  {
   "cell_type": "markdown",
   "id": "3e354339",
   "metadata": {},
   "source": [
    "# Numeric Data"
   ]
  },
  {
   "cell_type": "markdown",
   "id": "cabcd7b3",
   "metadata": {},
   "source": [
    "For a single numeric column , visualising individual values doesnt serve any purpose. Visualisation is supposed to be a visual summary of the data. Visual summary of a numeric column gives you an idea of frequency distribution of the values . If we go about looking at frequency of individual values , that might not be very informative either because numeric columns have too many unique values. A more informative way is to first make sequential bins of the values across range of numeric column and then see how many values lie in those bins visually . \n",
    "\n",
    "For example a numeric feature like age can broken to bins such as 0-5 , 5-10 , 10-15 and so on; seaborn does this internally for numeric features depending on the values that it see in data column. \n",
    "\n",
    "This visual representation of frequency in sequential bins is called a `histogram` and is used for single numeric columns . we will be using function `sns.displot` . There is no default number of bins , bin width is calculated using $2*\\frac{IQR}{\\sqrt[3]{n}}$ where $n$ is number of obs in the data. Number of bins then will be approximately range of column divided by the bin width."
   ]
  },
  {
   "cell_type": "code",
   "execution_count": null,
   "id": "a09387e4",
   "metadata": {},
   "outputs": [],
   "source": [
    "sns.displot(x='Investment.in.Derivative',data=bd)\n",
    "plt.xlim(left=0,right=400)\n",
    "plt.show()"
   ]
  },
  {
   "cell_type": "code",
   "execution_count": null,
   "id": "5b5732d7",
   "metadata": {},
   "outputs": [],
   "source": [
    "# you can control number of bins and thus make the bin ranges finer or coarser\n",
    "# option kind='hist' generates histograms with function displot\n",
    "\n",
    "sns.displot(x='Investment.in.Derivative',data=bd,kind='hist',bins=100)\n",
    "plt.xlim(left=0,right=400)\n",
    "plt.show()\n",
    "\n",
    "# note that as you change number of bins, y-axis which is showing count will change limits\n",
    "# understandably if the bin width is higher , the count will be higher too"
   ]
  },
  {
   "cell_type": "markdown",
   "id": "e20ce0fd",
   "metadata": {},
   "source": [
    "Sometimes you might want to see this as rather a density curve. At this level you can imagine density curve to be a line joining top of the bins of the histogram. Its a very simplified way to look at density curve but for now this will sufice. By default on the y-axis you will have proportion of the data instead of raw frequency. You can get density curve by setting `kind='kde'` . option `bins` isnt required with this. "
   ]
  },
  {
   "cell_type": "code",
   "execution_count": null,
   "id": "736b0939",
   "metadata": {},
   "outputs": [],
   "source": [
    "sns.displot(x='Investment.in.Derivative',data=bd,kind='kde')\n",
    "plt.xlim(left=0,right=400)\n",
    "plt.show()"
   ]
  },
  {
   "cell_type": "markdown",
   "id": "5a464bde",
   "metadata": {},
   "source": [
    "with the same function you can also get a cumulative frequency curve, where the cumulation [summation of proportions] happens in ascending manner over range of the data column. You can get that with option `kind='ecdf'`"
   ]
  },
  {
   "cell_type": "code",
   "execution_count": null,
   "id": "ddacb2c1",
   "metadata": {},
   "outputs": [],
   "source": [
    "sns.displot(x='Investment.in.Derivative',data=bd,kind='ecdf')\n",
    "plt.xlim(left=0,right=400)\n",
    "plt.show()"
   ]
  },
  {
   "cell_type": "markdown",
   "id": "93534b6d",
   "metadata": {},
   "source": [
    "Another popular visualisation for single numeric columns is `boxplot` . Boxplot has three components \n",
    "\n",
    "* box in the middle : has three lines along the length for Q1, Q2 [median] and Q3 \n",
    "* whiskers : They extend to on higher side to either Q3 + 1.5*IQR , or the max value in the data whichever is smaller. Similarly on the lower side they extend to Q3 - 1.5*IQR , or the minimum value in the data whichever comes first . This in a way tries to show default majority population range , any values which exceeds these limits is shown separately and can be considered extreme in comparison to rest of the population \n",
    "* extreme values : if any value exceeds these limits [Q1-1.5*IQR , Q3+1.5*IQR] it is displayed individiually \n",
    "\n",
    "Note that an extreme value or an outlier is not necessarily useless. It is an important piece of information especially for long tailed processes where these values occur naturally just not as often and hence get termed as extreme"
   ]
  },
  {
   "cell_type": "code",
   "execution_count": null,
   "id": "d6280d44",
   "metadata": {},
   "outputs": [],
   "source": [
    "ld=pd.read_csv(r'./loan_data_train.csv')"
   ]
  },
  {
   "cell_type": "code",
   "execution_count": null,
   "id": "2a8f80b7",
   "metadata": {},
   "outputs": [],
   "source": [
    "ld['Amount.Requested']=pd.to_numeric(ld['Amount.Requested'],errors='coerce')"
   ]
  },
  {
   "cell_type": "code",
   "execution_count": null,
   "id": "b3e9248b",
   "metadata": {},
   "outputs": [],
   "source": [
    "sns.boxplot(y='Amount.Requested',data=ld)"
   ]
  },
  {
   "cell_type": "markdown",
   "id": "ca230e2c",
   "metadata": {},
   "source": [
    "Note that boxplots for columns where the distribution of values is very skewed to one side will look peculiar with very thin box and long whisker and a large number of values will show as extreme.\n",
    "\n",
    "There are some variations of boxplot which you can explore : `striplot` , `swarmplot` , `violin plot` etc \n",
    "\n",
    "Remember that visualisations are used to tell your story in an appealing manner. Your choices will not only be driven by what you prefer but also by what makes sense to your intended audience. While we are learning this, its ok to look at many possibilities. But in your work, use visualisation as a communication tool , dont make visualisations for the sake of it, consider how they fit in your data story . "
   ]
  },
  {
   "cell_type": "markdown",
   "id": "01d10f74",
   "metadata": {},
   "source": [
    "# Categorical Data"
   ]
  },
  {
   "cell_type": "markdown",
   "id": "693c76d0",
   "metadata": {},
   "source": [
    "The default go to option here is the count plot that we saw earlier when learning about customisation of different aspect of your chart . Lets do that [without the customisation] for another data column ."
   ]
  },
  {
   "cell_type": "code",
   "execution_count": null,
   "id": "543b9123",
   "metadata": {},
   "outputs": [],
   "source": [
    "sns.catplot(x='Home.Ownership',data=ld,kind='count')\n",
    "\n",
    "# experiment with customising this as we did earlier "
   ]
  },
  {
   "cell_type": "markdown",
   "id": "992e5a8e",
   "metadata": {},
   "source": [
    "there is no direct function for pie charts in seaborn , however we can use `plt` for that "
   ]
  },
  {
   "cell_type": "code",
   "execution_count": null,
   "id": "3fd91247",
   "metadata": {},
   "outputs": [],
   "source": [
    "ld['Employment.Length'].value_counts()"
   ]
  },
  {
   "cell_type": "code",
   "execution_count": null,
   "id": "dca671f4",
   "metadata": {},
   "outputs": [],
   "source": [
    "sns.set_palette(sns.color_palette('GnBu',12)) \n",
    "\n",
    "# by default each palette has 10 distinct colors , which you increase as per your data\n",
    "k=ld['Employment.Length'].value_counts()\n",
    "count=k.values\n",
    "categories=k.index\n",
    "\n",
    "# to move some of the categories pieces of pie to move out, its not mandatory though\n",
    "explode=[0]*12 # there are 12 categories \n",
    "explode[1]=0.1 # we want to make 2nd position count to stand out\n",
    "\n",
    "plt.pie(count,labels=categories,labeldistance=1.1,explode=explode)\n",
    "\n",
    "plt.show()"
   ]
  },
  {
   "cell_type": "markdown",
   "id": "1ad43dfb",
   "metadata": {},
   "source": [
    "# Combinations of Data"
   ]
  },
  {
   "cell_type": "markdown",
   "id": "a88504e4",
   "metadata": {},
   "source": [
    "when you are looking at a combination of numeric numeric column, we make scatter plot or joint density plot where x and y axes represent two numeric feautures "
   ]
  },
  {
   "cell_type": "code",
   "execution_count": null,
   "id": "fee596ef",
   "metadata": {},
   "outputs": [],
   "source": [
    "url = \"https://archive.ics.uci.edu/ml/machine-learning-databases/auto-mpg/auto-mpg.data\"\n",
    "\n",
    "# Column names for the dataset\n",
    "column_names = ['mpg', 'cylinders', 'displacement', 'horsepower', 'weight', 'acceleration', 'model year', 'origin', 'car name']\n",
    "\n",
    "# Load the dataset\n",
    "cars = pd.read_csv(url, names=column_names, delim_whitespace=True, na_values='?')\n"
   ]
  },
  {
   "cell_type": "markdown",
   "id": "1c04468d",
   "metadata": {},
   "source": [
    "you can use displot to create that however relplot is more versatile. lets look at displot first"
   ]
  },
  {
   "cell_type": "code",
   "execution_count": null,
   "id": "77fa6f4b",
   "metadata": {},
   "outputs": [],
   "source": [
    "sns.set_palette(sns.color_palette('Dark2'))\n",
    "sns.displot(x='weight',y='horsepower',data=cars,kind='kde')"
   ]
  },
  {
   "cell_type": "code",
   "execution_count": null,
   "id": "2012f583",
   "metadata": {},
   "outputs": [],
   "source": [
    "sns.relplot(x='weight',y='horsepower',data=cars,kind='scatter')"
   ]
  },
  {
   "cell_type": "markdown",
   "id": "f2b0f4e5",
   "metadata": {},
   "source": [
    "you can bring in other factors in this from the data using color, size etc. Lets see"
   ]
  },
  {
   "cell_type": "code",
   "execution_count": null,
   "id": "b2ba1cb9",
   "metadata": {},
   "outputs": [],
   "source": [
    "cars.head()"
   ]
  },
  {
   "cell_type": "code",
   "execution_count": null,
   "id": "c95a0bd5",
   "metadata": {},
   "outputs": [],
   "source": [
    "sns.relplot(x='weight',y='horsepower',data=cars,kind='scatter',hue='origin')"
   ]
  },
  {
   "cell_type": "markdown",
   "id": "8eda95de",
   "metadata": {},
   "source": [
    "you create facets , row and columns of plot where data gets subsetted on categories of specified columns in row and col argument"
   ]
  },
  {
   "cell_type": "code",
   "execution_count": null,
   "id": "299ebf0b",
   "metadata": {},
   "outputs": [],
   "source": [
    "ld.head()"
   ]
  },
  {
   "cell_type": "code",
   "execution_count": null,
   "id": "d07d7964",
   "metadata": {},
   "outputs": [],
   "source": [
    "ld['fico']=ld['FICO.Range'].str.split('-',expand=True).astype(int).mean(axis=1)\n",
    "ld['Interest.Rate']=pd.to_numeric(ld['Interest.Rate'].str.replace('%',''),errors='coerce')"
   ]
  },
  {
   "cell_type": "code",
   "execution_count": null,
   "id": "30f656d9",
   "metadata": {},
   "outputs": [],
   "source": [
    "ld_sub=ld[ld['Loan.Length'].isin(['60 months', '36 months']) & ld['Home.Ownership'].isin(['MORTGAGE','OWN','RENT'])]"
   ]
  },
  {
   "cell_type": "code",
   "execution_count": null,
   "id": "b5aa7558",
   "metadata": {},
   "outputs": [],
   "source": [
    "sns.relplot(x='fico',y='Interest.Rate',data=ld_sub,kind='scatter',row='Loan.Length',col='Home.Ownership')"
   ]
  },
  {
   "cell_type": "markdown",
   "id": "d54433e3",
   "metadata": {},
   "source": [
    "if you want to visualise relationship , you can use `kind='line'`"
   ]
  },
  {
   "cell_type": "code",
   "execution_count": null,
   "id": "76d28f83",
   "metadata": {},
   "outputs": [],
   "source": [
    "sns.relplot(x='fico',y='Interest.Rate',data=ld_sub,kind='line',row='Loan.Length',col='Home.Ownership')"
   ]
  },
  {
   "cell_type": "markdown",
   "id": "65ecf798",
   "metadata": {},
   "source": [
    "You can visualise multiple columns with function `pairplot`"
   ]
  },
  {
   "cell_type": "code",
   "execution_count": null,
   "id": "0cc12a0a",
   "metadata": {},
   "outputs": [],
   "source": [
    "cars.columns"
   ]
  },
  {
   "cell_type": "code",
   "execution_count": null,
   "id": "984b3975",
   "metadata": {},
   "outputs": [],
   "source": [
    "cars_sub=cars[['mpg', 'cylinders', 'displacement', 'horsepower', 'weight',\n",
    "       'acceleration']]"
   ]
  },
  {
   "cell_type": "code",
   "execution_count": null,
   "id": "6452c620",
   "metadata": {},
   "outputs": [],
   "source": [
    "sns.set_palette('PuOr')\n",
    "\n",
    "sns.pairplot(cars_sub)"
   ]
  },
  {
   "cell_type": "code",
   "execution_count": null,
   "id": "478a3bf5",
   "metadata": {},
   "outputs": [],
   "source": [
    "sns.pairplot(cars_sub,kind='kde')"
   ]
  },
  {
   "cell_type": "code",
   "execution_count": null,
   "id": "151b9039",
   "metadata": {},
   "outputs": [],
   "source": [
    "sns.pairplot(cars_sub,kind='kde',corner=True)"
   ]
  },
  {
   "cell_type": "markdown",
   "id": "be15246d",
   "metadata": {},
   "source": [
    "here also you can use argument `hue` to show additional categorical factor subsetting in the data\n",
    "\n",
    "for visualising effect of a categorical column on single numeric column, we can  create single column numeric visualisations across the categories "
   ]
  },
  {
   "cell_type": "code",
   "execution_count": null,
   "id": "764933f7",
   "metadata": {},
   "outputs": [],
   "source": [
    "sns.boxplot(x='cylinders',y='mpg',data=cars)"
   ]
  },
  {
   "cell_type": "code",
   "execution_count": null,
   "id": "9740f274",
   "metadata": {},
   "outputs": [],
   "source": [
    "sns.catplot(x='cylinders',y='mpg',data=cars,kind='bar')"
   ]
  },
  {
   "cell_type": "code",
   "execution_count": null,
   "id": "61ae71aa",
   "metadata": {},
   "outputs": [],
   "source": [
    "sns.catplot(x='cylinders',y='mpg',data=cars,kind='point')"
   ]
  },
  {
   "cell_type": "code",
   "execution_count": null,
   "id": "605dd540",
   "metadata": {},
   "outputs": [],
   "source": [
    "sns.set_palette('tab10')\n",
    "sns.displot(hue='Home.Ownership',x='fico',data=ld_sub,kind='kde')"
   ]
  },
  {
   "cell_type": "markdown",
   "id": "f750fda3",
   "metadata": {},
   "source": [
    "We will conclude for now , there are many context specific visualisation that we will come across later in the course , for example : time series data , text data. \n",
    "\n",
    "those who are interested in geospatial data, this seems like a good place to start : https://sustainability-gis.readthedocs.io/en/latest/lessons/L1/intro-to-python-geostack.html"
   ]
  }
 ],
 "metadata": {
  "kernelspec": {
   "display_name": "Python 3 (ipykernel)",
   "language": "python",
   "name": "python3"
  },
  "language_info": {
   "codemirror_mode": {
    "name": "ipython",
    "version": 3
   },
   "file_extension": ".py",
   "mimetype": "text/x-python",
   "name": "python",
   "nbconvert_exporter": "python",
   "pygments_lexer": "ipython3",
   "version": "3.10.9"
  }
 },
 "nbformat": 4,
 "nbformat_minor": 5
}
