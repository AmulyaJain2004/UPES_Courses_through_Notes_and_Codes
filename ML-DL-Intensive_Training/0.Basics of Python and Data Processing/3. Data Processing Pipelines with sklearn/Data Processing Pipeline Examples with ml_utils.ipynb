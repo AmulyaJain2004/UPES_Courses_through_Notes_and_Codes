{
 "cells": [
  {
   "cell_type": "code",
   "execution_count": null,
   "id": "eb26401a",
   "metadata": {},
   "outputs": [],
   "source": [
    "import pandas as pd\n",
    "import numpy as np\n",
    "import warnings\n",
    "warnings.filterwarnings('ignore')\n",
    "import ml_utils as mt"
   ]
  },
  {
   "cell_type": "code",
   "execution_count": null,
   "id": "fef0a90e",
   "metadata": {},
   "outputs": [],
   "source": [
    "ld_train=pd.read_csv(\"./loan_data_train.csv\")"
   ]
  },
  {
   "cell_type": "code",
   "execution_count": null,
   "id": "2a53dbbb",
   "metadata": {},
   "outputs": [],
   "source": [
    "#Explore individual columns in the data to figure out rationale behind the decisions taken here \n",
    "# [except the ones present in ignore group]\n",
    "\n",
    "# Ignore : 'Interest.Rate', 'Amount.Funded.By.Investors','ID'\n",
    "\n",
    "# Amount.Requested : convert to numeric , impute missing values \n",
    "# Open.CREDIT.Lines: convert to numeric , impute missing values \n",
    "# Revolving.CREDIT.Balance : convert to numeric , impute missing values \n",
    "\n",
    "\n",
    "# Loan.Length : impute missing , create dummies \n",
    "# Loan.Purpose : impute missing , create dummies \n",
    "# Home.Ownership : impute missing , create dummies \n",
    "# State : impute missing , create dummies \n",
    "\n",
    "# Debt.To.Income.Ratio : custom func , impute missing \n",
    "# FICO.Range : custom func , impute missing \n",
    "# Employment.Length : custom func , impute missing \n",
    "\n",
    "# Monthly.Income : impute missing \n",
    "# Inquiries.in.the.Last.6.Months : impute missing "
   ]
  },
  {
   "cell_type": "markdown",
   "id": "9dc12a8c",
   "metadata": {},
   "source": [
    "## Custom Function for columns containing numeric information but require string process to extract that infomation"
   ]
  },
  {
   "cell_type": "code",
   "execution_count": null,
   "id": "026d269d",
   "metadata": {},
   "outputs": [],
   "source": [
    "ld_train['Debt.To.Income.Ratio'].head()"
   ]
  },
  {
   "cell_type": "code",
   "execution_count": null,
   "id": "d19fa40f",
   "metadata": {},
   "outputs": [],
   "source": [
    "def dtr(orig_col):\n",
    "    \n",
    "    mod_col=orig_col.str.replace('%','')\n",
    "    mod_col=pd.to_numeric(mod_col,errors='coerce')\n",
    "    \n",
    "    return mod_col\n",
    "    "
   ]
  },
  {
   "cell_type": "code",
   "execution_count": null,
   "id": "103fcd02",
   "metadata": {},
   "outputs": [],
   "source": [
    "ld_train['FICO.Range'].value_counts(dropna=False)"
   ]
  },
  {
   "cell_type": "code",
   "execution_count": null,
   "id": "429447a1",
   "metadata": {},
   "outputs": [],
   "source": [
    "def fico(orig_col):\n",
    "    k=orig_col.str.split('-',expand=True)\n",
    "    \n",
    "    for i in [0,1]:\n",
    "        k[i]=pd.to_numeric(k[i],errors='coerce')\n",
    "    \n",
    "    mod_col=0.5*(k[0]+k[1])\n",
    "    \n",
    "    return mod_col\n",
    "    "
   ]
  },
  {
   "cell_type": "code",
   "execution_count": null,
   "id": "40d342fa",
   "metadata": {},
   "outputs": [],
   "source": [
    "ld_train['Employment.Length'].value_counts(dropna=False)"
   ]
  },
  {
   "cell_type": "code",
   "execution_count": null,
   "id": "cc583d77",
   "metadata": {},
   "outputs": [],
   "source": [
    "def el(orig_col):\n",
    "    \n",
    "    inter_col=orig_col.str.replace('10+ years','10',regex=False)\n",
    "    inter_col=inter_col.str.replace('< 1 year','0',regex=False)\n",
    "    inter_col=inter_col.str.replace('years','').str.replace('year','')\n",
    "    \n",
    "    mod_col=pd.to_numeric(inter_col,errors='coerce')\n",
    "    \n",
    "    return mod_col\n"
   ]
  },
  {
   "cell_type": "markdown",
   "id": "3eb3b645",
   "metadata": {},
   "source": [
    "All you need to do to use `DataPipe` class in `ml_utils` is to group these columns names in a list and pass them to appropriate arguments to the class . Rest is all handled internally. Do go through source code for `ml_utils` if you want to make changes or experiment with writing your own versions of these steps or if you need to add something more .\n",
    "\n",
    "Note that equivalent classes do exist in `sklearn` as well, `ml_utils` simply exists as an exercise in writing custom classes and bring in customizability wherever its not available in `sklearn` implementations."
   ]
  },
  {
   "cell_type": "code",
   "execution_count": null,
   "id": "f9b0c8ed",
   "metadata": {},
   "outputs": [],
   "source": [
    "cat_to_dummies_cols=['Loan.Length','Loan.Purpose','State','Home.Ownership']\n",
    "# groups of columns for which we need to create dummies \n",
    "cat_to_num_cols=['Amount.Requested','Open.CREDIT.Lines','Revolving.CREDIT.Balance']\n",
    "# columns which contain numeric info but only require simple typecasting\n",
    "simple_num_cols=['Monthly.Income','Inquiries.in.the.Last.6.Months']\n",
    "# columns which are all ready numeric and contain numeric information\n",
    "custom_func_dict_cols={'Debt.To.Income.Ratio':dtr,'FICO.Range':fico,'Employment.Length':el}\n",
    "# columns which require custom processing to extract numeric information from the data"
   ]
  },
  {
   "cell_type": "code",
   "execution_count": null,
   "id": "bb0f6107",
   "metadata": {},
   "outputs": [],
   "source": [
    "ld_pipe=mt.DataPipe(cat_to_dummies=cat_to_dummies_cols,\n",
    "                 cat_to_num=cat_to_num_cols,\n",
    "                 simple_num=simple_num_cols,\n",
    "                 custom_func_dict=custom_func_dict_cols)"
   ]
  },
  {
   "cell_type": "code",
   "execution_count": null,
   "id": "4c5d0720",
   "metadata": {},
   "outputs": [],
   "source": [
    "ld_pipe.fit(ld_train)"
   ]
  },
  {
   "cell_type": "code",
   "execution_count": null,
   "id": "6bd77fb8",
   "metadata": {},
   "outputs": [],
   "source": [
    "x_train=ld_pipe.transform(ld_train)"
   ]
  },
  {
   "cell_type": "code",
   "execution_count": null,
   "id": "e071e8c6",
   "metadata": {},
   "outputs": [],
   "source": [
    "ld_test=pd.read_csv(\"/Users/lalitsachan/Library/CloudStorage/Dropbox/0.0 Data/loan_data_test.csv\")"
   ]
  },
  {
   "cell_type": "code",
   "execution_count": null,
   "id": "9f1dbc29",
   "metadata": {},
   "outputs": [],
   "source": [
    "x_test=ld_pipe.transform(ld_test)"
   ]
  },
  {
   "cell_type": "code",
   "execution_count": null,
   "id": "ebe7d015",
   "metadata": {},
   "outputs": [],
   "source": [
    "x_test.shape"
   ]
  },
  {
   "cell_type": "code",
   "execution_count": null,
   "id": "3f803a60",
   "metadata": {},
   "outputs": [],
   "source": [
    "x_train.shape"
   ]
  },
  {
   "cell_type": "code",
   "execution_count": null,
   "id": "fcdf0f1e",
   "metadata": {},
   "outputs": [],
   "source": [
    "x_test"
   ]
  },
  {
   "cell_type": "markdown",
   "id": "b7505332",
   "metadata": {},
   "source": [
    "Exercise : creating data processing pipeline using ml_utils for the dataset insurance.csv"
   ]
  },
  {
   "cell_type": "markdown",
   "id": "d606712b",
   "metadata": {},
   "source": [
    "# Example 2"
   ]
  },
  {
   "cell_type": "markdown",
   "id": "f2d14343",
   "metadata": {},
   "source": [
    "this file is too big to upload on github , you can download it from here : [download consumper complaint csv from here](https://www.dropbox.com/scl/fi/tj1ynemyyld6g8ojos5jj/Consumer_Complaints_train.csv?rlkey=q717ubsel1worxuqrf07zfe6b&dl=1)"
   ]
  },
  {
   "cell_type": "code",
   "execution_count": null,
   "id": "b349f9aa",
   "metadata": {},
   "outputs": [],
   "source": [
    "cd_train=pd.read_csv(r'./Consumer_Complaints_train.csv')"
   ]
  },
  {
   "cell_type": "code",
   "execution_count": null,
   "id": "abc7720f",
   "metadata": {},
   "outputs": [],
   "source": [
    "cd_train.head()"
   ]
  },
  {
   "cell_type": "code",
   "execution_count": null,
   "id": "b1072997",
   "metadata": {},
   "outputs": [],
   "source": [
    "cd_train.columns"
   ]
  },
  {
   "cell_type": "code",
   "execution_count": null,
   "id": "a1607f00",
   "metadata": {},
   "outputs": [],
   "source": [
    "cd_train.nunique()"
   ]
  },
  {
   "cell_type": "code",
   "execution_count": null,
   "id": "4c3a9219",
   "metadata": {},
   "outputs": [],
   "source": [
    "date_diff_cols=['Date received','Date sent to company']\n",
    "date_component_cols=['Date received','Date sent to company']\n",
    "text_feat_cols=['Consumer complaint narrative']\n",
    "cat_to_dummy_cols=['Product', 'Sub-product', 'Issue', 'Sub-issue','Company public response', 'Company',\n",
    "       'State', 'ZIP code', 'Tags', 'Consumer consent provided?','Submitted via','Company response to consumer',\n",
    "       'Timely response?']"
   ]
  },
  {
   "cell_type": "code",
   "execution_count": null,
   "id": "de451c66",
   "metadata": {},
   "outputs": [],
   "source": [
    "cd_data_pipe=mt.DataPipe(cat_to_dummies=cat_to_dummy_cols,\n",
    "                         date_components=date_component_cols,\n",
    "                         text_feat=text_feat_cols,\n",
    "                         date_diffs=date_diff_cols)"
   ]
  },
  {
   "cell_type": "code",
   "execution_count": null,
   "id": "2223c989",
   "metadata": {},
   "outputs": [],
   "source": [
    "# its a sizable dataset and we are also creating tons of features , this might take awhile [both fit and transform.\n",
    "# it took my machine 10 mins for each]\n",
    "# if your system gives out of memory error , try uploading to google colab, you will have to \n",
    "# upload your data file also to colab, it wont be able to access data file from your local machine\n",
    "\n",
    "# do go through ml_utils text feature class , it has some defaults you might want to change\n",
    "cd_data_pipe.fit(cd_train)"
   ]
  },
  {
   "cell_type": "code",
   "execution_count": null,
   "id": "88bc7032",
   "metadata": {},
   "outputs": [],
   "source": [
    "x_train=cd_data_pipe.transform(cd_train)"
   ]
  },
  {
   "cell_type": "code",
   "execution_count": null,
   "id": "29f18e8f",
   "metadata": {},
   "outputs": [],
   "source": [
    "x_train.shape"
   ]
  },
  {
   "cell_type": "markdown",
   "id": "17a24ea2",
   "metadata": {},
   "source": [
    "# Saving python objects to disk [you should save the ones especially which take massive time to create]\n",
    "https://www.datacamp.com/tutorial/pickle-python-tutorial"
   ]
  },
  {
   "cell_type": "markdown",
   "id": "0d73d234",
   "metadata": {},
   "source": [
    "# Example 3"
   ]
  },
  {
   "cell_type": "code",
   "execution_count": null,
   "id": "297adbc6",
   "metadata": {},
   "outputs": [],
   "source": [
    "bd_train=pd.read_csv(r'./bd_train.csv')\n",
    "bd_test=pd.read_csv(r'./bd_test.csv')"
   ]
  },
  {
   "cell_type": "code",
   "execution_count": null,
   "id": "b1485a22",
   "metadata": {},
   "outputs": [],
   "source": [
    "bd_train.head()"
   ]
  },
  {
   "cell_type": "code",
   "execution_count": null,
   "id": "2862570d",
   "metadata": {},
   "outputs": [],
   "source": [
    "# REF_NO : ignore, post_code, post_area, Revenue.Grid [Target]\n",
    "# post_code and post_area have been ignored because none of the categories had sufficient observations \n",
    "# numbers in them\n",
    "\n",
    "# children : custom function\n",
    "# age_band : custom function \n",
    "# family_income : custom function\n",
    "\n",
    "# create dummies : 'status' , 'occupation' , 'occupation_partner' , 'home_status', 'self_employed',\n",
    "# 'self_employed_partner','TVarea','gender','region'\n",
    "\n",
    "# simple_numeric : 'year_last_moved','Average.Credit.Card.Transaction', 'Balance.Transfer',\n",
    "#       'Term.Deposit', 'Life.Insurance', 'Medical.Insurance',\n",
    "#       'Average.A.C.Balance', 'Personal.Loan', 'Investment.in.Mutual.Fund',\n",
    "#       'Investment.Tax.Saving.Bond', 'Home.Loan', 'Online.Purchase.Amount','Investment.in.Commudity',\n",
    "#       'Investment.in.Equity', 'Investment.in.Derivative',\n",
    "#       'Portfolio.Balance'\n",
    "\n"
   ]
  },
  {
   "cell_type": "code",
   "execution_count": null,
   "id": "c495f641",
   "metadata": {},
   "outputs": [],
   "source": [
    "def children_to_num(col):\n",
    "    \n",
    "    num_col=col.str.replace('Zero','0')\n",
    "    num_col=num_col.str.replace('4+','4',regex=False)\n",
    "    num_col=pd.to_numeric(num_col,errors='coerce')\n",
    "    \n",
    "    return num_col"
   ]
  },
  {
   "cell_type": "code",
   "execution_count": null,
   "id": "dbbdd8ee",
   "metadata": {},
   "outputs": [],
   "source": [
    "def ab_to_num(col):\n",
    "    \n",
    "    col=col.str.replace('71+','71-71',regex=False)\n",
    "    k=col.str.split('-',expand=True)\n",
    "    \n",
    "    for i in [0,1]:\n",
    "        k[i]=pd.to_numeric(k[i],errors='coerce')\n",
    "        \n",
    "    num_col=0.5*(k[0]+k[1])\n",
    "    \n",
    "    return num_col"
   ]
  },
  {
   "cell_type": "code",
   "execution_count": null,
   "id": "17a44a87",
   "metadata": {},
   "outputs": [],
   "source": [
    "def fi_to_num(col):\n",
    "    \n",
    "    col=col.replace({'<10,000, >= 8,000':9000, '>=35,000':35000, '<25,000, >=22,500':23750,\n",
    "       '<20,000, >=17,500':18750, '<12,500, >=10,000':11250, '<30,000, >=27,500':28750,\n",
    "       '<27,500, >=25,000':26250, '<17,500, >=15,000':16250, '<15,000, >=12,500':13750,\n",
    "       '<22,500, >=20,000':21250,'< 4,000': 4000, '< 8,000, >= 4,000':6000})\n",
    "    num_col=pd.to_numeric(col,errors='coerce')\n",
    "    \n",
    "    return num_col"
   ]
  },
  {
   "cell_type": "code",
   "execution_count": null,
   "id": "30f2c16f",
   "metadata": {},
   "outputs": [],
   "source": [
    "simple_numeric_cols=['year_last_moved','Average.Credit.Card.Transaction', 'Balance.Transfer',\n",
    "      'Term.Deposit', 'Life.Insurance', 'Medical.Insurance',\n",
    "      'Average.A.C.Balance', 'Personal.Loan', 'Investment.in.Mutual.Fund',\n",
    "      'Investment.Tax.Saving.Bond', 'Home.Loan', 'Online.Purchase.Amount','Investment.in.Commudity',\n",
    "      'Investment.in.Equity', 'Investment.in.Derivative',\n",
    "      'Portfolio.Balance']\n",
    "\n",
    "cat_to_dummies_cols=['status' , 'occupation' , 'occupation_partner' , 'home_status', 'self_employed',\n",
    "'self_employed_partner','TVarea','gender','region']\n",
    "\n",
    "custom_function_cols={'children':children_to_num,'age_band':ab_to_num,'family_income':fi_to_num}"
   ]
  },
  {
   "cell_type": "code",
   "execution_count": null,
   "id": "c724256b",
   "metadata": {},
   "outputs": [],
   "source": [
    "data_pipe=mt.DataPipe(simple_num=simple_numeric_cols,\n",
    "                     cat_to_dummies=cat_to_dummies_cols,\n",
    "                     custom_func_dict=custom_function_cols)"
   ]
  },
  {
   "cell_type": "code",
   "execution_count": null,
   "id": "46c015e1",
   "metadata": {},
   "outputs": [],
   "source": [
    "data_pipe.fit(bd_train)"
   ]
  },
  {
   "cell_type": "code",
   "execution_count": null,
   "id": "2886b293",
   "metadata": {},
   "outputs": [],
   "source": [
    "x_train=data_pipe.transform(bd_train)\n",
    "x_test=data_pipe.transform(bd_test)"
   ]
  },
  {
   "cell_type": "code",
   "execution_count": null,
   "id": "5fb20518",
   "metadata": {},
   "outputs": [],
   "source": []
  }
 ],
 "metadata": {
  "kernelspec": {
   "display_name": "Python 3 (ipykernel)",
   "language": "python",
   "name": "python3"
  },
  "language_info": {
   "codemirror_mode": {
    "name": "ipython",
    "version": 3
   },
   "file_extension": ".py",
   "mimetype": "text/x-python",
   "name": "python",
   "nbconvert_exporter": "python",
   "pygments_lexer": "ipython3",
   "version": "3.10.9"
  }
 },
 "nbformat": 4,
 "nbformat_minor": 5
}
