{
 "cells": [
  {
   "cell_type": "code",
   "execution_count": null,
   "id": "08ebf47f",
   "metadata": {},
   "outputs": [],
   "source": [
    "import pandas as pd\n",
    "import numpy as np"
   ]
  },
  {
   "cell_type": "markdown",
   "id": "af9f4e9c",
   "metadata": {},
   "source": []
  },
  {
   "cell_type": "markdown",
   "id": "b5f6138f",
   "metadata": {},
   "source": [
    "# Loading Data"
   ]
  },
  {
   "cell_type": "code",
   "execution_count": null,
   "id": "cbaba635",
   "metadata": {},
   "outputs": [],
   "source": [
    "diab_data=pd.read_csv(\"diabetic_data.csv\")"
   ]
  },
  {
   "cell_type": "markdown",
   "id": "db3c50aa",
   "metadata": {},
   "source": [
    "# Peripheral Overview"
   ]
  },
  {
   "cell_type": "code",
   "execution_count": null,
   "id": "57fac64f",
   "metadata": {},
   "outputs": [],
   "source": [
    "diab_data.head()"
   ]
  },
  {
   "cell_type": "code",
   "execution_count": null,
   "id": "4d960747",
   "metadata": {},
   "outputs": [],
   "source": [
    "diab_data.tail(8)"
   ]
  },
  {
   "cell_type": "code",
   "execution_count": null,
   "id": "dc2746b5",
   "metadata": {},
   "outputs": [],
   "source": [
    "diab_data.sample(6)"
   ]
  },
  {
   "cell_type": "code",
   "execution_count": null,
   "id": "c84b8e51",
   "metadata": {},
   "outputs": [],
   "source": [
    "diab_data.info()"
   ]
  },
  {
   "cell_type": "code",
   "execution_count": null,
   "id": "7a720f47",
   "metadata": {},
   "outputs": [],
   "source": [
    "diab_data.shape"
   ]
  },
  {
   "cell_type": "code",
   "execution_count": null,
   "id": "80e495fc",
   "metadata": {},
   "outputs": [],
   "source": [
    "diab_data.dtypes"
   ]
  },
  {
   "cell_type": "code",
   "execution_count": null,
   "id": "f76584fd",
   "metadata": {},
   "outputs": [],
   "source": [
    "diab_data['age'].dtype"
   ]
  },
  {
   "cell_type": "code",
   "execution_count": null,
   "id": "18c68cd5",
   "metadata": {},
   "outputs": [],
   "source": [
    "diab_data['time_in_hospital'].dtype"
   ]
  },
  {
   "cell_type": "code",
   "execution_count": null,
   "id": "ec410d06",
   "metadata": {},
   "outputs": [],
   "source": [
    "diab_data.columns"
   ]
  },
  {
   "cell_type": "markdown",
   "id": "53d99d37",
   "metadata": {},
   "source": [
    "# Subsetting"
   ]
  },
  {
   "cell_type": "code",
   "execution_count": null,
   "id": "b6a738c0",
   "metadata": {},
   "outputs": [],
   "source": [
    "diab_data.head()"
   ]
  },
  {
   "cell_type": "code",
   "execution_count": null,
   "id": "6fa26550",
   "metadata": {},
   "outputs": [],
   "source": [
    "diab_data.iloc[0:2,1:5]"
   ]
  },
  {
   "cell_type": "code",
   "execution_count": null,
   "id": "29e9bfeb",
   "metadata": {},
   "outputs": [],
   "source": [
    "diab_data['num_lab_procedures']"
   ]
  },
  {
   "cell_type": "code",
   "execution_count": null,
   "id": "3d1c1f6a",
   "metadata": {},
   "outputs": [],
   "source": [
    "diab_data[['num_lab_procedures','admission_type_id']]\n"
   ]
  },
  {
   "cell_type": "code",
   "execution_count": null,
   "id": "f5444395",
   "metadata": {},
   "outputs": [],
   "source": [
    "diab_data.loc[120:126,['num_lab_procedures','admission_type_id']]"
   ]
  },
  {
   "cell_type": "code",
   "execution_count": null,
   "id": "f654501c",
   "metadata": {},
   "outputs": [],
   "source": [
    "diab_data.loc[(diab_data['race']==\"AfricanAmerican\") & \n",
    "            (diab_data['gender']==\"Female\") &\n",
    "            (diab_data['time_in_hospital']>=10) , \n",
    "              ['encounter_id','patient_nbr']]"
   ]
  },
  {
   "cell_type": "markdown",
   "id": "b3c925ce",
   "metadata": {},
   "source": [
    "# Data Summary"
   ]
  },
  {
   "cell_type": "code",
   "execution_count": null,
   "id": "3823922a",
   "metadata": {},
   "outputs": [],
   "source": [
    "diab_data.describe().T"
   ]
  },
  {
   "cell_type": "code",
   "execution_count": null,
   "id": "b0715081",
   "metadata": {},
   "outputs": [],
   "source": [
    "diab_data.median()"
   ]
  },
  {
   "cell_type": "code",
   "execution_count": null,
   "id": "570fe1f5",
   "metadata": {},
   "outputs": [],
   "source": [
    "diab_data['num_procedures'].mean()"
   ]
  },
  {
   "cell_type": "code",
   "execution_count": null,
   "id": "bbc20b5e",
   "metadata": {},
   "outputs": [],
   "source": [
    "diab_data[['num_procedures','number_emergency']].std()"
   ]
  },
  {
   "cell_type": "code",
   "execution_count": null,
   "id": "c1498b0b",
   "metadata": {},
   "outputs": [],
   "source": [
    "diab_data.nunique()"
   ]
  },
  {
   "cell_type": "code",
   "execution_count": null,
   "id": "de7e5f7d",
   "metadata": {},
   "outputs": [],
   "source": [
    "diab_data['admission_type_id'].unique()"
   ]
  },
  {
   "cell_type": "code",
   "execution_count": null,
   "id": "4d9d0320",
   "metadata": {},
   "outputs": [],
   "source": [
    "diab_data['admission_type_id'].value_counts(dropna=False)"
   ]
  },
  {
   "cell_type": "code",
   "execution_count": null,
   "id": "5824a2c6",
   "metadata": {},
   "outputs": [],
   "source": [
    "diab_data['admission_type_id'].value_counts(dropna=False,normalize=True)"
   ]
  },
  {
   "cell_type": "code",
   "execution_count": null,
   "id": "43d5cff9",
   "metadata": {},
   "outputs": [],
   "source": [
    "pd.crosstab(diab_data['gender'],diab_data['admission_type_id'])"
   ]
  },
  {
   "cell_type": "code",
   "execution_count": null,
   "id": "0648e10d",
   "metadata": {},
   "outputs": [],
   "source": [
    "pd.crosstab(diab_data['admission_type_id'],diab_data['gender'],normalize='index')"
   ]
  },
  {
   "cell_type": "code",
   "execution_count": null,
   "id": "c2388e96",
   "metadata": {},
   "outputs": [],
   "source": [
    "pd.crosstab(diab_data['admission_type_id'],diab_data['gender'],normalize='columns')"
   ]
  },
  {
   "cell_type": "code",
   "execution_count": null,
   "id": "ca333aff",
   "metadata": {},
   "outputs": [],
   "source": [
    "diab_data['readmitted'].value_counts(dropna=False)"
   ]
  },
  {
   "cell_type": "code",
   "execution_count": null,
   "id": "98568d1e",
   "metadata": {},
   "outputs": [],
   "source": [
    "diab_data.groupby(['gender'])['num_lab_procedures','num_medications'].mean()"
   ]
  },
  {
   "cell_type": "markdown",
   "id": "0f94f351",
   "metadata": {},
   "source": [
    "# Data Modification"
   ]
  },
  {
   "cell_type": "code",
   "execution_count": null,
   "id": "2c6548a0",
   "metadata": {},
   "outputs": [],
   "source": [
    "# del data_name['column_name']"
   ]
  },
  {
   "cell_type": "code",
   "execution_count": null,
   "id": "6d4b4cb7",
   "metadata": {},
   "outputs": [],
   "source": [
    "diab_data.head()"
   ]
  },
  {
   "cell_type": "code",
   "execution_count": null,
   "id": "e64f0d01",
   "metadata": {},
   "outputs": [],
   "source": [
    "del diab_data['encounter_id']"
   ]
  },
  {
   "cell_type": "code",
   "execution_count": null,
   "id": "1efc3559",
   "metadata": {},
   "outputs": [],
   "source": [
    "diab_data.head()"
   ]
  },
  {
   "cell_type": "code",
   "execution_count": null,
   "id": "51c17212",
   "metadata": {},
   "outputs": [],
   "source": [
    "diab_data.drop(['examide','citoglipton'],axis=1,inplace=True)"
   ]
  },
  {
   "cell_type": "code",
   "execution_count": null,
   "id": "b43fba88",
   "metadata": {},
   "outputs": [],
   "source": [
    "diab_data.columns"
   ]
  },
  {
   "cell_type": "code",
   "execution_count": null,
   "id": "798e043c",
   "metadata": {},
   "outputs": [],
   "source": [
    "diab_data.rename(columns={'admission_type_id':'admission_type',\n",
    "'discharge_disposition_id':'discharge_disposition',\n",
    "'admission_source_id':'admission_source'},inplace=True)"
   ]
  },
  {
   "cell_type": "code",
   "execution_count": null,
   "id": "9bfaf625",
   "metadata": {},
   "outputs": [],
   "source": [
    "diab_data.columns"
   ]
  },
  {
   "cell_type": "code",
   "execution_count": null,
   "id": "ccd46160",
   "metadata": {},
   "outputs": [],
   "source": [
    "diab_data['new_column']=np.random.random(diab_data.shape[0])"
   ]
  },
  {
   "cell_type": "code",
   "execution_count": null,
   "id": "22ef80f2",
   "metadata": {},
   "outputs": [],
   "source": [
    "diab_data.head()"
   ]
  },
  {
   "cell_type": "code",
   "execution_count": null,
   "id": "1a89069d",
   "metadata": {},
   "outputs": [],
   "source": [
    "diab_data['new_column']=\"temporary\""
   ]
  },
  {
   "cell_type": "code",
   "execution_count": null,
   "id": "b636a63e",
   "metadata": {},
   "outputs": [],
   "source": [
    "diab_data['new_column']=np.log(diab_data['time_in_hospital'])"
   ]
  },
  {
   "cell_type": "code",
   "execution_count": null,
   "id": "edeee4aa",
   "metadata": {},
   "outputs": [],
   "source": [
    "diab_data['new_column']=diab_data['num_medications']/diab_data['num_procedures']"
   ]
  },
  {
   "cell_type": "code",
   "execution_count": null,
   "id": "f25ce63c",
   "metadata": {},
   "outputs": [],
   "source": [
    "diab_data['new_column']=np.where(diab_data['time_in_hospital']>4,'high','low')"
   ]
  },
  {
   "cell_type": "code",
   "execution_count": null,
   "id": "a6278b77",
   "metadata": {},
   "outputs": [],
   "source": [
    "diab_data.isnull().sum()"
   ]
  },
  {
   "cell_type": "code",
   "execution_count": null,
   "id": "72dbc28e",
   "metadata": {},
   "outputs": [],
   "source": [
    "diab_data.replace({\"?\":np.nan},inplace=True)"
   ]
  },
  {
   "cell_type": "code",
   "execution_count": null,
   "id": "3df85509",
   "metadata": {},
   "outputs": [],
   "source": [
    "diab_data['age']"
   ]
  },
  {
   "cell_type": "code",
   "execution_count": null,
   "id": "bf9d6cbc",
   "metadata": {},
   "outputs": [],
   "source": [
    "diab_data['age'].replace({'[0-10)':5, '[10-20)':15, \n",
    "                          '[20-30)':25, '[30-40)':35, '[40-50)':45,\n",
    "                          '[50-60)':55,'[60-70)':65, '[70-80)':75,\n",
    "                          '[80-90)':85, '[90-100)':95},inplace=True)"
   ]
  },
  {
   "cell_type": "code",
   "execution_count": null,
   "id": "ff6027e7",
   "metadata": {},
   "outputs": [],
   "source": [
    "# versatility of df.Series.replace with a small data\n",
    "df=pd.DataFrame({'A':[0,1,2,3,4],\n",
    "                 'B':[5,6,7,8,9],\n",
    "                 'C':[0,0,1,1,2]\n",
    "               })"
   ]
  },
  {
   "cell_type": "code",
   "execution_count": null,
   "id": "8be8c37d",
   "metadata": {},
   "outputs": [],
   "source": [
    "df"
   ]
  },
  {
   "cell_type": "code",
   "execution_count": null,
   "id": "3c225919",
   "metadata": {},
   "outputs": [],
   "source": [
    "df.replace(0,5) "
   ]
  },
  {
   "cell_type": "code",
   "execution_count": null,
   "id": "30ac5257",
   "metadata": {},
   "outputs": [],
   "source": [
    "print(df)\n",
    "df.replace([0,1,2,3],4) "
   ]
  },
  {
   "cell_type": "code",
   "execution_count": null,
   "id": "d8179eb3",
   "metadata": {},
   "outputs": [],
   "source": [
    "print(df)\n",
    "df.replace([0,1,5,8],[10,11,55,88])"
   ]
  },
  {
   "cell_type": "code",
   "execution_count": null,
   "id": "2db73760",
   "metadata": {},
   "outputs": [],
   "source": [
    "df\n",
    "df.replace({'A':0,'B':7,'C':1},999)"
   ]
  },
  {
   "cell_type": "code",
   "execution_count": null,
   "id": "ba7cd58a",
   "metadata": {},
   "outputs": [],
   "source": [
    "df\n",
    "df.replace({'A':{0:100,1:99},'B':{5:55},'C':{0:10000,1:11}})"
   ]
  },
  {
   "cell_type": "markdown",
   "id": "df0688da",
   "metadata": {},
   "source": [
    "## String Operations"
   ]
  },
  {
   "cell_type": "code",
   "execution_count": null,
   "id": "aeae511c",
   "metadata": {},
   "outputs": [],
   "source": [
    "diab_data['admission_source'].value_counts()"
   ]
  },
  {
   "cell_type": "code",
   "execution_count": null,
   "id": "e501e769",
   "metadata": {},
   "outputs": [],
   "source": [
    "diab_data['admission_source']= diab_data['admission_source'].str.replace('Transfer from','tfr')"
   ]
  },
  {
   "cell_type": "code",
   "execution_count": null,
   "id": "3781cad8",
   "metadata": {},
   "outputs": [],
   "source": [
    "diab_data['admission_source'].value_counts()"
   ]
  },
  {
   "cell_type": "code",
   "execution_count": null,
   "id": "d31b32ae",
   "metadata": {},
   "outputs": [],
   "source": [
    "## Type Casting"
   ]
  },
  {
   "cell_type": "code",
   "execution_count": null,
   "id": "bfae2362",
   "metadata": {},
   "outputs": [],
   "source": [
    "diab_data.dtypes"
   ]
  },
  {
   "cell_type": "code",
   "execution_count": null,
   "id": "aef33caf",
   "metadata": {},
   "outputs": [],
   "source": [
    "diab_data['age']=pd.to_numeric(diab_data['age'],errors='coerce')"
   ]
  },
  {
   "cell_type": "markdown",
   "id": "de962254",
   "metadata": {},
   "source": [
    "## Handling Duplicates"
   ]
  },
  {
   "cell_type": "code",
   "execution_count": null,
   "id": "88ed5fd1",
   "metadata": {},
   "outputs": [],
   "source": [
    "diab_data.dtypes"
   ]
  },
  {
   "cell_type": "code",
   "execution_count": null,
   "id": "14c24dc6",
   "metadata": {},
   "outputs": [],
   "source": [
    "diab_data.shape"
   ]
  },
  {
   "cell_type": "code",
   "execution_count": null,
   "id": "7cd9c90c",
   "metadata": {},
   "outputs": [],
   "source": [
    "diab_data=diab_data.append(diab_data.sample(100),ignore_index=True)"
   ]
  },
  {
   "cell_type": "code",
   "execution_count": null,
   "id": "cb7cd1a4",
   "metadata": {},
   "outputs": [],
   "source": [
    "diab_data.duplicated().sum()"
   ]
  },
  {
   "cell_type": "code",
   "execution_count": null,
   "id": "d747e74d",
   "metadata": {},
   "outputs": [],
   "source": [
    "diab_data.duplicated(subset=['race','gender','payer_code']).sum()"
   ]
  },
  {
   "cell_type": "code",
   "execution_count": null,
   "id": "823d089c",
   "metadata": {},
   "outputs": [],
   "source": [
    "diab_data.drop_duplicates(keep='first',inplace=True)"
   ]
  },
  {
   "cell_type": "markdown",
   "id": "23aea04f",
   "metadata": {},
   "source": [
    "## Handling Missing Values"
   ]
  },
  {
   "cell_type": "code",
   "execution_count": null,
   "id": "7db6e770",
   "metadata": {},
   "outputs": [],
   "source": [
    "diab_data.isna().sum().sort_values(ascending=False)"
   ]
  },
  {
   "cell_type": "code",
   "execution_count": null,
   "id": "245a1e22",
   "metadata": {},
   "outputs": [],
   "source": [
    "diab_data['medical_specialty']"
   ]
  },
  {
   "cell_type": "code",
   "execution_count": null,
   "id": "19280f37",
   "metadata": {},
   "outputs": [],
   "source": [
    "diab_data.fillna(0)['medical_specialty']"
   ]
  },
  {
   "cell_type": "code",
   "execution_count": null,
   "id": "75fecc32",
   "metadata": {},
   "outputs": [],
   "source": [
    "# data.fillna(0,inplace=True)"
   ]
  },
  {
   "cell_type": "code",
   "execution_count": null,
   "id": "20173f5f",
   "metadata": {},
   "outputs": [],
   "source": [
    "# data['categorical_column_name'].fillna('__missing__',inplace=True)"
   ]
  },
  {
   "cell_type": "code",
   "execution_count": null,
   "id": "972ab59b",
   "metadata": {},
   "outputs": [],
   "source": [
    "# data['num_column_name'].fillna(data['num_column_name'].median(),inplace=True)"
   ]
  },
  {
   "cell_type": "code",
   "execution_count": null,
   "id": "11f77898",
   "metadata": {},
   "outputs": [],
   "source": [
    "# data.fillna({'col1':val1,'col2':val2...},inplace=True)"
   ]
  },
  {
   "cell_type": "markdown",
   "id": "514fe1bc",
   "metadata": {},
   "source": [
    "## Sorting "
   ]
  },
  {
   "cell_type": "code",
   "execution_count": null,
   "id": "7921e80d",
   "metadata": {},
   "outputs": [],
   "source": [
    "df=pd.DataFrame(np.random.randint(2,8,(20,4)),columns=['A','B','C','D'])\n",
    "df"
   ]
  },
  {
   "cell_type": "code",
   "execution_count": null,
   "id": "1fe9bc8a",
   "metadata": {},
   "outputs": [],
   "source": [
    "df.sort_values('A')"
   ]
  },
  {
   "cell_type": "code",
   "execution_count": null,
   "id": "d7a2e256",
   "metadata": {},
   "outputs": [],
   "source": [
    "df.sort_values('A',ascending=False)\n"
   ]
  },
  {
   "cell_type": "code",
   "execution_count": null,
   "id": "59d57d84",
   "metadata": {},
   "outputs": [],
   "source": [
    "df.sort_values(['A','B','C'])"
   ]
  },
  {
   "cell_type": "code",
   "execution_count": null,
   "id": "24926acc",
   "metadata": {},
   "outputs": [],
   "source": [
    "df.sort_values(['A','B','C'],ascending=[True,False,True])\n"
   ]
  },
  {
   "cell_type": "markdown",
   "id": "17fb23a7",
   "metadata": {},
   "source": [
    "## Combining by Stacking Dataframe horizontally and vertically"
   ]
  },
  {
   "cell_type": "code",
   "execution_count": null,
   "id": "6ba6b918",
   "metadata": {},
   "outputs": [],
   "source": [
    "df1=pd.DataFrame([('a',1),('b',2)],columns=['letter','number'])\n",
    "df1"
   ]
  },
  {
   "cell_type": "code",
   "execution_count": null,
   "id": "10135e2d",
   "metadata": {},
   "outputs": [],
   "source": [
    "df2=pd.DataFrame([('c',3,'cat'),('d',4,'dog'),('e',7,'parrot')],\n",
    "                 columns=['letter','number','animal'])\n",
    "df2"
   ]
  },
  {
   "cell_type": "code",
   "execution_count": null,
   "id": "33e7ff63",
   "metadata": {},
   "outputs": [],
   "source": [
    "pd.concat([df1,df2],axis=0)"
   ]
  },
  {
   "cell_type": "code",
   "execution_count": null,
   "id": "b1fb4f57",
   "metadata": {},
   "outputs": [],
   "source": [
    "pd.concat([df1,df2],axis=1)"
   ]
  },
  {
   "cell_type": "code",
   "execution_count": null,
   "id": "fe56820e",
   "metadata": {},
   "outputs": [],
   "source": [
    "df3=df2.rename(columns={'letter':'letter_df2','number':'number_df2'})\n",
    "df3"
   ]
  },
  {
   "cell_type": "code",
   "execution_count": null,
   "id": "94a9bd74",
   "metadata": {},
   "outputs": [],
   "source": [
    "df_stack_2=pd.concat([df1,df3],axis=1)\n",
    "df_stack_2"
   ]
  },
  {
   "cell_type": "markdown",
   "id": "dcff796a",
   "metadata": {},
   "source": [
    "## Merging"
   ]
  },
  {
   "cell_type": "code",
   "execution_count": null,
   "id": "e0a85ec8",
   "metadata": {},
   "outputs": [],
   "source": [
    "df1=pd.DataFrame({'custid':[1,2,3,4,5],'product':['A','B','C','A','D']})\n",
    "df1"
   ]
  },
  {
   "cell_type": "code",
   "execution_count": null,
   "id": "c2276b1b",
   "metadata": {},
   "outputs": [],
   "source": [
    "df2=pd.DataFrame({'custid':[3,4,5,6,7,8],'state':['TN','TN','Assam','MH','JK','PN']})\n",
    "df2"
   ]
  },
  {
   "cell_type": "code",
   "execution_count": null,
   "id": "a3bd516f",
   "metadata": {},
   "outputs": [],
   "source": [
    "pd.merge(df1,df2,on=['custid'],how='inner')"
   ]
  },
  {
   "cell_type": "code",
   "execution_count": null,
   "id": "c6da0033",
   "metadata": {},
   "outputs": [],
   "source": [
    "pd.merge(df1,df2,on=['custid'],how='outer')"
   ]
  },
  {
   "cell_type": "code",
   "execution_count": null,
   "id": "1aa54827",
   "metadata": {},
   "outputs": [],
   "source": [
    "pd.merge(df1,df2,on=['custid'],how='left')"
   ]
  },
  {
   "cell_type": "code",
   "execution_count": null,
   "id": "2bdb5165",
   "metadata": {},
   "outputs": [],
   "source": [
    "pd.merge(df1,df2,on=['custid'],how='right')"
   ]
  },
  {
   "cell_type": "code",
   "execution_count": null,
   "id": "5c115574",
   "metadata": {},
   "outputs": [],
   "source": []
  }
 ],
 "metadata": {
  "kernelspec": {
   "display_name": "Python 3 (ipykernel)",
   "language": "python",
   "name": "python3"
  },
  "language_info": {
   "codemirror_mode": {
    "name": "ipython",
    "version": 3
   },
   "file_extension": ".py",
   "mimetype": "text/x-python",
   "name": "python",
   "nbconvert_exporter": "python",
   "pygments_lexer": "ipython3",
   "version": "3.10.9"
  }
 },
 "nbformat": 4,
 "nbformat_minor": 5
}
