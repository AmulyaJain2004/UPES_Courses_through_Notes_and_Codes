{
 "cells": [
  {
   "cell_type": "code",
   "execution_count": null,
   "id": "1751c7bd",
   "metadata": {},
   "outputs": [],
   "source": [
    "import numpy as np"
   ]
  },
  {
   "cell_type": "markdown",
   "id": "61fe7dce",
   "metadata": {},
   "source": [
    "# Creating Numpy Arrays"
   ]
  },
  {
   "cell_type": "code",
   "execution_count": null,
   "id": "4333179d",
   "metadata": {},
   "outputs": [],
   "source": [
    "np.array([1,22,33,43,98,7,-10])"
   ]
  },
  {
   "cell_type": "code",
   "execution_count": null,
   "id": "db745a5d",
   "metadata": {},
   "outputs": [],
   "source": [
    "np.array([[1,2,3,4], [5,6,7,8]])"
   ]
  },
  {
   "cell_type": "code",
   "execution_count": null,
   "id": "6dbac44b",
   "metadata": {},
   "outputs": [],
   "source": [
    "np.ones((3,4))"
   ]
  },
  {
   "cell_type": "code",
   "execution_count": null,
   "id": "5b905750",
   "metadata": {},
   "outputs": [],
   "source": [
    "np.zeros((2,3))"
   ]
  },
  {
   "cell_type": "code",
   "execution_count": null,
   "id": "9ab54323",
   "metadata": {},
   "outputs": [],
   "source": [
    "np.full((2,2),7)"
   ]
  },
  {
   "cell_type": "code",
   "execution_count": null,
   "id": "2254f2f3",
   "metadata": {},
   "outputs": [],
   "source": [
    "np.eye(3)"
   ]
  },
  {
   "cell_type": "code",
   "execution_count": null,
   "id": "f7095dec",
   "metadata": {},
   "outputs": [],
   "source": [
    "np.random.random((2,3))"
   ]
  },
  {
   "cell_type": "code",
   "execution_count": null,
   "id": "d2786d57",
   "metadata": {},
   "outputs": [],
   "source": [
    "r = np.random.RandomState(1234)\n",
    "r.random((2,3))"
   ]
  },
  {
   "cell_type": "code",
   "execution_count": null,
   "id": "ee5aa479",
   "metadata": {},
   "outputs": [],
   "source": [
    "np.random.randint(1,100,(2,3))"
   ]
  },
  {
   "cell_type": "code",
   "execution_count": null,
   "id": "ca6ad308",
   "metadata": {},
   "outputs": [],
   "source": [
    "np.random.choice([\"a\",\"b\",\"c\",\"d\",\"e\",\"f\"],2)"
   ]
  },
  {
   "cell_type": "markdown",
   "id": "ad961f87",
   "metadata": {},
   "source": [
    "# Indexing and Slicing"
   ]
  },
  {
   "cell_type": "code",
   "execution_count": null,
   "id": "7798c4e3",
   "metadata": {},
   "outputs": [],
   "source": [
    "a=np.array([ 3, 90, 84, 98, 68, 94, 12, 21, 92, 11])"
   ]
  },
  {
   "cell_type": "code",
   "execution_count": null,
   "id": "229e706b",
   "metadata": {},
   "outputs": [],
   "source": [
    "print(a) # added for reference\n",
    "a[2]"
   ]
  },
  {
   "cell_type": "code",
   "execution_count": null,
   "id": "972b4b7a",
   "metadata": {},
   "outputs": [],
   "source": [
    "print(a) # added for reference\n",
    "a[:4]"
   ]
  },
  {
   "cell_type": "code",
   "execution_count": null,
   "id": "dfe9fcae",
   "metadata": {},
   "outputs": [],
   "source": [
    "print(a) # added for reference\n",
    "a[3:]"
   ]
  },
  {
   "cell_type": "code",
   "execution_count": null,
   "id": "3a9dfed3",
   "metadata": {},
   "outputs": [],
   "source": [
    "print(a) # added for reference\n",
    "a[4:-1]"
   ]
  },
  {
   "cell_type": "code",
   "execution_count": null,
   "id": "16fc1894",
   "metadata": {},
   "outputs": [],
   "source": [
    "print(a) # added for reference\n",
    "a[-1:4:-1]"
   ]
  },
  {
   "cell_type": "code",
   "execution_count": null,
   "id": "0c3e651e",
   "metadata": {},
   "outputs": [],
   "source": [
    "print(a) # added for reference\n",
    "a[2:8:2]"
   ]
  },
  {
   "cell_type": "code",
   "execution_count": null,
   "id": "5c362123",
   "metadata": {},
   "outputs": [],
   "source": [
    "a=np.array([[11,22,33],[-10,1,20],[99,56,4]])"
   ]
  },
  {
   "cell_type": "code",
   "execution_count": null,
   "id": "c25042cc",
   "metadata": {},
   "outputs": [],
   "source": [
    "a"
   ]
  },
  {
   "cell_type": "code",
   "execution_count": null,
   "id": "c7bba7a0",
   "metadata": {},
   "outputs": [],
   "source": [
    "a[2,1]"
   ]
  },
  {
   "cell_type": "code",
   "execution_count": null,
   "id": "aaa90fd4",
   "metadata": {},
   "outputs": [],
   "source": [
    "print(a) # added for reference\n",
    "a[0,:],a[1,:],a[2,:]"
   ]
  },
  {
   "cell_type": "code",
   "execution_count": null,
   "id": "cce14591",
   "metadata": {},
   "outputs": [],
   "source": [
    "print(a) # added for reference\n",
    "a[:,0],a[:,1],a[:,2]"
   ]
  },
  {
   "cell_type": "code",
   "execution_count": null,
   "id": "8762545b",
   "metadata": {},
   "outputs": [],
   "source": [
    "print(a) # added for reference\n",
    "a[1,2]"
   ]
  },
  {
   "cell_type": "markdown",
   "id": "ab7c9022",
   "metadata": {},
   "source": [
    "# Reshaping"
   ]
  },
  {
   "cell_type": "code",
   "execution_count": null,
   "id": "ae41f34d",
   "metadata": {},
   "outputs": [],
   "source": [
    "a=np.array([[11,22,33,44],[-10,1,20,71],[99,56,4,-2]])\n",
    "a.shape"
   ]
  },
  {
   "cell_type": "code",
   "execution_count": null,
   "id": "3cc1ca65",
   "metadata": {},
   "outputs": [],
   "source": [
    "a"
   ]
  },
  {
   "cell_type": "code",
   "execution_count": null,
   "id": "9a067440",
   "metadata": {},
   "outputs": [],
   "source": [
    "print(a) # added for reference\n",
    "a.reshape((2,6))"
   ]
  },
  {
   "cell_type": "code",
   "execution_count": null,
   "id": "f17546ba",
   "metadata": {},
   "outputs": [],
   "source": [
    "print(a) # added for reference\n",
    "b=a.flatten()\n",
    "b"
   ]
  },
  {
   "cell_type": "code",
   "execution_count": null,
   "id": "4d57c8b5",
   "metadata": {},
   "outputs": [],
   "source": [
    "print(b) # added for reference\n",
    "b.reshape((3,4))"
   ]
  },
  {
   "cell_type": "code",
   "execution_count": null,
   "id": "d397cb93",
   "metadata": {},
   "outputs": [],
   "source": [
    "a"
   ]
  },
  {
   "cell_type": "code",
   "execution_count": null,
   "id": "88485a9b",
   "metadata": {},
   "outputs": [],
   "source": [
    "a.reshape((3,2))"
   ]
  },
  {
   "cell_type": "code",
   "execution_count": null,
   "id": "3a57f61f",
   "metadata": {},
   "outputs": [],
   "source": [
    "print(a) # added for reference\n",
    "a.reshape((4,-1))"
   ]
  },
  {
   "cell_type": "code",
   "execution_count": null,
   "id": "d55cb753",
   "metadata": {},
   "outputs": [],
   "source": [
    "print(a) # added for reference\n",
    "a.reshape((2,2,-1))"
   ]
  },
  {
   "cell_type": "markdown",
   "id": "c4784b85",
   "metadata": {},
   "source": [
    "# Operations and Broadcasting"
   ]
  },
  {
   "cell_type": "code",
   "execution_count": null,
   "id": "28288751",
   "metadata": {},
   "outputs": [],
   "source": [
    "import math as m\n",
    "m.log(3)"
   ]
  },
  {
   "cell_type": "code",
   "execution_count": null,
   "id": "5d048000",
   "metadata": {},
   "outputs": [],
   "source": [
    "b"
   ]
  },
  {
   "cell_type": "code",
   "execution_count": null,
   "id": "4ce66ade",
   "metadata": {},
   "outputs": [],
   "source": [
    "m.log(b)"
   ]
  },
  {
   "cell_type": "code",
   "execution_count": null,
   "id": "7a86903a",
   "metadata": {},
   "outputs": [],
   "source": [
    "result=[]\n",
    "for elem in b:\n",
    "    if elem > 0: \n",
    "        result.append(m.log(elem))\n",
    "    else:\n",
    "        result.append('NaN')"
   ]
  },
  {
   "cell_type": "code",
   "execution_count": null,
   "id": "cb88f4e3",
   "metadata": {},
   "outputs": [],
   "source": [
    "result"
   ]
  },
  {
   "cell_type": "code",
   "execution_count": null,
   "id": "5ac6b91f",
   "metadata": {},
   "outputs": [],
   "source": [
    "np.log(b)"
   ]
  },
  {
   "cell_type": "code",
   "execution_count": null,
   "id": "a5b99ccd",
   "metadata": {},
   "outputs": [],
   "source": [
    "b**2"
   ]
  },
  {
   "cell_type": "code",
   "execution_count": null,
   "id": "0de75edc",
   "metadata": {},
   "outputs": [],
   "source": [
    "b*2"
   ]
  },
  {
   "cell_type": "code",
   "execution_count": null,
   "id": "ea36126b",
   "metadata": {},
   "outputs": [],
   "source": [
    "np.array([3,4,5,6])+np.array([2,10,34,-10])"
   ]
  },
  {
   "cell_type": "code",
   "execution_count": null,
   "id": "a470620b",
   "metadata": {},
   "outputs": [],
   "source": [
    "np.array([3,4,5,6])*np.array([2,10,34,-10])"
   ]
  },
  {
   "cell_type": "code",
   "execution_count": null,
   "id": "a63a44ab",
   "metadata": {},
   "outputs": [],
   "source": [
    "a=np.array([3,7,10])\n",
    "a+5"
   ]
  },
  {
   "cell_type": "markdown",
   "id": "e2b20a7c",
   "metadata": {},
   "source": [
    "There are 3 basic rules that numpy follows for broadcasting : \n",
    "\n",
    "- Rule 1: If the two arrays differ in their number of dimensions, the shape of the one with fewer dimensions is *padded* with ones on its leading (left) side.\n",
    "- Rule 2: If the shape of the two arrays does not match in any dimension, the array with shape equal to 1 in that dimension is stretched to match the other shape.\n",
    "- Rule 3: If in any dimension the sizes disagree and neither is equal to 1, an error is raised."
   ]
  },
  {
   "cell_type": "markdown",
   "id": "0efd0da2",
   "metadata": {},
   "source": [
    "## 1"
   ]
  },
  {
   "cell_type": "code",
   "execution_count": null,
   "id": "2395b7f2",
   "metadata": {},
   "outputs": [],
   "source": [
    "M = np.ones((2, 3))\n",
    "a = np.arange(3)"
   ]
  },
  {
   "cell_type": "code",
   "execution_count": null,
   "id": "25e5e086",
   "metadata": {},
   "outputs": [],
   "source": [
    "M.shape"
   ]
  },
  {
   "cell_type": "code",
   "execution_count": null,
   "id": "2bc2a5f2",
   "metadata": {},
   "outputs": [],
   "source": [
    "M"
   ]
  },
  {
   "cell_type": "code",
   "execution_count": null,
   "id": "2fd8d446",
   "metadata": {},
   "outputs": [],
   "source": [
    "a.shape"
   ]
  },
  {
   "cell_type": "code",
   "execution_count": null,
   "id": "e44b545b",
   "metadata": {},
   "outputs": [],
   "source": [
    "a"
   ]
  },
  {
   "cell_type": "code",
   "execution_count": null,
   "id": "fe39dba0",
   "metadata": {},
   "outputs": [],
   "source": [
    "a_=a.reshape((1,3))"
   ]
  },
  {
   "cell_type": "code",
   "execution_count": null,
   "id": "2d327225",
   "metadata": {},
   "outputs": [],
   "source": [
    "a_"
   ]
  },
  {
   "cell_type": "code",
   "execution_count": null,
   "id": "7eb1e852",
   "metadata": {},
   "outputs": [],
   "source": [
    "a_.shape"
   ]
  },
  {
   "cell_type": "code",
   "execution_count": null,
   "id": "5741b4c1",
   "metadata": {},
   "outputs": [],
   "source": [
    "a_=np.array([[0, 1, 2],[0, 1, 2]])\n",
    "a_"
   ]
  },
  {
   "cell_type": "code",
   "execution_count": null,
   "id": "3d0fbc24",
   "metadata": {},
   "outputs": [],
   "source": [
    "M+a"
   ]
  },
  {
   "cell_type": "code",
   "execution_count": null,
   "id": "ac7f30e7",
   "metadata": {},
   "outputs": [],
   "source": [
    "M+a_"
   ]
  },
  {
   "cell_type": "markdown",
   "id": "346c5a93",
   "metadata": {},
   "source": [
    "## 2"
   ]
  },
  {
   "cell_type": "code",
   "execution_count": null,
   "id": "f4282ccc",
   "metadata": {},
   "outputs": [],
   "source": [
    "a = np.arange(3).reshape((3, 1))\n",
    "b = np.arange(3)"
   ]
  },
  {
   "cell_type": "code",
   "execution_count": null,
   "id": "9cfdc788",
   "metadata": {},
   "outputs": [],
   "source": [
    "a"
   ]
  },
  {
   "cell_type": "code",
   "execution_count": null,
   "id": "9887a76a",
   "metadata": {},
   "outputs": [],
   "source": [
    "a.shape"
   ]
  },
  {
   "cell_type": "code",
   "execution_count": null,
   "id": "ef07aebf",
   "metadata": {},
   "outputs": [],
   "source": [
    "b"
   ]
  },
  {
   "cell_type": "code",
   "execution_count": null,
   "id": "80bf0b62",
   "metadata": {},
   "outputs": [],
   "source": [
    "b.shape"
   ]
  },
  {
   "cell_type": "code",
   "execution_count": null,
   "id": "0014bd56",
   "metadata": {},
   "outputs": [],
   "source": [
    "a+b"
   ]
  },
  {
   "cell_type": "code",
   "execution_count": null,
   "id": "37c660ca",
   "metadata": {},
   "outputs": [],
   "source": [
    "# a\n",
    "[[0],[1],[2]] # (3,1)\n",
    "\n",
    "[[0,0,0],[1,1,1],[2,2,2]] # (3,3)\n",
    "\n"
   ]
  },
  {
   "cell_type": "code",
   "execution_count": null,
   "id": "66dedc33",
   "metadata": {},
   "outputs": [],
   "source": [
    "# b\n",
    "[0,1,2] # (3,)\n",
    "\n",
    "[[0,1,2]] # (1,3)\n",
    "\n",
    "[[0,1,2],[0,1,2],[0,1,2]] # (3,3)"
   ]
  },
  {
   "cell_type": "code",
   "execution_count": null,
   "id": "88dd42cd",
   "metadata": {},
   "outputs": [],
   "source": [
    "a_=np.array([[0,1,2],[0,1,2],[0,1,2]]).T"
   ]
  },
  {
   "cell_type": "code",
   "execution_count": null,
   "id": "a390844a",
   "metadata": {},
   "outputs": [],
   "source": [
    "b_=np.array([[0,1,2],[0,1,2],[0,1,2]])"
   ]
  },
  {
   "cell_type": "code",
   "execution_count": null,
   "id": "87b175bb",
   "metadata": {},
   "outputs": [],
   "source": [
    "a_,b_"
   ]
  },
  {
   "cell_type": "code",
   "execution_count": null,
   "id": "05140119",
   "metadata": {},
   "outputs": [],
   "source": [
    "a_+b_"
   ]
  },
  {
   "cell_type": "markdown",
   "id": "9712cff7",
   "metadata": {},
   "source": [
    "## 3"
   ]
  },
  {
   "cell_type": "code",
   "execution_count": null,
   "id": "4837b48a",
   "metadata": {},
   "outputs": [],
   "source": [
    "M = np.ones((3, 2))\n",
    "a = np.arange(3)"
   ]
  },
  {
   "cell_type": "code",
   "execution_count": null,
   "id": "8e7bfc82",
   "metadata": {},
   "outputs": [],
   "source": [
    "M+a"
   ]
  },
  {
   "cell_type": "code",
   "execution_count": null,
   "id": "ad549db0",
   "metadata": {},
   "outputs": [],
   "source": [
    "M"
   ]
  },
  {
   "cell_type": "code",
   "execution_count": null,
   "id": "7a6e6f42",
   "metadata": {},
   "outputs": [],
   "source": [
    "a"
   ]
  },
  {
   "cell_type": "code",
   "execution_count": null,
   "id": "927efd69",
   "metadata": {},
   "outputs": [],
   "source": [
    "M.shape"
   ]
  },
  {
   "cell_type": "code",
   "execution_count": null,
   "id": "7a557a49",
   "metadata": {},
   "outputs": [],
   "source": [
    "a.shape"
   ]
  },
  {
   "cell_type": "markdown",
   "id": "7704e46a",
   "metadata": {},
   "source": [
    "rule 1 tells us that we must pad the shape of `a` with ones:\n",
    "\n",
    "- `M.shape -> (3, 2)`\n",
    "- `a.shape -> (1, 3)`\n",
    "\n",
    "By rule 2, the first dimension of `a` is stretched to match that of `M`:\n",
    "\n",
    "- `M.shape -> (3, 2)`\n",
    "- `a.shape -> (3, 3)`\n",
    "\n",
    "Now we hit rule 3–the final shapes do not match, so these two arrays are incompatible, as we can observe by attempting this operation:"
   ]
  },
  {
   "cell_type": "markdown",
   "id": "4e78cf34",
   "metadata": {},
   "source": [
    "# Linear Algebra Operations"
   ]
  },
  {
   "cell_type": "markdown",
   "id": "49b28240",
   "metadata": {},
   "source": [
    "## matrix product"
   ]
  },
  {
   "cell_type": "code",
   "execution_count": null,
   "id": "d86af735",
   "metadata": {},
   "outputs": [],
   "source": [
    "a = np.array([1, 2, 3])\n",
    "b = np.array([4, 5, 6])\n",
    "np.dot(a,b)"
   ]
  },
  {
   "cell_type": "code",
   "execution_count": null,
   "id": "a2add275",
   "metadata": {},
   "outputs": [],
   "source": [
    "a = np.array([[1, 2], [3, 4]])\n",
    "b = np.array([[5, 6, 7], [8, 9, 10]])\n",
    "a.shape, b.shape"
   ]
  },
  {
   "cell_type": "code",
   "execution_count": null,
   "id": "f2c699df",
   "metadata": {},
   "outputs": [],
   "source": [
    "np.dot(a,b)"
   ]
  },
  {
   "cell_type": "code",
   "execution_count": null,
   "id": "f81a3975",
   "metadata": {},
   "outputs": [],
   "source": [
    " b.shape,a.shape"
   ]
  },
  {
   "cell_type": "code",
   "execution_count": null,
   "id": "b74b1c62",
   "metadata": {},
   "outputs": [],
   "source": [
    "np.dot(b,a)"
   ]
  },
  {
   "cell_type": "markdown",
   "id": "69672d9d",
   "metadata": {},
   "source": [
    "## Transpose , Diagonal, Trace"
   ]
  },
  {
   "cell_type": "code",
   "execution_count": null,
   "id": "89acd10f",
   "metadata": {},
   "outputs": [],
   "source": [
    "a"
   ]
  },
  {
   "cell_type": "code",
   "execution_count": null,
   "id": "ad1c3370",
   "metadata": {},
   "outputs": [],
   "source": [
    "a.T"
   ]
  },
  {
   "cell_type": "code",
   "execution_count": null,
   "id": "3b2cbdd4",
   "metadata": {},
   "outputs": [],
   "source": [
    "a.diagonal()"
   ]
  },
  {
   "cell_type": "code",
   "execution_count": null,
   "id": "2ea87ec9",
   "metadata": {},
   "outputs": [],
   "source": [
    "b"
   ]
  },
  {
   "cell_type": "code",
   "execution_count": null,
   "id": "3baea036",
   "metadata": {},
   "outputs": [],
   "source": [
    "b.diagonal()"
   ]
  },
  {
   "cell_type": "code",
   "execution_count": null,
   "id": "f4201f90",
   "metadata": {},
   "outputs": [],
   "source": [
    "a.trace(),b.trace()"
   ]
  },
  {
   "cell_type": "code",
   "execution_count": null,
   "id": "3dfc9485",
   "metadata": {},
   "outputs": [],
   "source": [
    "a = np.arange(1, 10).reshape((3,3))\n",
    "a"
   ]
  },
  {
   "cell_type": "markdown",
   "id": "5164ccf8",
   "metadata": {},
   "source": [
    "## Det , Rank, Inverse and Identity Matrix "
   ]
  },
  {
   "cell_type": "code",
   "execution_count": null,
   "id": "165b3b30",
   "metadata": {},
   "outputs": [],
   "source": [
    "a = np.arange(1, 10).reshape((3,3))\n",
    "a"
   ]
  },
  {
   "cell_type": "code",
   "execution_count": null,
   "id": "98c2c5f9",
   "metadata": {},
   "outputs": [],
   "source": [
    "np.linalg.det(a)"
   ]
  },
  {
   "cell_type": "code",
   "execution_count": null,
   "id": "a40e0acb",
   "metadata": {},
   "outputs": [],
   "source": [
    "np.linalg.matrix_rank(a)"
   ]
  },
  {
   "cell_type": "code",
   "execution_count": null,
   "id": "0d569196",
   "metadata": {},
   "outputs": [],
   "source": [
    "b=np.linalg.inv(a)\n",
    "b"
   ]
  },
  {
   "cell_type": "code",
   "execution_count": null,
   "id": "4770ac70",
   "metadata": {},
   "outputs": [],
   "source": [
    "np.dot(a,b)"
   ]
  },
  {
   "cell_type": "code",
   "execution_count": null,
   "id": "bf1aee41",
   "metadata": {},
   "outputs": [],
   "source": [
    "a=np.array([2,3,4,1,0,1,5,-2,7]).reshape((3,3))\n",
    "np.linalg.matrix_rank(a)"
   ]
  },
  {
   "cell_type": "code",
   "execution_count": null,
   "id": "72f277a3",
   "metadata": {},
   "outputs": [],
   "source": [
    "a"
   ]
  },
  {
   "cell_type": "code",
   "execution_count": null,
   "id": "7ce9447d",
   "metadata": {},
   "outputs": [],
   "source": [
    "b=np.linalg.inv(a)\n",
    "b"
   ]
  },
  {
   "cell_type": "code",
   "execution_count": null,
   "id": "244162f2",
   "metadata": {},
   "outputs": [],
   "source": [
    "np.dot(a,b)"
   ]
  },
  {
   "cell_type": "markdown",
   "id": "99036b35",
   "metadata": {},
   "source": [
    "## Eigen Values"
   ]
  },
  {
   "cell_type": "code",
   "execution_count": null,
   "id": "e5c52037",
   "metadata": {},
   "outputs": [],
   "source": [
    "a"
   ]
  },
  {
   "cell_type": "code",
   "execution_count": null,
   "id": "cefc0865",
   "metadata": {},
   "outputs": [],
   "source": [
    "np.linalg.eig(a)"
   ]
  },
  {
   "cell_type": "code",
   "execution_count": null,
   "id": "5ac99ddf",
   "metadata": {},
   "outputs": [],
   "source": [
    "e1,e2,e3=np.array([[-0.50310182, -0.8182817 , -0.78151033],\n",
    "        [-0.14093699,  0.20429773, -0.35756491],\n",
    "        [-0.8526578 ,  0.53728716,  0.5112621 ]]).T"
   ]
  },
  {
   "cell_type": "code",
   "execution_count": null,
   "id": "a65f6d58",
   "metadata": {},
   "outputs": [],
   "source": [
    "e1"
   ]
  },
  {
   "cell_type": "code",
   "execution_count": null,
   "id": "0987e0cd",
   "metadata": {},
   "outputs": [],
   "source": [
    "lambda1,lambda2,lambda3=np.array([ 9.61961496,\n",
    "                                  -1.37541685, \n",
    "                                  0.75580189])"
   ]
  },
  {
   "cell_type": "code",
   "execution_count": null,
   "id": "9a887fe4",
   "metadata": {},
   "outputs": [],
   "source": [
    "np.dot(a,e1)"
   ]
  },
  {
   "cell_type": "code",
   "execution_count": null,
   "id": "7bd14f9b",
   "metadata": {},
   "outputs": [],
   "source": [
    "lambda1*e1"
   ]
  },
  {
   "cell_type": "markdown",
   "id": "20620ed0",
   "metadata": {},
   "source": [
    "## Solving System of Linear Equations"
   ]
  },
  {
   "cell_type": "markdown",
   "id": "7a77e558",
   "metadata": {},
   "source": [
    "$$\n",
    "x_1 + x_2 - x_3 + 4 x_4 = 9 \\\\\n",
    "2x_2 +x_3-x_4 = 7 \\\\\n",
    "3x_1 + 2x_4 = 8 \\\\\n",
    "2x_1 + 4x_2 + 3x_3 = 15\n",
    "$$"
   ]
  },
  {
   "cell_type": "markdown",
   "id": "2230d819",
   "metadata": {},
   "source": [
    "$$\n",
    "\\begin{bmatrix}\n",
    "1 & 1 & -1 & 4 \\\\\n",
    "0 & 2 & 1 &-1 \\\\\n",
    "3 & 0 & 0 & 2 \\\\\n",
    "2 & 4 & 3 & 0\n",
    "\\end{bmatrix}\\begin{bmatrix}\n",
    "x_1 \\\\\n",
    "x_2 \\\\\n",
    "x_3 \\\\\n",
    "x_4\n",
    "\\end{bmatrix} = \\begin{bmatrix}\n",
    "9 \\\\\n",
    "7 \\\\\n",
    "8 \\\\\n",
    "15\n",
    "\\end{bmatrix}\n",
    "$$"
   ]
  },
  {
   "cell_type": "code",
   "execution_count": null,
   "id": "a103aa9b",
   "metadata": {},
   "outputs": [],
   "source": [
    "a=np.array([[1,1,-1,4],\n",
    "            [0,2,1,-1],\n",
    "            [3,0,0,2],\n",
    "            [2,4,3,0]])\n",
    "b=np.array([9,7,8,15])"
   ]
  },
  {
   "cell_type": "markdown",
   "id": "125209a1",
   "metadata": {},
   "source": [
    "if we consider them equivalent to $Ax=B$ , solution will be $x=A^{-1}B$ , given that $A$ is invertible . lets solve with numpy . first the longer version."
   ]
  },
  {
   "cell_type": "code",
   "execution_count": null,
   "id": "0eb9b811",
   "metadata": {},
   "outputs": [],
   "source": [
    "a_inv=np.linalg.inv(a)\n",
    "x=np.dot(a_inv,b)\n",
    "x"
   ]
  },
  {
   "cell_type": "code",
   "execution_count": null,
   "id": "08dc962d",
   "metadata": {},
   "outputs": [],
   "source": [
    "np.linalg.solve(a,b)"
   ]
  },
  {
   "cell_type": "code",
   "execution_count": null,
   "id": "7ddf4249",
   "metadata": {},
   "outputs": [],
   "source": [
    "np.allclose(np.dot(a, x), b)"
   ]
  }
 ],
 "metadata": {
  "kernelspec": {
   "display_name": "Python 3 (ipykernel)",
   "language": "python",
   "name": "python3"
  },
  "language_info": {
   "codemirror_mode": {
    "name": "ipython",
    "version": 3
   },
   "file_extension": ".py",
   "mimetype": "text/x-python",
   "name": "python",
   "nbconvert_exporter": "python",
   "pygments_lexer": "ipython3",
   "version": "3.10.9"
  }
 },
 "nbformat": 4,
 "nbformat_minor": 5
}
