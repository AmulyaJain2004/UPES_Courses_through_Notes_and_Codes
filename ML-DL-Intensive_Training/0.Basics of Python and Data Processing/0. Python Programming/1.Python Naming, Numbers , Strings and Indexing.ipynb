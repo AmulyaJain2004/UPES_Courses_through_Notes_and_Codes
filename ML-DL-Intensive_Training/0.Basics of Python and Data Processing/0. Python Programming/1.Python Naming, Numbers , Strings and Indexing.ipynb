{
 "cells": [
  {
   "cell_type": "markdown",
   "id": "4ecdb70e",
   "metadata": {},
   "source": [
    "# Python Naming Rules "
   ]
  },
  {
   "cell_type": "markdown",
   "id": "499d2a1b",
   "metadata": {},
   "source": [
    "to start working with python, you will need to store your information in python objects . . you chose a name for an object and then using `=` symbol assign it what ever value you want it to contain . it doesnt really matter whether there is space between the `=` symbol and value or the name. with spaces though , things look neater.there are some simple rules to follow when naming your objects .\n",
    "\n",
    "* No special characters are allowed in the names except underscore `_`\n",
    "* Names should not start with numbers , numbers can appear anywhere else in the name of an object \n",
    "* You can not have spaces in the name of an object \n",
    "\n",
    "if you violate these rules , python will simply throw an error and will not create those objects . some examples below . run those cells and see the errors for yourself [shift+enter]. try to make changes in the object name and see if the error goes away "
   ]
  },
  {
   "cell_type": "code",
   "execution_count": null,
   "id": "b8e955fa",
   "metadata": {},
   "outputs": [],
   "source": [
    "1obj = 4  # if you have to have that number in the name , how about you move it to the end of the name "
   ]
  },
  {
   "cell_type": "code",
   "execution_count": null,
   "id": "74c27370",
   "metadata": {},
   "outputs": [],
   "source": [
    "$obj = 4 # remove the symbol $ "
   ]
  },
  {
   "cell_type": "code",
   "execution_count": null,
   "id": "14b19bf6",
   "metadata": {},
   "outputs": [],
   "source": [
    "this is my obj=4 # if you do want your object name to be verbose/descriptive use _ where you have spaces"
   ]
  },
  {
   "cell_type": "markdown",
   "id": "1624b078",
   "metadata": {},
   "source": [
    "# Numbers and Numeric Operations"
   ]
  },
  {
   "cell_type": "code",
   "execution_count": null,
   "id": "fd8d59bd",
   "metadata": {},
   "outputs": [],
   "source": [
    "x = 4\n",
    "y = 3"
   ]
  },
  {
   "cell_type": "markdown",
   "id": "ded7b0ef",
   "metadata": {},
   "source": [
    "you can see what is stored in your object , by writing just the object name and executing that cell "
   ]
  },
  {
   "cell_type": "code",
   "execution_count": null,
   "id": "3ed5661a",
   "metadata": {},
   "outputs": [],
   "source": [
    "x"
   ]
  },
  {
   "cell_type": "code",
   "execution_count": null,
   "id": "e3b643a4",
   "metadata": {},
   "outputs": [],
   "source": [
    "y"
   ]
  },
  {
   "cell_type": "markdown",
   "id": "037e7cd4",
   "metadata": {},
   "source": [
    "## addition ,subtraction,  multiplication , division\n",
    "\n",
    "all the usual symbols work for these operations "
   ]
  },
  {
   "cell_type": "code",
   "execution_count": null,
   "id": "5c9c8676",
   "metadata": {},
   "outputs": [],
   "source": [
    "x+y"
   ]
  },
  {
   "cell_type": "code",
   "execution_count": null,
   "id": "ad37add9",
   "metadata": {},
   "outputs": [],
   "source": [
    "x-y"
   ]
  },
  {
   "cell_type": "code",
   "execution_count": null,
   "id": "cf6c6ec7",
   "metadata": {},
   "outputs": [],
   "source": [
    "x*y"
   ]
  },
  {
   "cell_type": "code",
   "execution_count": null,
   "id": "e9d9ee6b",
   "metadata": {},
   "outputs": [],
   "source": [
    "x/y"
   ]
  },
  {
   "cell_type": "markdown",
   "id": "6e0f6d81",
   "metadata": {},
   "source": [
    "if you want to store these results , you can simply assign these expressions themselves directly to another object "
   ]
  },
  {
   "cell_type": "code",
   "execution_count": null,
   "id": "196f5dae",
   "metadata": {},
   "outputs": [],
   "source": [
    "a = (x+y)/(x-y)\n",
    "# note that when you assign the expression to an object\n",
    "# the outcome is not displayed below the cell\n",
    "# you can see the outcome by explicitly writing the object name\n",
    "# and executing the cell as shown below"
   ]
  },
  {
   "cell_type": "code",
   "execution_count": null,
   "id": "6acf9ceb",
   "metadata": {},
   "outputs": [],
   "source": [
    "a"
   ]
  },
  {
   "cell_type": "markdown",
   "id": "70c22c7f",
   "metadata": {},
   "source": [
    "## Exponentiation\n",
    "\n",
    "for calculating $a^b$ kind of expression , you need to use `**` for powers or exponents . since in our case here `x=4` and `y=3` . `x**y` would give result for $4^3=64$"
   ]
  },
  {
   "cell_type": "code",
   "execution_count": null,
   "id": "80aa73a7",
   "metadata": {},
   "outputs": [],
   "source": [
    "x**y"
   ]
  },
  {
   "cell_type": "markdown",
   "id": "2ef8febd",
   "metadata": {},
   "source": [
    "# Special Math Functions\n",
    "\n",
    "if you need to use special maths operations like sin, cos , log , exp etc; you can make use of package math . here is how to do it \n",
    "\n",
    "* import package math , assign a nick-name [or alias to it] \n",
    "* use that alias to access the functions it contains \n",
    "* inputs to a function are passed using `( )`"
   ]
  },
  {
   "cell_type": "code",
   "execution_count": null,
   "id": "e62fb016",
   "metadata": {},
   "outputs": [],
   "source": [
    "import math as m # we assigned alias m to pakcage m"
   ]
  },
  {
   "cell_type": "code",
   "execution_count": null,
   "id": "cbe4babb",
   "metadata": {},
   "outputs": [],
   "source": [
    "m.exp(4)"
   ]
  },
  {
   "cell_type": "code",
   "execution_count": null,
   "id": "b74c8a8f",
   "metadata": {},
   "outputs": [],
   "source": [
    "m.log(m.exp(4))"
   ]
  },
  {
   "cell_type": "code",
   "execution_count": null,
   "id": "76dc4614",
   "metadata": {},
   "outputs": [],
   "source": [
    "m.log10(10**35)"
   ]
  },
  {
   "cell_type": "code",
   "execution_count": null,
   "id": "d8afca42",
   "metadata": {},
   "outputs": [],
   "source": [
    "m.sin(2*m.pi) # you will get a number in scentific notation, very close to zero"
   ]
  },
  {
   "cell_type": "markdown",
   "id": "dd627de5",
   "metadata": {},
   "source": [
    "# Strings "
   ]
  },
  {
   "cell_type": "markdown",
   "id": "7d87c2a7",
   "metadata": {},
   "source": [
    "in programming language words or text data is referred to as strings [ possibly originating from referring to words as strings of characters ] . to pass strings as information to python objects , we pass them in single, double or triple quotes [ python is indifferent to any variant and considers all of them strings] "
   ]
  },
  {
   "cell_type": "code",
   "execution_count": null,
   "id": "8b886760",
   "metadata": {},
   "outputs": [],
   "source": [
    "mystring = 'PytHon MaChIne'"
   ]
  },
  {
   "cell_type": "markdown",
   "id": "bcc01aeb",
   "metadata": {},
   "source": [
    "everything inside the quotes is considered a character. everything ; a white space, a number , a special character, an aplhabet, everything which appears in the quote is treated as a character and counted as one . lets look at some string functions . "
   ]
  },
  {
   "cell_type": "markdown",
   "id": "80b095e4",
   "metadata": {},
   "source": [
    "### length of string [number of characters ]"
   ]
  },
  {
   "cell_type": "code",
   "execution_count": null,
   "id": "4545faf9",
   "metadata": {},
   "outputs": [],
   "source": [
    "len(mystring)"
   ]
  },
  {
   "cell_type": "markdown",
   "id": "c2f7578c",
   "metadata": {},
   "source": [
    "### some more functions, execute them and see what they do"
   ]
  },
  {
   "cell_type": "code",
   "execution_count": null,
   "id": "3899b23d",
   "metadata": {},
   "outputs": [],
   "source": [
    "mystring.lower()"
   ]
  },
  {
   "cell_type": "code",
   "execution_count": null,
   "id": "4e4a865f",
   "metadata": {},
   "outputs": [],
   "source": [
    "mystring.upper()"
   ]
  },
  {
   "cell_type": "code",
   "execution_count": null,
   "id": "5d5ec710",
   "metadata": {},
   "outputs": [],
   "source": [
    "mystring.capitalize()"
   ]
  },
  {
   "cell_type": "code",
   "execution_count": null,
   "id": "06c933fc",
   "metadata": {},
   "outputs": [],
   "source": [
    "mystring"
   ]
  },
  {
   "cell_type": "markdown",
   "id": "d096dbb3",
   "metadata": {},
   "source": [
    "note that , none of the above functions have changed the original string object. they simply gave you an outcome of the change which those functions do. You can make those changes stick by simply assigning the outcomes back to the original object . "
   ]
  },
  {
   "cell_type": "code",
   "execution_count": null,
   "id": "da4e756f",
   "metadata": {},
   "outputs": [],
   "source": [
    "mystring=mystring.upper()"
   ]
  },
  {
   "cell_type": "code",
   "execution_count": null,
   "id": "f8096824",
   "metadata": {},
   "outputs": [],
   "source": [
    "mystring"
   ]
  },
  {
   "cell_type": "markdown",
   "id": "a5461659",
   "metadata": {},
   "source": [
    "# Indexing"
   ]
  },
  {
   "cell_type": "markdown",
   "id": "2d76a694",
   "metadata": {},
   "source": [
    "in python almost every iterable is indexed [with few exception, but for now we dont need to worry about them] . iterable is something which has multiple elements and we can acess them individually or as a subgroup. String is our first encounter with an iterable .The multiple elements of a string are its individual characters . \n",
    "\n",
    "index is done internally in python like this. \n",
    "\n",
    "* from left to right; that is default and starts with 0\n",
    "* from right to left , starts with -1"
   ]
  },
  {
   "cell_type": "code",
   "execution_count": null,
   "id": "6f0b091b",
   "metadata": {},
   "outputs": [],
   "source": [
    "mystring='HEALTH SCIENCES'\n",
    "mystring "
   ]
  },
  {
   "cell_type": "code",
   "execution_count": null,
   "id": "2f97342b",
   "metadata": {},
   "outputs": [],
   "source": [
    "# dont worry about the for loop and other syntax here , this simply tells you index of each character in the string\n",
    "\n",
    "for index,char in enumerate(mystring):\n",
    "    print(char, index)"
   ]
  },
  {
   "cell_type": "code",
   "execution_count": null,
   "id": "b0975747",
   "metadata": {},
   "outputs": [],
   "source": [
    "for index,char in enumerate(mystring):\n",
    "    print(char, -len(mystring)+index)"
   ]
  },
  {
   "cell_type": "markdown",
   "id": "5c0dade5",
   "metadata": {},
   "source": [
    "we can use these indices to access individual characters in the string. python uses `[ ]` for passing positions, conditions, indices etc to an iterable. execute these and try to guess before hand what the outcome will be. if you pass an index which exceeds the length of the string, you will get an error"
   ]
  },
  {
   "cell_type": "code",
   "execution_count": null,
   "id": "6712eab7",
   "metadata": {},
   "outputs": [],
   "source": [
    "mystring[-10]"
   ]
  },
  {
   "cell_type": "code",
   "execution_count": null,
   "id": "f8ebb2c3",
   "metadata": {},
   "outputs": [],
   "source": [
    "mystring[0]"
   ]
  },
  {
   "cell_type": "code",
   "execution_count": null,
   "id": "512c23a8",
   "metadata": {},
   "outputs": [],
   "source": [
    "mystring[2]"
   ]
  },
  {
   "cell_type": "code",
   "execution_count": null,
   "id": "a986f81a",
   "metadata": {},
   "outputs": [],
   "source": [
    "mystring[20]"
   ]
  },
  {
   "cell_type": "markdown",
   "id": "f2acb400",
   "metadata": {},
   "source": [
    "## Accessing a group , passing indices for starting , stopping and step size "
   ]
  },
  {
   "cell_type": "markdown",
   "id": "4c9c2a01",
   "metadata": {},
   "source": [
    "you can pass something on the lines of mystring[start:stop:step] . python's behaviour is little peculiar here , the last index or stop index value is not included . if you want to read up on discussion on possible rationale for this , go here : https://stackoverflow.com/questions/11364533/why-are-slice-and-range-upper-bound-exclusive\n",
    "\n",
    "but thats just to satiate your curiosity. you can continue here without visiting that link and making peace with the fact that the last index is not included in the outcome\n",
    "\n"
   ]
  },
  {
   "cell_type": "code",
   "execution_count": null,
   "id": "2c6b84d3",
   "metadata": {},
   "outputs": [],
   "source": [
    "mystring[1:5] # this will start at index 1 value , whichs E and go till index 4 only "
   ]
  },
  {
   "cell_type": "code",
   "execution_count": null,
   "id": "5259b7cb",
   "metadata": {},
   "outputs": [],
   "source": [
    "mystring[1:10]"
   ]
  },
  {
   "cell_type": "markdown",
   "id": "058fce71",
   "metadata": {},
   "source": [
    "by default :  the step size is 1 and string traversal happens from lef to right . you dont have to explicitly mention that. but lets say you want to change the step size to 2, meaning traversal will happen in a fashion that next character will be 2 step away instead of the immediate next one"
   ]
  },
  {
   "cell_type": "code",
   "execution_count": null,
   "id": "822d74d8",
   "metadata": {},
   "outputs": [],
   "source": [
    "print(mystring)\n",
    "mystring[1:10:2]"
   ]
  },
  {
   "cell_type": "markdown",
   "id": "271b9e5d",
   "metadata": {},
   "source": [
    "you can reverse the traversal direction by setting the step size as -1"
   ]
  },
  {
   "cell_type": "code",
   "execution_count": null,
   "id": "efbe72b7",
   "metadata": {},
   "outputs": [],
   "source": [
    "print(mystring) # for reference\n",
    "mystring[1:10:-1]"
   ]
  },
  {
   "cell_type": "markdown",
   "id": "e80ab73d",
   "metadata": {},
   "source": [
    "the outcome that you see is empty because you cant go from index 1 to 10 when traversing from right to left, hence the empty string. you will have to pass appropriate starting and ending posisitions as well "
   ]
  },
  {
   "cell_type": "code",
   "execution_count": null,
   "id": "5dff18dd",
   "metadata": {},
   "outputs": [],
   "source": [
    "print(mystring) # for reference\n",
    "mystring[5:2:-1]"
   ]
  },
  {
   "cell_type": "markdown",
   "id": "97b9ec91",
   "metadata": {},
   "source": [
    "if you leave the starting position empty , python assumes that starting position is at the very beggining of the traversal and if you leave the ending position empty, python assumes that stopping positions is at the vert end of the traversal . here are some examples . try to guess what the outcome would be before you execute and if the outcome is different from what you expected , "
   ]
  },
  {
   "cell_type": "code",
   "execution_count": null,
   "id": "b4b15b4a",
   "metadata": {},
   "outputs": [],
   "source": [
    "print(mystring) # for reference\n",
    "mystring[::-1]"
   ]
  },
  {
   "cell_type": "code",
   "execution_count": null,
   "id": "c3aff1ce",
   "metadata": {},
   "outputs": [],
   "source": [
    "print(mystring) # for reference\n",
    "mystring[:-14:-2]"
   ]
  },
  {
   "cell_type": "code",
   "execution_count": null,
   "id": "90bd9cfd",
   "metadata": {},
   "outputs": [],
   "source": [
    "print(mystring) # for reference\n",
    "mystring[2::2]"
   ]
  },
  {
   "cell_type": "markdown",
   "id": "01ab128b",
   "metadata": {},
   "source": [
    "the same idea of indexing will apply to other ordered iterables also, like lists , arrays, series etc that we will encounter as we progress in the course "
   ]
  },
  {
   "cell_type": "code",
   "execution_count": null,
   "id": "fe584266",
   "metadata": {},
   "outputs": [],
   "source": []
  },
  {
   "cell_type": "code",
   "execution_count": null,
   "id": "16845e94",
   "metadata": {},
   "outputs": [],
   "source": []
  }
 ],
 "metadata": {
  "kernelspec": {
   "display_name": "Python 3 (ipykernel)",
   "language": "python",
   "name": "python3"
  },
  "language_info": {
   "codemirror_mode": {
    "name": "ipython",
    "version": 3
   },
   "file_extension": ".py",
   "mimetype": "text/x-python",
   "name": "python",
   "nbconvert_exporter": "python",
   "pygments_lexer": "ipython3",
   "version": "3.10.9"
  }
 },
 "nbformat": 4,
 "nbformat_minor": 5
}
