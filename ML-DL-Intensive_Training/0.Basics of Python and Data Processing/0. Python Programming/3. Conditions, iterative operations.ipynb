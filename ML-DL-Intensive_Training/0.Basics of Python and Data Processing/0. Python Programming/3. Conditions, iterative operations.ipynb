{
 "cells": [
  {
   "cell_type": "markdown",
   "id": "18c9dbce",
   "metadata": {},
   "source": [
    "# Conditions in Python"
   ]
  },
  {
   "cell_type": "markdown",
   "id": "9c713921",
   "metadata": {},
   "source": [
    "you can write conditions with usual symbols found in other tools you might have used in the past . Here is a list of symbols which python makes use of for conditions \n",
    "\n",
    "* Equality => `==` \n",
    "* Inequality => `!=`\n",
    "* Greater than => `>`\n",
    "* Greather than or equal to => `>=`\n",
    "* Less than => `<`\n",
    "* Less than or equal to => `<=`\n",
    "* Negation => `not` [add not in front of a condition or boolean and it flips it ]\n",
    "\n",
    "below given are some examples . you can write complex conditions by combinining multiple conditions using `and` or `or` keywords . \n",
    "\n",
    "Use parenthesis `( )` for better readability and consistent evaluation of the conditions . Outcome of a condition [simple of compound] will be single `True` or `False`"
   ]
  },
  {
   "cell_type": "code",
   "execution_count": 1,
   "id": "782e19c0",
   "metadata": {},
   "outputs": [],
   "source": [
    "x=4\n",
    "y=34"
   ]
  },
  {
   "cell_type": "code",
   "execution_count": 2,
   "id": "13135a8b",
   "metadata": {},
   "outputs": [
    {
     "data": {
      "text/plain": [
       "(False, True, False, True, False, True, False, True, True)"
      ]
     },
     "execution_count": 2,
     "metadata": {},
     "output_type": "execute_result"
    }
   ],
   "source": [
    "x==y , x!=y , x>y, x<y, x>=y, x<=y , not True, not False, not x==y"
   ]
  },
  {
   "cell_type": "markdown",
   "id": "1af08d70",
   "metadata": {},
   "source": [
    "you can similarly write conditions on strings as well. for equality/inequaluty string comparison is case sensitive. For other comparisons it follows dictionary order. [My advice here is that avoid using less than greater than comparisons for strings ]"
   ]
  },
  {
   "cell_type": "markdown",
   "id": "132eba33",
   "metadata": {},
   "source": [
    "### Compound Conditions\n",
    "\n",
    "try to guess what the outcome will be and revisit if you are wrong. make changes and experiment. For your refresher \n",
    "\n",
    "* combining two booleans with `and` will only be True if both of them are True\n",
    "* combining two boolean with `or` will only be False if both of them are False "
   ]
  },
  {
   "cell_type": "code",
   "execution_count": 3,
   "id": "34e3c946",
   "metadata": {},
   "outputs": [
    {
     "data": {
      "text/plain": [
       "True"
      ]
     },
     "execution_count": 3,
     "metadata": {},
     "output_type": "execute_result"
    }
   ],
   "source": [
    "(not x>45 and y==34 ) or ('python'=='Python' or 'python'=='python')"
   ]
  },
  {
   "cell_type": "markdown",
   "id": "4ae64ca7",
   "metadata": {},
   "source": [
    "### Conditional Execution of Code Lines with if-else code blocks "
   ]
  },
  {
   "cell_type": "markdown",
   "id": "0b79953c",
   "metadata": {},
   "source": [
    "code blocks in python are defined by indentation level. some rules for indentation\n",
    "\n",
    "* indentation needs to be consistent within a code block. avoid mixing tabs and spaces \n",
    "* code blocks start with symbol `:` which appears when you start a syntactical code block. this could be if-else block, or a loop, function, class etc . once you have symbol `:` , python expects indentation, without which it will throw error. It will also throw error if you forget the symbol `:` and start with a code block. \n",
    "\n",
    "we will explore that with `if-else` statements \n",
    "\n",
    "for the code written below: `%` is used as modulo operator in python. it gives remainder on divison. for example if you divide 100 by 32, remainder will be 4. This operator is generally used to check divisibility [if `a` is divisible by `b` then `a%b==0` . ]"
   ]
  },
  {
   "cell_type": "code",
   "execution_count": 4,
   "id": "6dc8189a",
   "metadata": {},
   "outputs": [
    {
     "data": {
      "text/plain": [
       "4"
      ]
     },
     "execution_count": 4,
     "metadata": {},
     "output_type": "execute_result"
    }
   ],
   "source": [
    "100%32"
   ]
  },
  {
   "cell_type": "code",
   "execution_count": 5,
   "id": "9a09246e",
   "metadata": {},
   "outputs": [
    {
     "name": "stdout",
     "output_type": "stream",
     "text": [
      "this is an even number\n"
     ]
    }
   ],
   "source": [
    "x=10\n",
    "\n",
    "if x%2==0:\n",
    "    print('this is an even number')"
   ]
  },
  {
   "cell_type": "markdown",
   "id": "83d85465",
   "metadata": {},
   "source": [
    "try chagning x to an odd number you will notice the code inside `if` block is not executed because the condition isnt true anymore. One more thing to notice here is that `if` block does not need an accompanying `else` block by default. However a stand alone `else` block doesnt make sense "
   ]
  },
  {
   "cell_type": "code",
   "execution_count": 6,
   "id": "6927cce1",
   "metadata": {},
   "outputs": [
    {
     "name": "stdout",
     "output_type": "stream",
     "text": [
      "this is an even number\n"
     ]
    }
   ],
   "source": [
    "x=10\n",
    "\n",
    "if x%2==0:\n",
    "    print('this is an even number')\n",
    "    \n",
    "else : \n",
    "    print('this is an odd number')"
   ]
  },
  {
   "cell_type": "markdown",
   "id": "ede0eeea",
   "metadata": {},
   "source": [
    "note that for starting `else` block you need to break the indentation and again start at one level below at the same level as `if` block because of two reasons \n",
    "* `else` is a separate code block \n",
    "* and it accompanies `if`\n",
    "\n",
    "you can write as many code lines in a code block as you want. it need not be limited to just one line as shown above "
   ]
  },
  {
   "cell_type": "markdown",
   "id": "25016444",
   "metadata": {},
   "source": [
    "### selective sequential check vs all condition check [using `elif` short for `else if` vs using just `if` ]\n",
    "\n",
    "run the following codes and try to figure out how the two behave differently . Feel free to make changes in the initial inputs and conditions and see if you can guess correctly what the outcome of the codes will be "
   ]
  },
  {
   "cell_type": "code",
   "execution_count": 7,
   "id": "779a3493",
   "metadata": {},
   "outputs": [],
   "source": [
    "x=[3,4,5,6,7,8]"
   ]
  },
  {
   "cell_type": "code",
   "execution_count": 8,
   "id": "a78e89bd",
   "metadata": {},
   "outputs": [
    {
     "name": "stdout",
     "output_type": "stream",
     "text": [
      "3 is in the list\n",
      "4 is in the list\n"
     ]
    }
   ],
   "source": [
    "if 3 in x:\n",
    "    print('3 is in the list')\n",
    "if 10 in x:\n",
    "    print('10 is in the list')\n",
    "if 4 in x:\n",
    "    print('4 is in the list')\n",
    "else:\n",
    "    print('end of checks')\n"
   ]
  },
  {
   "cell_type": "code",
   "execution_count": 9,
   "id": "75bf8f8e",
   "metadata": {},
   "outputs": [
    {
     "name": "stdout",
     "output_type": "stream",
     "text": [
      "3 is in the list\n"
     ]
    }
   ],
   "source": [
    "if 3 in x:\n",
    "    print('3 is in the list')\n",
    "elif 10 in x:\n",
    "    print('10 is in the list')\n",
    "elif 40 in x:\n",
    "    print('4 is in the list')\n",
    "else:\n",
    "    print('end of checks')"
   ]
  },
  {
   "cell_type": "markdown",
   "id": "66db7d91",
   "metadata": {},
   "source": [
    "# Iterative Operations"
   ]
  },
  {
   "cell_type": "markdown",
   "id": "2c198f6e",
   "metadata": {},
   "source": [
    "In any programming language you will find work arounds whenever you need to run some code lines which are exactly the same barring few inputs which are coming from some data collection. Essentially the task which you are doing in the code lines is iterating over the data collection and doing same thing for all elements of that data collection . These work arounds which support iterative operations are called loops. there are two kinds :\n",
    "\n",
    "* for loops : they iterate over a data collection [iterable] [e.g. `list`, `sets` , `arrays` , `series` etc], execution of code stops when there is an error or the data collection elements are finished \n",
    "* while loops: they iteratively execute the code block contained in them until a condition is true"
   ]
  },
  {
   "cell_type": "markdown",
   "id": "850afa1d",
   "metadata": {},
   "source": [
    "consider this hypothetical task of going through all the elements of the list and retaining only those elements which are divisible by both 3 and 5. in the first example , instead of retaining them in another list, we will simply print them "
   ]
  },
  {
   "cell_type": "code",
   "execution_count": 10,
   "id": "4bb8c68a",
   "metadata": {},
   "outputs": [],
   "source": [
    "x=list(range(3,40,3))"
   ]
  },
  {
   "cell_type": "code",
   "execution_count": 11,
   "id": "def0034c",
   "metadata": {},
   "outputs": [
    {
     "data": {
      "text/plain": [
       "[3, 6, 9, 12, 15, 18, 21, 24, 27, 30, 33, 36, 39]"
      ]
     },
     "execution_count": 11,
     "metadata": {},
     "output_type": "execute_result"
    }
   ],
   "source": [
    "x"
   ]
  },
  {
   "cell_type": "markdown",
   "id": "385c7139",
   "metadata": {},
   "source": [
    "general structure of the for loop will be as following \n",
    "\n",
    "```\n",
    "for name_for_the_index_or_element in data_collection_or_index_range:\n",
    "    do something here \n",
    "```\n",
    "\n",
    "* name for the index or element : you can directly iterate over the elements or get them using an index . the name that you chose keeps on getting reassigned the value at each next iteration of the loop\n",
    "* data collection or index range : if you are directly iterating over the elements then you put data collection in the for statement or if you are using an index then you put range of values which the index is going to take \n",
    "\n",
    "lets do the task mention above . I wil show you both using index as well as directly iterating over the data elements . "
   ]
  },
  {
   "cell_type": "code",
   "execution_count": 12,
   "id": "f8d75b03",
   "metadata": {},
   "outputs": [
    {
     "data": {
      "text/plain": [
       "[0, 1, 2, 3, 4, 5, 6, 7, 8, 9, 10, 11, 12]"
      ]
     },
     "execution_count": 12,
     "metadata": {},
     "output_type": "execute_result"
    }
   ],
   "source": [
    "list(range(len(x)))"
   ]
  },
  {
   "cell_type": "code",
   "execution_count": 13,
   "id": "12d4c80f",
   "metadata": {},
   "outputs": [
    {
     "name": "stdout",
     "output_type": "stream",
     "text": [
      "15\n",
      "30\n"
     ]
    }
   ],
   "source": [
    "for i in range(len(x)):\n",
    "    if x[i]%3==0 and x[i]%5==0:\n",
    "        print(x[i])"
   ]
  },
  {
   "cell_type": "code",
   "execution_count": 14,
   "id": "eb0503fe",
   "metadata": {},
   "outputs": [
    {
     "name": "stdout",
     "output_type": "stream",
     "text": [
      "15\n",
      "30\n"
     ]
    }
   ],
   "source": [
    "for elem in x:\n",
    "    if elem%3==0 and elem%5==0:\n",
    "        print(elem)"
   ]
  },
  {
   "cell_type": "markdown",
   "id": "9c104829",
   "metadata": {},
   "source": [
    "if we want to retain this result in a list, we can start with an empty list and whenever the condition is satisfied , append the element to the list. "
   ]
  },
  {
   "cell_type": "code",
   "execution_count": 15,
   "id": "8c4837fb",
   "metadata": {},
   "outputs": [],
   "source": [
    "result=[]\n",
    "\n",
    "for elem in x:\n",
    "    if elem%3==0 and elem%5==0:\n",
    "        result.append(elem)"
   ]
  },
  {
   "cell_type": "code",
   "execution_count": 16,
   "id": "dccad6d6",
   "metadata": {},
   "outputs": [
    {
     "data": {
      "text/plain": [
       "[15, 30]"
      ]
     },
     "execution_count": 16,
     "metadata": {},
     "output_type": "execute_result"
    }
   ],
   "source": [
    "result"
   ]
  },
  {
   "cell_type": "markdown",
   "id": "0a58af16",
   "metadata": {},
   "source": [
    "lets do the same task with a while loop. Every time we write a while loop we will have to think how we can come up with a condition which will suffice for what we are trying to do . In this case we can create a placeholder element and everytime we go inside the while loop, we will increase its count. The condition when that count surpasses number of elements we stop"
   ]
  },
  {
   "cell_type": "code",
   "execution_count": 17,
   "id": "67cb9ccc",
   "metadata": {},
   "outputs": [],
   "source": [
    "i=0\n",
    "result=[]\n",
    "while i<len(x):\n",
    "    if x[i]%3==0 and x[i]%5==0:\n",
    "        result.append(x[i])\n",
    "    i=i+1"
   ]
  },
  {
   "cell_type": "code",
   "execution_count": 18,
   "id": "4c09944f",
   "metadata": {},
   "outputs": [
    {
     "data": {
      "text/plain": [
       "[15, 30]"
      ]
     },
     "execution_count": 18,
     "metadata": {},
     "output_type": "execute_result"
    }
   ],
   "source": [
    "result"
   ]
  },
  {
   "cell_type": "markdown",
   "id": "ab08ea1d",
   "metadata": {},
   "source": [
    "In this particular example , using while loop might seem like an overkill, and that is right. But in many situation iterating until a condition is met is more intuitive instead of iterating over all the elements of some data collection. Although in this case for loop looks like a more natural choice, but both ideas have their own place in the programming eco system"
   ]
  },
  {
   "cell_type": "markdown",
   "id": "67dc0185",
   "metadata": {},
   "source": [
    "# List Comprehension"
   ]
  },
  {
   "cell_type": "markdown",
   "id": "3c6d0f69",
   "metadata": {},
   "source": [
    "Python has an interesting functionality of containing the for loop within a list . The need for the idea arises from : many times we need to retain results of iterative code in another list , we can do that using this functionality [known as list comprehension] where we write the for loop directly in the list . \n",
    "\n",
    "lets first write a for loop and then see its equivalent list comprehension"
   ]
  },
  {
   "cell_type": "code",
   "execution_count": 19,
   "id": "03443bb2",
   "metadata": {},
   "outputs": [
    {
     "data": {
      "text/plain": [
       "[0, 1, 2, 3, 4, 5, 6, 7, 8, 9]"
      ]
     },
     "execution_count": 19,
     "metadata": {},
     "output_type": "execute_result"
    }
   ],
   "source": [
    "x=list(range(10))\n",
    "x"
   ]
  },
  {
   "cell_type": "code",
   "execution_count": 20,
   "id": "a8de10ec",
   "metadata": {},
   "outputs": [
    {
     "data": {
      "text/plain": [
       "[0, 1, 4, 9, 16, 25, 36, 49, 64, 81]"
      ]
     },
     "execution_count": 20,
     "metadata": {},
     "output_type": "execute_result"
    }
   ],
   "source": [
    "squares_forloop=[]\n",
    "\n",
    "for elem in x:\n",
    "    squares_forloop.append(elem**2)\n",
    "    \n",
    "squares_forloop"
   ]
  },
  {
   "cell_type": "code",
   "execution_count": 21,
   "id": "c65233fd",
   "metadata": {},
   "outputs": [
    {
     "data": {
      "text/plain": [
       "[0, 1, 4, 9, 16, 25, 36, 49, 64, 81]"
      ]
     },
     "execution_count": 21,
     "metadata": {},
     "output_type": "execute_result"
    }
   ],
   "source": [
    "squares_lc=[elem**2 for elem in x ]\n",
    "squares_lc"
   ]
  },
  {
   "cell_type": "markdown",
   "id": "bdfaef44",
   "metadata": {},
   "source": [
    "the first calculation [`elem**2` in this case] essentially becomes element of the new list and that calculation is done `for elem in x` iterating over members of x, and the results keep on getting added to the list as new memebrs. \n",
    "\n",
    "we can use if-else conditions also in list comprehension but in my experience that code becomes difficult to read for a lot of practitioners and in such a scenario i will advise to write explicit for loops instead of using list comprehension .Below here is the earlier task that we did with divisibility of 3 and 5, done with using list comprehension along with the for loop that we wrote; for you to draw parrallels.  "
   ]
  },
  {
   "cell_type": "code",
   "execution_count": 22,
   "id": "d7ffd7ca",
   "metadata": {},
   "outputs": [
    {
     "data": {
      "text/plain": [
       "[3, 6, 9, 12, 15, 18, 21, 24, 27, 30, 33, 36, 39]"
      ]
     },
     "execution_count": 22,
     "metadata": {},
     "output_type": "execute_result"
    }
   ],
   "source": [
    "x=list(range(3,40,3))\n",
    "x"
   ]
  },
  {
   "cell_type": "code",
   "execution_count": 23,
   "id": "d8c1018a",
   "metadata": {},
   "outputs": [
    {
     "data": {
      "text/plain": [
       "[15, 30]"
      ]
     },
     "execution_count": 23,
     "metadata": {},
     "output_type": "execute_result"
    }
   ],
   "source": [
    "result_fl=[]\n",
    "\n",
    "for elem in x:\n",
    "    if elem%3==0 and elem%5==0:\n",
    "        result_fl.append(elem)\n",
    "result_fl"
   ]
  },
  {
   "cell_type": "code",
   "execution_count": 24,
   "id": "9fe5665f",
   "metadata": {},
   "outputs": [
    {
     "data": {
      "text/plain": [
       "[15, 30]"
      ]
     },
     "execution_count": 24,
     "metadata": {},
     "output_type": "execute_result"
    }
   ],
   "source": [
    "result_lc=[elem for elem in x if elem%3==0 and elem%5==0]\n",
    "result_lc"
   ]
  },
  {
   "cell_type": "markdown",
   "id": "194947fc",
   "metadata": {},
   "source": [
    "# Exercise\n",
    "\n",
    "create a list containing random letters . [i will do this part for you ]"
   ]
  },
  {
   "cell_type": "code",
   "execution_count": 25,
   "id": "a510a112",
   "metadata": {},
   "outputs": [],
   "source": [
    "import numpy as np"
   ]
  },
  {
   "cell_type": "code",
   "execution_count": 26,
   "id": "2d921377",
   "metadata": {},
   "outputs": [
    {
     "data": {
      "text/plain": [
       "array(['h', 'f', 'f', 'c', 'h', 'h', 'f', 'k', 'k', 'c', 'h', 'f', 'f',\n",
       "       'e', 'l', 'a', 'j', 'h', 'd', 'd', 'g', 'i', 'l', 'e', 'k', 'i',\n",
       "       'f', 'l', 'l', 'g', 'k', 'b', 'g', 'g', 'e', 'i', 'c', 'd', 'j',\n",
       "       'l', 'f', 'c', 'f', 'c', 'e', 'e', 'b', 'f', 'j', 'g', 'b', 'b',\n",
       "       'l', 'g', 'j', 'j', 'h', 'b', 'k', 'j', 'g', 'e', 'e', 'h', 'j',\n",
       "       'a', 'd', 'e', 'f', 'b', 'b', 'g', 'j', 'l', 'f', 'i', 'k', 'h',\n",
       "       'j', 'f', 'h', 'c', 'b', 'd', 'd', 'k', 'l', 'd', 'k', 'l', 'e',\n",
       "       'g', 'a', 'i', 'e', 'g', 'g', 'a', 'j', 'c'], dtype='<U1')"
      ]
     },
     "execution_count": 26,
     "metadata": {},
     "output_type": "execute_result"
    }
   ],
   "source": [
    "x=np.random.choice(list('abcdefghijkl'),100)\n",
    "x\n",
    "# since this is random, results are going to be different on different machines and even on the same machines \n",
    "# between different runs"
   ]
  },
  {
   "cell_type": "markdown",
   "id": "2c03de44",
   "metadata": {},
   "source": [
    "1. create a dictionary which has the unique letters as keys and their counts in the list as values . Follow these steps "
   ]
  },
  {
   "cell_type": "code",
   "execution_count": 32,
   "id": "ca9bd762",
   "metadata": {},
   "outputs": [],
   "source": [
    "# create an empty dictionary . hint dict={}"
   ]
  },
  {
   "cell_type": "code",
   "execution_count": 33,
   "id": "9a489edd",
   "metadata": {},
   "outputs": [],
   "source": [
    "dict={}"
   ]
  },
  {
   "cell_type": "code",
   "execution_count": 34,
   "id": "ad062074",
   "metadata": {},
   "outputs": [],
   "source": [
    "# write a for loop iterating over the list/array created above .\n",
    "# inside the for loop for each element check if the element is already in the keys of the dictionary \n",
    "# [hint if letter in dict.keys()]\n",
    "# if it is there then increase the count [hint: dict[letter]=dict[letter]+1]\n",
    "# if it is not there then intialise it [hint: dict[letter]=1]"
   ]
  },
  {
   "cell_type": "code",
   "execution_count": 35,
   "id": "5749e930",
   "metadata": {},
   "outputs": [],
   "source": [
    "for character in x:\n",
    "    if character in dict.keys():\n",
    "        dict[character]=dict[character]+1\n",
    "    else:\n",
    "        dict[character]=1"
   ]
  },
  {
   "cell_type": "code",
   "execution_count": 36,
   "id": "a8b0b0d2",
   "metadata": {},
   "outputs": [
    {
     "data": {
      "text/plain": [
       "{'h': 9,\n",
       " 'f': 12,\n",
       " 'c': 7,\n",
       " 'k': 8,\n",
       " 'e': 10,\n",
       " 'l': 9,\n",
       " 'a': 4,\n",
       " 'j': 10,\n",
       " 'd': 7,\n",
       " 'g': 11,\n",
       " 'i': 5,\n",
       " 'b': 8}"
      ]
     },
     "execution_count": 36,
     "metadata": {},
     "output_type": "execute_result"
    }
   ],
   "source": [
    "dict"
   ]
  },
  {
   "cell_type": "markdown",
   "id": "8fff0f22",
   "metadata": {},
   "source": [
    "2. find which letter has maximum frequency [this can be a little challenging as i will ask you to search/find things which we have not discussed in the class ]"
   ]
  },
  {
   "cell_type": "code",
   "execution_count": 38,
   "id": "7c87188b",
   "metadata": {},
   "outputs": [
    {
     "data": {
      "text/plain": [
       "'f'"
      ]
     },
     "execution_count": 38,
     "metadata": {},
     "output_type": "execute_result"
    }
   ],
   "source": [
    "max_value=0\n",
    "max_key=''\n",
    "for key, value in dict.items():\n",
    "    if value>max_value:\n",
    "        max_value=value\n",
    "        max_key=key\n",
    "max_key"
   ]
  },
  {
   "cell_type": "code",
   "execution_count": 39,
   "id": "bdef24f2",
   "metadata": {},
   "outputs": [
    {
     "data": {
      "text/plain": [
       "dict_items"
      ]
     },
     "execution_count": 39,
     "metadata": {},
     "output_type": "execute_result"
    }
   ],
   "source": [
    "type(dict.items())"
   ]
  },
  {
   "cell_type": "code",
   "execution_count": 29,
   "id": "11ad661f",
   "metadata": {},
   "outputs": [],
   "source": [
    "# convert the dictionary to list of tuples where each tuple is key value pair [hint : dict.items()]\n",
    "\n",
    "# search \"how to sort a list of tuples with a particular position element\".\n",
    "# go to stackoverflow or elsewhere and see if you can make sense of any of the suggested solutions\n",
    "# ignore the ones with lambda functions"
   ]
  }
 ],
 "metadata": {
  "kernelspec": {
   "display_name": "base",
   "language": "python",
   "name": "python3"
  },
  "language_info": {
   "codemirror_mode": {
    "name": "ipython",
    "version": 3
   },
   "file_extension": ".py",
   "mimetype": "text/x-python",
   "name": "python",
   "nbconvert_exporter": "python",
   "pygments_lexer": "ipython3",
   "version": "3.12.4"
  }
 },
 "nbformat": 4,
 "nbformat_minor": 5
}
