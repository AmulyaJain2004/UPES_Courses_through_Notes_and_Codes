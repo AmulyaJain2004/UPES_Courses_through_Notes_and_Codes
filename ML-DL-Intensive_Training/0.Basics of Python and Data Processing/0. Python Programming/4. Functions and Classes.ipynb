{
 "cells": [
  {
   "cell_type": "markdown",
   "id": "f7c655b0",
   "metadata": {},
   "source": [
    "Functions in python in another language exist so that you dont have to write same piece of code again and again to do similar tasks. Instead of that you simply call that entire piece of code with the function name with required inputs for the task and it internally executes that block of code of any time you call the function and returns with the results . We use keyword `def` to define a function code block . Here is a simple example of a function which does first part of the exercise given in earlier section ."
   ]
  },
  {
   "cell_type": "code",
   "execution_count": 1,
   "id": "b383aad8",
   "metadata": {},
   "outputs": [],
   "source": [
    "import numpy as np\n",
    "x=np.random.choice(list('abcdefghijkl'),40)"
   ]
  },
  {
   "cell_type": "code",
   "execution_count": 2,
   "id": "0cff602d",
   "metadata": {},
   "outputs": [
    {
     "data": {
      "text/plain": [
       "array(['a', 'e', 'k', 'l', 'd', 'c', 'g', 'b', 'a', 'g', 'a', 'k', 'd',\n",
       "       'g', 'j', 'i', 'd', 'b', 'k', 'j', 'd', 'l', 'i', 'h', 'e', 'g',\n",
       "       'e', 'l', 'h', 'i', 'l', 'a', 'a', 'l', 'c', 'j', 'f', 'j', 'f',\n",
       "       'i'], dtype='<U1')"
      ]
     },
     "execution_count": 2,
     "metadata": {},
     "output_type": "execute_result"
    }
   ],
   "source": [
    "x"
   ]
  },
  {
   "cell_type": "code",
   "execution_count": 3,
   "id": "704258d4",
   "metadata": {},
   "outputs": [],
   "source": [
    "def freq_dict(some_list):\n",
    "    \n",
    "    result_dict={}\n",
    "    \n",
    "    for elem in some_list:\n",
    "        \n",
    "        if elem in result_dict.keys():\n",
    "            result_dict[elem]+=1\n",
    "        else:\n",
    "            result_dict[elem]=1\n",
    "            \n",
    "    return result_dict"
   ]
  },
  {
   "cell_type": "code",
   "execution_count": 4,
   "id": "18b61cb4",
   "metadata": {},
   "outputs": [
    {
     "data": {
      "text/plain": [
       "{'a': 5,\n",
       " 'e': 3,\n",
       " 'k': 3,\n",
       " 'l': 5,\n",
       " 'd': 4,\n",
       " 'c': 2,\n",
       " 'g': 4,\n",
       " 'b': 2,\n",
       " 'j': 4,\n",
       " 'i': 4,\n",
       " 'h': 2,\n",
       " 'f': 2}"
      ]
     },
     "execution_count": 4,
     "metadata": {},
     "output_type": "execute_result"
    }
   ],
   "source": [
    "freq_dict(x)"
   ]
  },
  {
   "cell_type": "code",
   "execution_count": 5,
   "id": "04c77d6b",
   "metadata": {},
   "outputs": [],
   "source": [
    "mylist=list('slkdjhfdfsanalkdpowmqdposdnqnweqjnwq')"
   ]
  },
  {
   "cell_type": "code",
   "execution_count": 6,
   "id": "912c74d9",
   "metadata": {},
   "outputs": [
    {
     "data": {
      "text/plain": [
       "{'s': 3,\n",
       " 'l': 2,\n",
       " 'k': 2,\n",
       " 'd': 5,\n",
       " 'j': 2,\n",
       " 'h': 1,\n",
       " 'f': 2,\n",
       " 'a': 2,\n",
       " 'n': 4,\n",
       " 'p': 2,\n",
       " 'o': 2,\n",
       " 'w': 3,\n",
       " 'm': 1,\n",
       " 'q': 4,\n",
       " 'e': 1}"
      ]
     },
     "execution_count": 6,
     "metadata": {},
     "output_type": "execute_result"
    }
   ],
   "source": [
    "freq_dict(mylist)"
   ]
  },
  {
   "cell_type": "markdown",
   "id": "c112e3f0",
   "metadata": {},
   "source": [
    "couple things to note here :\n",
    "\n",
    "* input to function [here that is `some_list`] are popularly known as `arguments` to the function or just `args`\n",
    "* function can take any number of inputs \n",
    "* object names used inside the function are local to function in scope. they will not be available globally. this allows people to reuse object names inside functions without worrying about that choice messing up things outside the function \n",
    "* processing inside a function stops once python encounters a return statement . Anything that you right after that in the function will not be executed unless there is way to circumvent the return statement. An example given below uses multiple return statements and also demonstrates that the functions can be called inside themselves. This is called recursive functions, all though its not a good programming practice . \n"
   ]
  },
  {
   "cell_type": "code",
   "execution_count": 14,
   "id": "eb4474ea",
   "metadata": {},
   "outputs": [],
   "source": [
    "def factorial(n):\n",
    "    \n",
    "    if n==1:\n",
    "        return 1\n",
    "    else:\n",
    "        print(f'calling {n}*factorial({n-1})')\n",
    "        return n*factorial(n-1)"
   ]
  },
  {
   "cell_type": "code",
   "execution_count": 15,
   "id": "580dc8e5",
   "metadata": {},
   "outputs": [
    {
     "name": "stdout",
     "output_type": "stream",
     "text": [
      "calling 10*factorial(9)\n",
      "calling 9*factorial(8)\n",
      "calling 8*factorial(7)\n",
      "calling 7*factorial(6)\n",
      "calling 6*factorial(5)\n",
      "calling 5*factorial(4)\n",
      "calling 4*factorial(3)\n",
      "calling 3*factorial(2)\n",
      "calling 2*factorial(1)\n"
     ]
    },
    {
     "data": {
      "text/plain": [
       "3628800"
      ]
     },
     "execution_count": 15,
     "metadata": {},
     "output_type": "execute_result"
    }
   ],
   "source": [
    "factorial(10)"
   ]
  },
  {
   "cell_type": "markdown",
   "id": "438def89",
   "metadata": {},
   "source": [
    "## Default arguments "
   ]
  },
  {
   "cell_type": "markdown",
   "id": "5a7b8e43",
   "metadata": {},
   "source": [
    "when you define args for a function, at that moment you can give them some default value; which will be used only if user doesnt give any input for those arguments . If user does provide some input for those arguments , then default value provided in the function definition is overwritten"
   ]
  },
  {
   "cell_type": "code",
   "execution_count": 9,
   "id": "a289b434",
   "metadata": {},
   "outputs": [],
   "source": [
    "def mysum(a=1,b=10,c=100):\n",
    "    \n",
    "    return a+10*b+100*c"
   ]
  },
  {
   "cell_type": "code",
   "execution_count": 10,
   "id": "3cec6bce",
   "metadata": {},
   "outputs": [
    {
     "data": {
      "text/plain": [
       "10101"
      ]
     },
     "execution_count": 10,
     "metadata": {},
     "output_type": "execute_result"
    }
   ],
   "source": [
    "mysum()"
   ]
  },
  {
   "cell_type": "markdown",
   "id": "8b3c2aae",
   "metadata": {},
   "source": [
    "when you are calling the function, if you name your arguments, the sequence in which you pass the arguments does not matter "
   ]
  },
  {
   "cell_type": "code",
   "execution_count": 11,
   "id": "6395132b",
   "metadata": {},
   "outputs": [
    {
     "data": {
      "text/plain": [
       "3012"
      ]
     },
     "execution_count": 11,
     "metadata": {},
     "output_type": "execute_result"
    }
   ],
   "source": [
    "mysum(c=30,a=2,b=1)"
   ]
  },
  {
   "cell_type": "markdown",
   "id": "b9cea4ef",
   "metadata": {},
   "source": [
    "but if you dont name your arguments , values are assigned sequentially and if there are not enough inputs available , for the remaining arguments , default values are used  "
   ]
  },
  {
   "cell_type": "code",
   "execution_count": 12,
   "id": "ec82d438",
   "metadata": {},
   "outputs": [
    {
     "data": {
      "text/plain": [
       "10043"
      ]
     },
     "execution_count": 12,
     "metadata": {},
     "output_type": "execute_result"
    }
   ],
   "source": [
    "mysum(3,4)"
   ]
  },
  {
   "cell_type": "markdown",
   "id": "cf2ee1dc",
   "metadata": {},
   "source": [
    "in general you should avoid mixing named [called `kewrod args`] and unnamed arguments [called `positional args`] together. By rule, once you start naming arguments in your function call, an unnamed arugment can not be passed . But a named argument can follow after a positional argument "
   ]
  },
  {
   "cell_type": "code",
   "execution_count": 13,
   "id": "62dd4f2a",
   "metadata": {},
   "outputs": [
    {
     "ename": "SyntaxError",
     "evalue": "positional argument follows keyword argument (946089210.py, line 1)",
     "output_type": "error",
     "traceback": [
      "\u001b[1;36m  Cell \u001b[1;32mIn[13], line 1\u001b[1;36m\u001b[0m\n\u001b[1;33m    mysum(a=3,4,5)\u001b[0m\n\u001b[1;37m                 ^\u001b[0m\n\u001b[1;31mSyntaxError\u001b[0m\u001b[1;31m:\u001b[0m positional argument follows keyword argument\n"
     ]
    }
   ],
   "source": [
    "mysum(a=3,4,5)"
   ]
  },
  {
   "cell_type": "code",
   "execution_count": 16,
   "id": "63bf7412",
   "metadata": {},
   "outputs": [
    {
     "data": {
      "text/plain": [
       "1043"
      ]
     },
     "execution_count": 16,
     "metadata": {},
     "output_type": "execute_result"
    }
   ],
   "source": [
    "mysum(3,4,c=10)"
   ]
  },
  {
   "cell_type": "markdown",
   "id": "75eb694a",
   "metadata": {},
   "source": [
    "however you need to keep in mind , that once you called a function with unnamed arguments, it started assigning the values internally in the function, so `a=3` and `b=4` happens and then it encounters named argument `c`. this is ok, however if you tried something like this \n"
   ]
  },
  {
   "cell_type": "code",
   "execution_count": 17,
   "id": "3a9bb1f1",
   "metadata": {},
   "outputs": [
    {
     "ename": "TypeError",
     "evalue": "mysum() got multiple values for argument 'a'",
     "output_type": "error",
     "traceback": [
      "\u001b[1;31m---------------------------------------------------------------------------\u001b[0m",
      "\u001b[1;31mTypeError\u001b[0m                                 Traceback (most recent call last)",
      "Cell \u001b[1;32mIn[17], line 1\u001b[0m\n\u001b[1;32m----> 1\u001b[0m \u001b[43mmysum\u001b[49m\u001b[43m(\u001b[49m\u001b[38;5;241;43m3\u001b[39;49m\u001b[43m,\u001b[49m\u001b[38;5;241;43m4\u001b[39;49m\u001b[43m,\u001b[49m\u001b[43ma\u001b[49m\u001b[38;5;241;43m=\u001b[39;49m\u001b[38;5;241;43m10\u001b[39;49m\u001b[43m)\u001b[49m\n",
      "\u001b[1;31mTypeError\u001b[0m: mysum() got multiple values for argument 'a'"
     ]
    }
   ],
   "source": [
    "mysum(3,4,a=10)"
   ]
  },
  {
   "cell_type": "markdown",
   "id": "c406c584",
   "metadata": {},
   "source": [
    "you get an error because `a` has already been assigned "
   ]
  },
  {
   "cell_type": "markdown",
   "id": "efa3d669",
   "metadata": {},
   "source": [
    "# * args and ** keywords args"
   ]
  },
  {
   "cell_type": "markdown",
   "id": "e234be63",
   "metadata": {},
   "source": [
    "you can techincally write functions with variable number of arguments or arguments with names decided at the time of execution, but that is something is out of scope for us here . We will look at `*args` and `**keyword` from the perspective of calling a function where are inputs can be in a list or dictionary bunched up together "
   ]
  },
  {
   "cell_type": "code",
   "execution_count": 20,
   "id": "02eaa1a7",
   "metadata": {},
   "outputs": [
    {
     "name": "stdout",
     "output_type": "stream",
     "text": [
      "1\n",
      "2\n",
      "3\n",
      "a\n",
      "b\n"
     ]
    }
   ],
   "source": [
    "def print_args(*args):\n",
    "    for arg in args:\n",
    "        print(arg)\n",
    "\n",
    "# Calling the function with multiple arguments\n",
    "print_args(1, 2, 3, 'a', 'b')"
   ]
  },
  {
   "cell_type": "code",
   "execution_count": 21,
   "id": "6889a8bb",
   "metadata": {},
   "outputs": [
    {
     "name": "stdout",
     "output_type": "stream",
     "text": [
      "name = Alice\n",
      "age = 30\n",
      "city = Wonderland\n"
     ]
    }
   ],
   "source": [
    "def print_kwargs(**kwargs):\n",
    "    for key, value in kwargs.items():\n",
    "        print(f\"{key} = {value}\")\n",
    "\n",
    "# Calling the function with multiple keyword arguments\n",
    "print_kwargs(name=\"Alice\", age=30, city=\"Wonderland\")"
   ]
  },
  {
   "cell_type": "code",
   "execution_count": 22,
   "id": "dad093e1",
   "metadata": {},
   "outputs": [
    {
     "name": "stdout",
     "output_type": "stream",
     "text": [
      "Hello, my name is Alice, I am 30 years old and I live in Wonderland.\n",
      "Hello, my name is Alice, I am 30 years old and I live in Wonderland.\n"
     ]
    }
   ],
   "source": [
    "def greet(name, age, city):\n",
    "    print(f\"Hello, my name is {name}, I am {age} years old and I live in {city}.\")\n",
    "\n",
    "# Using a list to pass arguments\n",
    "args = [\"Alice\", 30, \"Wonderland\"]\n",
    "greet(*args)\n",
    "\n",
    "# Using a dictionary to pass keyword arguments\n",
    "kwargs = {\"name\": \"Alice\", \"age\": 30, \"city\": \"Wonderland\"}\n",
    "greet(**kwargs)"
   ]
  },
  {
   "cell_type": "code",
   "execution_count": 18,
   "id": "6a278595",
   "metadata": {},
   "outputs": [],
   "source": [
    "myargs=[4,5,6]"
   ]
  },
  {
   "cell_type": "code",
   "execution_count": 19,
   "id": "dfe7904e",
   "metadata": {},
   "outputs": [
    {
     "ename": "TypeError",
     "evalue": "can only concatenate list (not \"int\") to list",
     "output_type": "error",
     "traceback": [
      "\u001b[1;31m---------------------------------------------------------------------------\u001b[0m",
      "\u001b[1;31mTypeError\u001b[0m                                 Traceback (most recent call last)",
      "Cell \u001b[1;32mIn[19], line 1\u001b[0m\n\u001b[1;32m----> 1\u001b[0m \u001b[43mmysum\u001b[49m\u001b[43m(\u001b[49m\u001b[43mmyargs\u001b[49m\u001b[43m)\u001b[49m\n",
      "Cell \u001b[1;32mIn[9], line 3\u001b[0m, in \u001b[0;36mmysum\u001b[1;34m(a, b, c)\u001b[0m\n\u001b[0;32m      1\u001b[0m \u001b[38;5;28;01mdef\u001b[39;00m \u001b[38;5;21mmysum\u001b[39m(a\u001b[38;5;241m=\u001b[39m\u001b[38;5;241m1\u001b[39m,b\u001b[38;5;241m=\u001b[39m\u001b[38;5;241m10\u001b[39m,c\u001b[38;5;241m=\u001b[39m\u001b[38;5;241m100\u001b[39m):\n\u001b[1;32m----> 3\u001b[0m     \u001b[38;5;28;01mreturn\u001b[39;00m \u001b[43ma\u001b[49m\u001b[38;5;241;43m+\u001b[39;49m\u001b[38;5;241;43m10\u001b[39;49m\u001b[38;5;241;43m*\u001b[39;49m\u001b[43mb\u001b[49m\u001b[38;5;241m+\u001b[39m\u001b[38;5;241m100\u001b[39m\u001b[38;5;241m*\u001b[39mc\n",
      "\u001b[1;31mTypeError\u001b[0m: can only concatenate list (not \"int\") to list"
     ]
    }
   ],
   "source": [
    "mysum(myargs)"
   ]
  },
  {
   "cell_type": "markdown",
   "id": "7afa6c68",
   "metadata": {},
   "source": [
    "above call throws an error because python considers the list to be a single object, however if call the function with `*` adjacent to the list , then python would consider each element of the list a separate input to the function"
   ]
  },
  {
   "cell_type": "code",
   "execution_count": 23,
   "id": "2edf88b6",
   "metadata": {},
   "outputs": [
    {
     "data": {
      "text/plain": [
       "654"
      ]
     },
     "execution_count": 23,
     "metadata": {},
     "output_type": "execute_result"
    }
   ],
   "source": [
    "mysum(*myargs)"
   ]
  },
  {
   "cell_type": "markdown",
   "id": "8fd3014a",
   "metadata": {},
   "source": [
    "similarly sometimes you might have your inputs saved in a dictionary with the argument name as keys . In that case you can use `**` adjacent to dictionary to unpack them as named arguments when calling that function "
   ]
  },
  {
   "cell_type": "code",
   "execution_count": 24,
   "id": "d511c5c0",
   "metadata": {},
   "outputs": [],
   "source": [
    "mydict={'a':3,'b':4,'c':5}"
   ]
  },
  {
   "cell_type": "code",
   "execution_count": 25,
   "id": "f15619b7",
   "metadata": {},
   "outputs": [
    {
     "data": {
      "text/plain": [
       "543"
      ]
     },
     "execution_count": 25,
     "metadata": {},
     "output_type": "execute_result"
    }
   ],
   "source": [
    "mysum(**mydict)"
   ]
  },
  {
   "cell_type": "markdown",
   "id": "05faeac6",
   "metadata": {},
   "source": [
    "A general advice , instead of directly starting to write a function for the process; write simple code first for that process. Then figure out what are the inputs to the process and then wrap the whole thing into a function. It will be easier to debug step by step and update instead of writing the whole function and debug through multiple runs "
   ]
  },
  {
   "cell_type": "markdown",
   "id": "3d76f1db",
   "metadata": {},
   "source": [
    "# Classes"
   ]
  },
  {
   "cell_type": "code",
   "execution_count": 26,
   "id": "615988d9",
   "metadata": {},
   "outputs": [],
   "source": [
    "day = 18\n",
    "month = 11\n",
    "year = 2023\n",
    "\n",
    "mydate_dict={'day': day, 'month':month,'year':year}"
   ]
  },
  {
   "cell_type": "code",
   "execution_count": 27,
   "id": "d7d3d8d4",
   "metadata": {},
   "outputs": [],
   "source": [
    "class Date:\n",
    "    \n",
    "    day = 18\n",
    "    month = 11\n",
    "    year = 2023\n",
    "   "
   ]
  },
  {
   "cell_type": "code",
   "execution_count": 28,
   "id": "8228c652",
   "metadata": {},
   "outputs": [],
   "source": [
    "a= Date()"
   ]
  },
  {
   "cell_type": "code",
   "execution_count": 29,
   "id": "3c7fcc9b",
   "metadata": {},
   "outputs": [],
   "source": [
    "b = Date()"
   ]
  },
  {
   "cell_type": "code",
   "execution_count": 30,
   "id": "18e78350",
   "metadata": {},
   "outputs": [
    {
     "data": {
      "text/plain": [
       "(18, 11, 2023)"
      ]
     },
     "execution_count": 30,
     "metadata": {},
     "output_type": "execute_result"
    }
   ],
   "source": [
    "a.day,a.month,a.year"
   ]
  },
  {
   "cell_type": "code",
   "execution_count": 31,
   "id": "90db6321",
   "metadata": {},
   "outputs": [
    {
     "data": {
      "text/plain": [
       "(18, 11, 2023)"
      ]
     },
     "execution_count": 31,
     "metadata": {},
     "output_type": "execute_result"
    }
   ],
   "source": [
    "b.day,b.month,b.year"
   ]
  },
  {
   "cell_type": "code",
   "execution_count": 32,
   "id": "d07491a5",
   "metadata": {},
   "outputs": [],
   "source": [
    "# a= Date(11,12,2023)\n",
    "# b = Date(23,11,2024)"
   ]
  },
  {
   "cell_type": "markdown",
   "id": "0e5525bf",
   "metadata": {},
   "source": [
    "# instance attributes"
   ]
  },
  {
   "cell_type": "code",
   "execution_count": 33,
   "id": "293066f4",
   "metadata": {},
   "outputs": [],
   "source": [
    "class Date : \n",
    "    \n",
    "    def __init__(self,day,month,year):\n",
    "        \n",
    "        self.day = day\n",
    "        self.month = month\n",
    "        self.year = year \n",
    "        \n",
    "        # self is a reference to the particular instance \n",
    "        # self.day .month .year : are instance attribute\n",
    "        \n",
    "        # note that __init__ has \"double\" underscores before and after [ _init_ : will not work ]\n",
    "        \n",
    "    "
   ]
  },
  {
   "cell_type": "code",
   "execution_count": 34,
   "id": "0b0a9ccb",
   "metadata": {},
   "outputs": [],
   "source": [
    "a = Date(11,12,2023)\n",
    "b = Date(23,11,2024)"
   ]
  },
  {
   "cell_type": "code",
   "execution_count": 35,
   "id": "5e1402b0",
   "metadata": {},
   "outputs": [
    {
     "data": {
      "text/plain": [
       "(11, 23)"
      ]
     },
     "execution_count": 35,
     "metadata": {},
     "output_type": "execute_result"
    }
   ],
   "source": [
    "a.day, b.day"
   ]
  },
  {
   "cell_type": "markdown",
   "id": "3c6039b8",
   "metadata": {},
   "source": [
    "# Class Attribute"
   ]
  },
  {
   "cell_type": "code",
   "execution_count": 36,
   "id": "4164d5e0",
   "metadata": {},
   "outputs": [],
   "source": [
    "class Date : \n",
    "    \n",
    "    welcome_message = \"good morning\"\n",
    "    \n",
    "    def __init__(self,day,month,year):\n",
    "        \n",
    "        self.day = day\n",
    "        self.month = month\n",
    "        self.year = year \n",
    "\n",
    "a = Date(11,12,2023)\n",
    "b = Date(23,11,2024)"
   ]
  },
  {
   "cell_type": "code",
   "execution_count": 37,
   "id": "67a0b1f1",
   "metadata": {},
   "outputs": [
    {
     "data": {
      "text/plain": [
       "(11, 23)"
      ]
     },
     "execution_count": 37,
     "metadata": {},
     "output_type": "execute_result"
    }
   ],
   "source": [
    "a.day,b.day"
   ]
  },
  {
   "cell_type": "code",
   "execution_count": 38,
   "id": "678339c3",
   "metadata": {},
   "outputs": [
    {
     "data": {
      "text/plain": [
       "'good morning'"
      ]
     },
     "execution_count": 38,
     "metadata": {},
     "output_type": "execute_result"
    }
   ],
   "source": [
    "a.welcome_message"
   ]
  },
  {
   "cell_type": "code",
   "execution_count": 39,
   "id": "968fc6fa",
   "metadata": {},
   "outputs": [
    {
     "data": {
      "text/plain": [
       "'good morning'"
      ]
     },
     "execution_count": 39,
     "metadata": {},
     "output_type": "execute_result"
    }
   ],
   "source": [
    "b.welcome_message"
   ]
  },
  {
   "cell_type": "code",
   "execution_count": 40,
   "id": "5ad2b5ee",
   "metadata": {},
   "outputs": [
    {
     "data": {
      "text/plain": [
       "{'day': 11, 'month': 12, 'year': 2023}"
      ]
     },
     "execution_count": 40,
     "metadata": {},
     "output_type": "execute_result"
    }
   ],
   "source": [
    "a.__dict__ # .__dict__ shows instance attributes"
   ]
  },
  {
   "cell_type": "code",
   "execution_count": 41,
   "id": "ea1c4c25",
   "metadata": {},
   "outputs": [
    {
     "data": {
      "text/plain": [
       "11"
      ]
     },
     "execution_count": 41,
     "metadata": {},
     "output_type": "execute_result"
    }
   ],
   "source": [
    "a.day"
   ]
  },
  {
   "cell_type": "code",
   "execution_count": 42,
   "id": "6e2af14b",
   "metadata": {},
   "outputs": [],
   "source": [
    "a.day=22"
   ]
  },
  {
   "cell_type": "code",
   "execution_count": 43,
   "id": "2012f3ea",
   "metadata": {},
   "outputs": [
    {
     "data": {
      "text/plain": [
       "{'day': 22, 'month': 12, 'year': 2023}"
      ]
     },
     "execution_count": 43,
     "metadata": {},
     "output_type": "execute_result"
    }
   ],
   "source": [
    "a.__dict__"
   ]
  },
  {
   "cell_type": "code",
   "execution_count": 44,
   "id": "19c4c9a7",
   "metadata": {},
   "outputs": [
    {
     "data": {
      "text/plain": [
       "{'day': 23, 'month': 11, 'year': 2024}"
      ]
     },
     "execution_count": 44,
     "metadata": {},
     "output_type": "execute_result"
    }
   ],
   "source": [
    "b.__dict__"
   ]
  },
  {
   "cell_type": "code",
   "execution_count": 45,
   "id": "6f05a7f3",
   "metadata": {},
   "outputs": [
    {
     "data": {
      "text/plain": [
       "{'day': 22, 'month': 12, 'year': 2023, 'hour': 9}"
      ]
     },
     "execution_count": 45,
     "metadata": {},
     "output_type": "execute_result"
    }
   ],
   "source": [
    "a.hour = 9 # ideally this should be avoided \n",
    "\n",
    "a.__dict__ "
   ]
  },
  {
   "cell_type": "code",
   "execution_count": 46,
   "id": "064030a7",
   "metadata": {},
   "outputs": [
    {
     "data": {
      "text/plain": [
       "{'day': 23, 'month': 11, 'year': 2024}"
      ]
     },
     "execution_count": 46,
     "metadata": {},
     "output_type": "execute_result"
    }
   ],
   "source": [
    "b.__dict__"
   ]
  },
  {
   "cell_type": "code",
   "execution_count": 47,
   "id": "706adf4b",
   "metadata": {},
   "outputs": [
    {
     "data": {
      "text/plain": [
       "('good morning', 'good morning')"
      ]
     },
     "execution_count": 47,
     "metadata": {},
     "output_type": "execute_result"
    }
   ],
   "source": [
    "# ok, we now know how to change/add instance attribute\n",
    "# how to change class attribute \n",
    "\n",
    "a.welcome_message,b.welcome_message"
   ]
  },
  {
   "cell_type": "code",
   "execution_count": 48,
   "id": "681703b1",
   "metadata": {},
   "outputs": [],
   "source": [
    "Date.welcome_message=\"Hello\""
   ]
  },
  {
   "cell_type": "code",
   "execution_count": 49,
   "id": "de11b7a6",
   "metadata": {},
   "outputs": [
    {
     "data": {
      "text/plain": [
       "('Hello', 'Hello')"
      ]
     },
     "execution_count": 49,
     "metadata": {},
     "output_type": "execute_result"
    }
   ],
   "source": [
    "a.welcome_message,b.welcome_message"
   ]
  },
  {
   "cell_type": "code",
   "execution_count": 50,
   "id": "3a09434d",
   "metadata": {},
   "outputs": [],
   "source": [
    "Date.departing_message=\"bye\""
   ]
  },
  {
   "cell_type": "code",
   "execution_count": 51,
   "id": "0e266474",
   "metadata": {},
   "outputs": [
    {
     "data": {
      "text/plain": [
       "('bye', 'bye')"
      ]
     },
     "execution_count": 51,
     "metadata": {},
     "output_type": "execute_result"
    }
   ],
   "source": [
    "a.departing_message,b.departing_message"
   ]
  },
  {
   "cell_type": "code",
   "execution_count": 52,
   "id": "2933076d",
   "metadata": {},
   "outputs": [
    {
     "data": {
      "text/plain": [
       "{'day': 22, 'month': 12, 'year': 2023, 'hour': 9}"
      ]
     },
     "execution_count": 52,
     "metadata": {},
     "output_type": "execute_result"
    }
   ],
   "source": [
    "a.__dict__"
   ]
  },
  {
   "cell_type": "code",
   "execution_count": 53,
   "id": "1e5c4515",
   "metadata": {},
   "outputs": [
    {
     "data": {
      "text/plain": [
       "{'day': 23, 'month': 11, 'year': 2024}"
      ]
     },
     "execution_count": 53,
     "metadata": {},
     "output_type": "execute_result"
    }
   ],
   "source": [
    "b.__dict__"
   ]
  },
  {
   "cell_type": "code",
   "execution_count": 54,
   "id": "dbf5e668",
   "metadata": {},
   "outputs": [],
   "source": [
    "## the confusing part : you can actually have instance attribute, named same as class attribute \n",
    "## [you should not but you can]\n",
    "\n",
    "a.welcome_message=\"hihi\""
   ]
  },
  {
   "cell_type": "code",
   "execution_count": 55,
   "id": "3845c0fa",
   "metadata": {},
   "outputs": [
    {
     "data": {
      "text/plain": [
       "{'day': 22, 'month': 12, 'year': 2023, 'hour': 9, 'welcome_message': 'hihi'}"
      ]
     },
     "execution_count": 55,
     "metadata": {},
     "output_type": "execute_result"
    }
   ],
   "source": [
    "a.__dict__"
   ]
  },
  {
   "cell_type": "code",
   "execution_count": 56,
   "id": "803813dd",
   "metadata": {},
   "outputs": [
    {
     "data": {
      "text/plain": [
       "{'day': 23, 'month': 11, 'year': 2024}"
      ]
     },
     "execution_count": 56,
     "metadata": {},
     "output_type": "execute_result"
    }
   ],
   "source": [
    "b.__dict__"
   ]
  },
  {
   "cell_type": "code",
   "execution_count": 57,
   "id": "d63d754d",
   "metadata": {},
   "outputs": [
    {
     "data": {
      "text/plain": [
       "('hihi', 'Hello')"
      ]
     },
     "execution_count": 57,
     "metadata": {},
     "output_type": "execute_result"
    }
   ],
   "source": [
    "a.welcome_message,b.welcome_message"
   ]
  },
  {
   "cell_type": "code",
   "execution_count": 58,
   "id": "5214bdb8",
   "metadata": {},
   "outputs": [
    {
     "data": {
      "text/plain": [
       "('hihi', 'ABCD')"
      ]
     },
     "execution_count": 58,
     "metadata": {},
     "output_type": "execute_result"
    }
   ],
   "source": [
    "## name of the attributes is first searched in instance attributes and then it looks at class attributes\n",
    "\n",
    "# avoid having instance attribute names same as class attributes\n",
    "\n",
    "Date.welcome_message=\"ABCD\"\n",
    "\n",
    "a.welcome_message,b.welcome_message"
   ]
  },
  {
   "cell_type": "code",
   "execution_count": 59,
   "id": "3f083d39",
   "metadata": {},
   "outputs": [],
   "source": [
    "# now modifying, class attribute of the same name , doesnt affect the instance attribute of that name\n",
    "# which further makes thing chaotic/confusing\n",
    "# avoid having instance attribute names same as class attributes"
   ]
  },
  {
   "cell_type": "markdown",
   "id": "3ce10874",
   "metadata": {},
   "source": [
    "# Instance Methods , Class methods , static methods "
   ]
  },
  {
   "cell_type": "code",
   "execution_count": 60,
   "id": "597218b7",
   "metadata": {},
   "outputs": [],
   "source": [
    "class Date : \n",
    "    \n",
    "    welcome_message = \"good morning\"\n",
    "    \n",
    "    def __init__(self,day,month,year):\n",
    "        \n",
    "        self.day = day\n",
    "        self.month = month\n",
    "        self.year = year \n",
    "        \n",
    "    def quarter(self):\n",
    "        \n",
    "        q=int(self.month/4)+1\n",
    "        return q\n",
    "    \n",
    "    @classmethod # are usefull when you need to call the class itself \n",
    "    def from_string(cls,date_as_string):\n",
    "        \n",
    "        elems=date_as_string.split(\"-\")\n",
    "        \n",
    "#         day,month,year=[int(elem) for elem in elems]\n",
    "        \n",
    "#         return cls(day,month,year)\n",
    "        return(cls(*[int(elem) for elem in elems]))\n",
    "    \n",
    "    @staticmethod \n",
    "    def is_numeric_date(date_as_string):\n",
    "        \n",
    "        day,month,year=date_as_string.split(\"-\")\n",
    "        \n",
    "        result=day.isdigit() and month.isdigit() and year.isdigit()\n",
    "        \n",
    "        return result\n",
    "        \n",
    "        # are useful when you dont want to create an object of the class but the functionality is related to the object    "
   ]
  },
  {
   "cell_type": "code",
   "execution_count": 61,
   "id": "442c1506",
   "metadata": {},
   "outputs": [
    {
     "data": {
      "text/plain": [
       "2"
      ]
     },
     "execution_count": 61,
     "metadata": {},
     "output_type": "execute_result"
    }
   ],
   "source": [
    "a=Date(1,5,2011)\n",
    "\n",
    "a.quarter()"
   ]
  },
  {
   "cell_type": "code",
   "execution_count": 62,
   "id": "d084cf48",
   "metadata": {},
   "outputs": [
    {
     "data": {
      "text/plain": [
       "(1, 5, 2011)"
      ]
     },
     "execution_count": 62,
     "metadata": {},
     "output_type": "execute_result"
    }
   ],
   "source": [
    "b=Date.from_string(\"1-5-2011\")\n",
    "\n",
    "b.day,b.month,b.year"
   ]
  },
  {
   "cell_type": "code",
   "execution_count": 63,
   "id": "15e135fd",
   "metadata": {},
   "outputs": [
    {
     "data": {
      "text/plain": [
       "True"
      ]
     },
     "execution_count": 63,
     "metadata": {},
     "output_type": "execute_result"
    }
   ],
   "source": [
    "Date.is_numeric_date(\"12-12-2022\")"
   ]
  },
  {
   "cell_type": "code",
   "execution_count": 64,
   "id": "c1fd78ec",
   "metadata": {},
   "outputs": [],
   "source": [
    "class Date : \n",
    "    \n",
    "    welcome_message = \"good morning\"\n",
    "    \n",
    "    def __init__(self,day,month,year):\n",
    "        \n",
    "        self.day = day\n",
    "        self.month = month\n",
    "        self.year = year \n",
    "        self.leapyear= year%4==0\n",
    "        \n",
    "    def quarter(self):\n",
    "        \n",
    "        q=int(self.month/4)+1\n",
    "        return q\n",
    "    \n",
    "    @classmethod # are usefull when you need to call the class itself \n",
    "    def from_string(cls,date_as_string):\n",
    "        \n",
    "        elems=date_as_string.split(\"-\")\n",
    "        \n",
    "        day,month,year=[int(elem) for elem in elems]\n",
    "        \n",
    "        return cls(day,month,year)\n",
    "    \n",
    "    @staticmethod \n",
    "    def is_numeric_date(date_as_string):\n",
    "        \n",
    "        day,month,year=date_as_string.split(\"-\")\n",
    "        \n",
    "        result=day.isdigit() and month.isdigit() and year.isdigit()\n",
    "        \n",
    "        return result\n",
    "        \n",
    "        # are useful when you dont want to create an object of the class but the functionality is related to the object"
   ]
  },
  {
   "cell_type": "code",
   "execution_count": 65,
   "id": "5c2064c0",
   "metadata": {},
   "outputs": [
    {
     "data": {
      "text/plain": [
       "False"
      ]
     },
     "execution_count": 65,
     "metadata": {},
     "output_type": "execute_result"
    }
   ],
   "source": [
    "a=Date(14,11,2023)\n",
    "a.leapyear"
   ]
  },
  {
   "cell_type": "code",
   "execution_count": 66,
   "id": "e060639d",
   "metadata": {},
   "outputs": [],
   "source": [
    "a.leapyear=True"
   ]
  },
  {
   "cell_type": "code",
   "execution_count": 67,
   "id": "990d3b4b",
   "metadata": {},
   "outputs": [
    {
     "data": {
      "text/plain": [
       "(2023, True)"
      ]
     },
     "execution_count": 67,
     "metadata": {},
     "output_type": "execute_result"
    }
   ],
   "source": [
    "a.year, a.leapyear"
   ]
  },
  {
   "cell_type": "code",
   "execution_count": 68,
   "id": "b2651284",
   "metadata": {},
   "outputs": [
    {
     "data": {
      "text/plain": [
       "False"
      ]
     },
     "execution_count": 68,
     "metadata": {},
     "output_type": "execute_result"
    }
   ],
   "source": [
    "b=Date(14,11,2023)\n",
    "b.leapyear"
   ]
  },
  {
   "cell_type": "code",
   "execution_count": 69,
   "id": "464ab448",
   "metadata": {},
   "outputs": [
    {
     "data": {
      "text/plain": [
       "False"
      ]
     },
     "execution_count": 69,
     "metadata": {},
     "output_type": "execute_result"
    }
   ],
   "source": [
    "b.year=2020\n",
    "\n",
    "b.leapyear"
   ]
  },
  {
   "cell_type": "code",
   "execution_count": 70,
   "id": "9c912364",
   "metadata": {},
   "outputs": [],
   "source": [
    "# what we are looking for : some way to create a [calculated] attribute which can not be arbitrarily modified \n",
    "# if the related attribute is changed , we would want the calculated attribute also to be changed"
   ]
  },
  {
   "cell_type": "markdown",
   "id": "05e327e3",
   "metadata": {},
   "source": [
    "# Property"
   ]
  },
  {
   "cell_type": "code",
   "execution_count": 71,
   "id": "cdf4ff21",
   "metadata": {},
   "outputs": [],
   "source": [
    "class Date : \n",
    "    \n",
    "    welcome_message = \"good morning\"\n",
    "    \n",
    "    def __init__(self,day,month,year):\n",
    "        \n",
    "        self.day = day\n",
    "        self.month = month\n",
    "        self.year = year \n",
    "        \n",
    "    @property\n",
    "    def leapyear(self):\n",
    "        \n",
    "        return self.year%4==0\n",
    "        \n",
    "    def quarter(self):\n",
    "        \n",
    "        q=int(self.month/4)+1\n",
    "        return q\n",
    "    \n",
    "    @classmethod \n",
    "    def from_string(cls,date_as_string):\n",
    "        \n",
    "        elems=date_as_string.split(\"-\")\n",
    "        \n",
    "        day,month,year=[int(elem) for elem in elems]\n",
    "        \n",
    "        return cls(day,month,year)\n",
    "    \n",
    "    @staticmethod \n",
    "    def is_numeric_date(date_as_string):\n",
    "        \n",
    "        day,month,year=date_as_string.split(\"-\")\n",
    "        \n",
    "        result=day.isdigit() and month.isdigit() and year.isdigit()\n",
    "        \n",
    "        return result"
   ]
  },
  {
   "cell_type": "code",
   "execution_count": 72,
   "id": "db2136ac",
   "metadata": {},
   "outputs": [
    {
     "data": {
      "text/plain": [
       "False"
      ]
     },
     "execution_count": 72,
     "metadata": {},
     "output_type": "execute_result"
    }
   ],
   "source": [
    "a=Date(14,11,2023)\n",
    "a.leapyear"
   ]
  },
  {
   "cell_type": "code",
   "execution_count": 73,
   "id": "1015d60a",
   "metadata": {},
   "outputs": [
    {
     "ename": "AttributeError",
     "evalue": "property 'leapyear' of 'Date' object has no setter",
     "output_type": "error",
     "traceback": [
      "\u001b[1;31m---------------------------------------------------------------------------\u001b[0m",
      "\u001b[1;31mAttributeError\u001b[0m                            Traceback (most recent call last)",
      "Cell \u001b[1;32mIn[73], line 1\u001b[0m\n\u001b[1;32m----> 1\u001b[0m \u001b[43ma\u001b[49m\u001b[38;5;241;43m.\u001b[39;49m\u001b[43mleapyear\u001b[49m\u001b[38;5;241m=\u001b[39m\u001b[38;5;28;01mTrue\u001b[39;00m\n",
      "\u001b[1;31mAttributeError\u001b[0m: property 'leapyear' of 'Date' object has no setter"
     ]
    }
   ],
   "source": [
    "a.leapyear=True"
   ]
  },
  {
   "cell_type": "code",
   "execution_count": null,
   "id": "e7e70d94",
   "metadata": {},
   "outputs": [],
   "source": [
    "a.year=2020\n",
    "\n",
    "a.leapyear"
   ]
  },
  {
   "cell_type": "markdown",
   "id": "89efb8c7",
   "metadata": {},
   "source": [
    "# Dunder Methods : Double underscore methods"
   ]
  },
  {
   "cell_type": "code",
   "execution_count": null,
   "id": "6389a5dc",
   "metadata": {},
   "outputs": [],
   "source": [
    "class Date : \n",
    "    \n",
    "    welcome_message = \"good morning\"\n",
    "    \n",
    "    def __init__(self,day,month,year):\n",
    "        \n",
    "        self.day = day\n",
    "        self.month = month\n",
    "        self.year = year \n",
    "        \n",
    "    @property\n",
    "    def leapyear(self):\n",
    "        \n",
    "        return self.year%4==0\n",
    "        \n",
    "    def quarter(self):\n",
    "        \n",
    "        q=int(self.month/4)+1\n",
    "        return q\n",
    "    \n",
    "    @classmethod \n",
    "    def from_string(cls,date_as_string):\n",
    "        \n",
    "        elems=date_as_string.split(\"-\")\n",
    "        \n",
    "        day,month,year=[int(elem) for elem in elems]\n",
    "        \n",
    "        return cls(day,month,year)\n",
    "    \n",
    "    @staticmethod \n",
    "    def is_numeric_date(date_as_string):\n",
    "        \n",
    "        day,month,year=date_as_string.split(\"-\")\n",
    "        \n",
    "        result=day.isdigit() and month.isdigit() and year.isdigit()\n",
    "        \n",
    "        return result\n",
    "    \n",
    "    def __repr__(self):\n",
    "        \n",
    "        return (f'Date({self.day},{self.month},{self.year})')\n",
    "    \n",
    "    def __str__(self):\n",
    "        \n",
    "        month_dict={ 1 : \"January\",\n",
    "               2 : \"February\",\n",
    "               3 : \"March\",\n",
    "               4 : \"April\",\n",
    "               5 : \"May\",\n",
    "               6 : \"June\",\n",
    "               7 : \"July\",\n",
    "               8 : \"August\",\n",
    "               9 : \"September\",\n",
    "               10 : \"October\",\n",
    "               11 : \"November\",\n",
    "               12 : \"December\"\n",
    "                }\n",
    "        \n",
    "        return(f'Day is {self.day}, Month is {month_dict[self.month]} and year is {self.year}' )\n",
    "        \n",
    "    def __eq__(self,other):\n",
    "        \n",
    "        if isinstance(other,Date):\n",
    "        \n",
    "            if self.day==other.day and self.month==other.month and self.year==other.year :\n",
    "                \n",
    "                return True\n",
    "        else : \n",
    "            \n",
    "            print('method of comparing date and other type object is not implemented')"
   ]
  },
  {
   "cell_type": "code",
   "execution_count": null,
   "id": "b50d8c94",
   "metadata": {},
   "outputs": [],
   "source": [
    "a=Date.from_string(\"3-6-2010\")\n",
    "b=Date(3,6,2010)\n",
    "\n",
    "a.leapyear"
   ]
  },
  {
   "cell_type": "code",
   "execution_count": null,
   "id": "1cc7e180",
   "metadata": {},
   "outputs": [],
   "source": [
    "a.leapyear=True"
   ]
  },
  {
   "cell_type": "code",
   "execution_count": null,
   "id": "ef655bbb",
   "metadata": {},
   "outputs": [],
   "source": [
    "a.year=2020\n",
    "\n",
    "a.leapyear"
   ]
  },
  {
   "cell_type": "code",
   "execution_count": null,
   "id": "96e82d40",
   "metadata": {},
   "outputs": [],
   "source": [
    "a \n",
    "# __repr__ : short for representation . python calls this indirectly when you try to display an object as is\n",
    "\n",
    "# ideally i would want this to display what object it is and if possible its attributes in a readable manner"
   ]
  },
  {
   "cell_type": "code",
   "execution_count": null,
   "id": "bbd8a684",
   "metadata": {},
   "outputs": [],
   "source": [
    "print(a)\n",
    "\n",
    "# __str__ : python calls this indirectly when you try to display an object with print(object_name)"
   ]
  },
  {
   "cell_type": "code",
   "execution_count": null,
   "id": "104fa5e8",
   "metadata": {},
   "outputs": [],
   "source": [
    "c='lalit'\n",
    "a==c\n",
    "# python calls __eq__"
   ]
  },
  {
   "cell_type": "markdown",
   "id": "50b8c04d",
   "metadata": {},
   "source": [
    "# Inheritance"
   ]
  },
  {
   "cell_type": "code",
   "execution_count": null,
   "id": "314828be",
   "metadata": {},
   "outputs": [],
   "source": [
    "# i want to create a new object/class which is very similar to an existing class [but with few changes]\n",
    "# i do not want to copy paste the code\n",
    "\n",
    "class DateTime(Date): \n",
    "    \n",
    "    # this automatically tells python to internally download all the functionality of \"Date\" to \"DateTIme\"\n",
    "    \n",
    "    def __init__(self,day,month,year,hour,minute):\n",
    "        \n",
    "        Date.__init__(self,day,month,year)\n",
    "    \n",
    "#         self.day=day\n",
    "#         self.month=month\n",
    "#         self.year=year\n",
    "        \n",
    "        self.hour=hour\n",
    "        self.minute=minute\n",
    "        \n",
    "    def is_night(self):\n",
    "        \n",
    "        return self.hour > 19 or self.hour < 5\n",
    "    \n",
    "    "
   ]
  },
  {
   "cell_type": "code",
   "execution_count": null,
   "id": "adc69993",
   "metadata": {},
   "outputs": [],
   "source": [
    "a=Date(3,12,2022)\n",
    "b=DateTime(3,12,2022,23,45)"
   ]
  },
  {
   "cell_type": "code",
   "execution_count": null,
   "id": "c143916b",
   "metadata": {},
   "outputs": [],
   "source": [
    "b.year=2020"
   ]
  },
  {
   "cell_type": "code",
   "execution_count": null,
   "id": "118b0c69",
   "metadata": {},
   "outputs": [],
   "source": [
    "b.quarter()"
   ]
  },
  {
   "cell_type": "code",
   "execution_count": null,
   "id": "4ed17db1",
   "metadata": {},
   "outputs": [],
   "source": [
    "b.is_night()"
   ]
  },
  {
   "cell_type": "code",
   "execution_count": null,
   "id": "c04dbe73",
   "metadata": {},
   "outputs": [],
   "source": [
    "a.is_night()\n",
    "# inheritance allows you to add more functionality without modifying the class you are inheritting from"
   ]
  },
  {
   "cell_type": "code",
   "execution_count": null,
   "id": "b8f4951a",
   "metadata": {},
   "outputs": [],
   "source": []
  },
  {
   "cell_type": "code",
   "execution_count": null,
   "id": "0524212a",
   "metadata": {},
   "outputs": [],
   "source": []
  }
 ],
 "metadata": {
  "kernelspec": {
   "display_name": "base",
   "language": "python",
   "name": "python3"
  },
  "language_info": {
   "codemirror_mode": {
    "name": "ipython",
    "version": 3
   },
   "file_extension": ".py",
   "mimetype": "text/x-python",
   "name": "python",
   "nbconvert_exporter": "python",
   "pygments_lexer": "ipython3",
   "version": "3.12.4"
  }
 },
 "nbformat": 4,
 "nbformat_minor": 5
}
