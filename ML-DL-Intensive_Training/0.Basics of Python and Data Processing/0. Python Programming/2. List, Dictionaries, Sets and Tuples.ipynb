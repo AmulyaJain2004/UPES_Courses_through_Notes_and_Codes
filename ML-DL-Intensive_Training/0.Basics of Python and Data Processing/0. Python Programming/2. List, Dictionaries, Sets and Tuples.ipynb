{
 "cells": [
  {
   "cell_type": "markdown",
   "id": "9c13e00e",
   "metadata": {},
   "source": [
    "These ideas in python enable us to store multiple values in a single object. Many other complex data structures that we will encounter later in python derive from these . Most fundamental here is a list . A list can contain anything as element, including list itself . Its created by passing elements in a `[ ]` separated by `,` . There is no restriction on what can be an element of a list , they dont all have to be of the same type either .  "
   ]
  },
  {
   "cell_type": "code",
   "execution_count": null,
   "id": "27d3fc68",
   "metadata": {},
   "outputs": [],
   "source": [
    "x=[2,4,99,\"python\",\"a\",0,-99]"
   ]
  },
  {
   "cell_type": "markdown",
   "id": "151aef55",
   "metadata": {},
   "source": [
    "indexing of lists work just like string . Just that now an index is assigned to an element one by one , instead of characters of the string. try to guess the outcomes of the following . "
   ]
  },
  {
   "cell_type": "code",
   "execution_count": null,
   "id": "06ffb955",
   "metadata": {},
   "outputs": [],
   "source": [
    "a=x[-4]\n",
    "a"
   ]
  },
  {
   "cell_type": "code",
   "execution_count": null,
   "id": "ae6d4897",
   "metadata": {},
   "outputs": [],
   "source": [
    "a[2]"
   ]
  },
  {
   "cell_type": "code",
   "execution_count": null,
   "id": "fa294067",
   "metadata": {},
   "outputs": [],
   "source": [
    "x[-4][2]"
   ]
  },
  {
   "cell_type": "code",
   "execution_count": null,
   "id": "a6018d41",
   "metadata": {},
   "outputs": [],
   "source": [
    "x[2]"
   ]
  },
  {
   "cell_type": "code",
   "execution_count": null,
   "id": "a5c12747",
   "metadata": {},
   "outputs": [],
   "source": [
    "x[:4]"
   ]
  },
  {
   "cell_type": "code",
   "execution_count": null,
   "id": "2b7a769c",
   "metadata": {},
   "outputs": [],
   "source": [
    "x[:2:-1]"
   ]
  },
  {
   "cell_type": "markdown",
   "id": "10650aed",
   "metadata": {},
   "source": [
    "# adding elements to a list "
   ]
  },
  {
   "cell_type": "markdown",
   "id": "75b0bc9c",
   "metadata": {},
   "source": [
    "### adding another list "
   ]
  },
  {
   "cell_type": "code",
   "execution_count": null,
   "id": "8252ae1b",
   "metadata": {},
   "outputs": [],
   "source": [
    "x=x+[3,4]\n",
    "x"
   ]
  },
  {
   "cell_type": "markdown",
   "id": "ba44c693",
   "metadata": {},
   "source": [
    "### append and extend for single elements \n",
    "\n",
    "there is no difference in the outcome , if you consider single elements for both append and extend . but these functions make in-place changes instead of explicitly showing the results "
   ]
  },
  {
   "cell_type": "code",
   "execution_count": null,
   "id": "4af55753",
   "metadata": {},
   "outputs": [],
   "source": [
    "x.append(3)"
   ]
  },
  {
   "cell_type": "code",
   "execution_count": null,
   "id": "5136c6a9",
   "metadata": {},
   "outputs": [],
   "source": [
    "x"
   ]
  },
  {
   "cell_type": "code",
   "execution_count": null,
   "id": "b35e5665",
   "metadata": {},
   "outputs": [],
   "source": [
    "x.extend([33]) # extend only works with iterables "
   ]
  },
  {
   "cell_type": "code",
   "execution_count": null,
   "id": "feaa3d9a",
   "metadata": {},
   "outputs": [],
   "source": [
    "x"
   ]
  },
  {
   "cell_type": "markdown",
   "id": "86dcd9f3",
   "metadata": {},
   "source": [
    "### append and extend for iterables \n",
    "\n",
    "when it comes to iterables like another list or string for example; append adds that to the list as is, where as extend extracts each element of the iterable being added and adds elements individually "
   ]
  },
  {
   "cell_type": "code",
   "execution_count": null,
   "id": "74472de2",
   "metadata": {},
   "outputs": [],
   "source": [
    "x.append([78,99,0])"
   ]
  },
  {
   "cell_type": "code",
   "execution_count": null,
   "id": "f460c08a",
   "metadata": {},
   "outputs": [],
   "source": [
    "x"
   ]
  },
  {
   "cell_type": "code",
   "execution_count": null,
   "id": "96105e26",
   "metadata": {},
   "outputs": [],
   "source": [
    "x[-1]"
   ]
  },
  {
   "cell_type": "code",
   "execution_count": null,
   "id": "f02c9655",
   "metadata": {},
   "outputs": [],
   "source": [
    "x.extend([78,99,0])"
   ]
  },
  {
   "cell_type": "code",
   "execution_count": null,
   "id": "47575096",
   "metadata": {},
   "outputs": [],
   "source": [
    "x"
   ]
  },
  {
   "cell_type": "markdown",
   "id": "b720ce0e",
   "metadata": {},
   "source": [
    "## Replacing items in a list"
   ]
  },
  {
   "cell_type": "code",
   "execution_count": null,
   "id": "7773801a",
   "metadata": {},
   "outputs": [],
   "source": [
    "x"
   ]
  },
  {
   "cell_type": "code",
   "execution_count": null,
   "id": "043c6133",
   "metadata": {},
   "outputs": [],
   "source": [
    "x[3]=-100"
   ]
  },
  {
   "cell_type": "code",
   "execution_count": null,
   "id": "b942b1cf",
   "metadata": {},
   "outputs": [],
   "source": [
    "x"
   ]
  },
  {
   "cell_type": "markdown",
   "id": "6c6e62ce",
   "metadata": {},
   "source": [
    "## Removing elements from the lists"
   ]
  },
  {
   "cell_type": "markdown",
   "id": "7efc261c",
   "metadata": {},
   "source": [
    "### remove"
   ]
  },
  {
   "cell_type": "code",
   "execution_count": null,
   "id": "3a0b6966",
   "metadata": {},
   "outputs": [],
   "source": [
    "x.remove(99) \n",
    "# starts removing one by one , by value , starting at the beginning\n",
    "#throws an error if the value is not in the list"
   ]
  },
  {
   "cell_type": "code",
   "execution_count": null,
   "id": "e7f5cc37",
   "metadata": {},
   "outputs": [],
   "source": [
    "x"
   ]
  },
  {
   "cell_type": "markdown",
   "id": "fcc6545d",
   "metadata": {},
   "source": [
    "### pop"
   ]
  },
  {
   "cell_type": "markdown",
   "id": "a714ae40",
   "metadata": {},
   "source": [
    "by default it removes the last value , but you can also pass a particular positions "
   ]
  },
  {
   "cell_type": "code",
   "execution_count": null,
   "id": "4baf8e7a",
   "metadata": {},
   "outputs": [],
   "source": [
    "x.pop()"
   ]
  },
  {
   "cell_type": "code",
   "execution_count": null,
   "id": "5738a1d4",
   "metadata": {},
   "outputs": [],
   "source": [
    "x"
   ]
  },
  {
   "cell_type": "code",
   "execution_count": null,
   "id": "a865d7fa",
   "metadata": {},
   "outputs": [],
   "source": [
    "x.pop(2)"
   ]
  },
  {
   "cell_type": "code",
   "execution_count": null,
   "id": "801f73e6",
   "metadata": {},
   "outputs": [],
   "source": [
    "x"
   ]
  },
  {
   "cell_type": "markdown",
   "id": "005ee18d",
   "metadata": {},
   "source": [
    "### Sorting a list"
   ]
  },
  {
   "cell_type": "markdown",
   "id": "7549810a",
   "metadata": {},
   "source": [
    "a list is sortable only if contains elements which can all be meaningfully compared. so a list containing mix of say numbers and string can not be sorted . "
   ]
  },
  {
   "cell_type": "code",
   "execution_count": null,
   "id": "7e57fbfd",
   "metadata": {},
   "outputs": [],
   "source": [
    "x=[4,89,0,-10,4,22]"
   ]
  },
  {
   "cell_type": "code",
   "execution_count": null,
   "id": "5064d3d0",
   "metadata": {},
   "outputs": [],
   "source": [
    "x.sort()"
   ]
  },
  {
   "cell_type": "code",
   "execution_count": null,
   "id": "9c292f32",
   "metadata": {},
   "outputs": [],
   "source": [
    "x"
   ]
  },
  {
   "cell_type": "code",
   "execution_count": null,
   "id": "6970345f",
   "metadata": {},
   "outputs": [],
   "source": [
    "x.reverse()"
   ]
  },
  {
   "cell_type": "code",
   "execution_count": null,
   "id": "7cf4f77c",
   "metadata": {},
   "outputs": [],
   "source": [
    "x"
   ]
  },
  {
   "cell_type": "markdown",
   "id": "45fd1124",
   "metadata": {},
   "source": [
    "try creating a list with mixed kind elements and then try to sort, see what the error say"
   ]
  },
  {
   "cell_type": "markdown",
   "id": "ec58afdb",
   "metadata": {},
   "source": [
    "### Creating an empty list"
   ]
  },
  {
   "cell_type": "code",
   "execution_count": null,
   "id": "6c091912",
   "metadata": {},
   "outputs": [],
   "source": [
    "x=[] # you can do all the operations like adding , extending etc on this "
   ]
  },
  {
   "cell_type": "markdown",
   "id": "37c9ab3c",
   "metadata": {},
   "source": [
    "# Dictionaries"
   ]
  },
  {
   "cell_type": "markdown",
   "id": "e856eb9f",
   "metadata": {},
   "source": [
    "dictionaries are a kind of data structures where you can access items with a key instead of their positions. this is much quicker than searching through a list. In general this serves many other purposes too. in order to create a dictionary we use `{ }` where `key:value` pairs are separated by `,` . \n",
    "\n",
    "* anything can be a key , except lists and dictionaries [more precise statement is that any mutable object can not be a key , but thats a technical detail we can skip for now ]\n",
    "* keys need to be unique \n",
    "* there is no restriction on values \n",
    "\n"
   ]
  },
  {
   "cell_type": "code",
   "execution_count": null,
   "id": "b5b7a91e",
   "metadata": {},
   "outputs": [],
   "source": [
    "mydict= {'city':'delhi',2:'pin', 'num':[3,4,5,6],'pin':2}"
   ]
  },
  {
   "cell_type": "markdown",
   "id": "b9e334d0",
   "metadata": {},
   "source": [
    "### accessing elements in dict"
   ]
  },
  {
   "cell_type": "code",
   "execution_count": null,
   "id": "baf8c27a",
   "metadata": {},
   "outputs": [],
   "source": [
    "mydict[56]"
   ]
  },
  {
   "cell_type": "markdown",
   "id": "f7686970",
   "metadata": {},
   "source": [
    "if you try to access with key which doesnt yet exist in dict, you get key error"
   ]
  },
  {
   "cell_type": "code",
   "execution_count": null,
   "id": "3f30c932",
   "metadata": {},
   "outputs": [],
   "source": [
    "mydict[4]"
   ]
  },
  {
   "cell_type": "markdown",
   "id": "a353c98d",
   "metadata": {},
   "source": [
    "### deleting an element"
   ]
  },
  {
   "cell_type": "code",
   "execution_count": null,
   "id": "e71da28a",
   "metadata": {},
   "outputs": [],
   "source": [
    "mydict"
   ]
  },
  {
   "cell_type": "code",
   "execution_count": null,
   "id": "4b794eea",
   "metadata": {},
   "outputs": [],
   "source": [
    "del mydict['city']"
   ]
  },
  {
   "cell_type": "code",
   "execution_count": null,
   "id": "336b8321",
   "metadata": {},
   "outputs": [],
   "source": [
    "mydict"
   ]
  },
  {
   "cell_type": "markdown",
   "id": "3489f69e",
   "metadata": {},
   "source": [
    "### adding an element"
   ]
  },
  {
   "cell_type": "code",
   "execution_count": null,
   "id": "de554249",
   "metadata": {},
   "outputs": [],
   "source": [
    "mydict['abc']=42"
   ]
  },
  {
   "cell_type": "code",
   "execution_count": null,
   "id": "422000ff",
   "metadata": {},
   "outputs": [],
   "source": [
    "mydict"
   ]
  },
  {
   "cell_type": "code",
   "execution_count": null,
   "id": "08aa61c1",
   "metadata": {},
   "outputs": [],
   "source": [
    "mydict.update({'qwe':[45,56,'test'],2:999})"
   ]
  },
  {
   "cell_type": "code",
   "execution_count": null,
   "id": "aeef372a",
   "metadata": {},
   "outputs": [],
   "source": [
    "mydict"
   ]
  },
  {
   "cell_type": "markdown",
   "id": "616c48f5",
   "metadata": {},
   "source": [
    "note that the key which already existed is simply replaced with new key:value pair instead of creating a duplicate key"
   ]
  },
  {
   "cell_type": "markdown",
   "id": "de2979c0",
   "metadata": {},
   "source": [
    "### extract keys , values and key value pairs as list of tuples "
   ]
  },
  {
   "cell_type": "code",
   "execution_count": null,
   "id": "93f54c9e",
   "metadata": {},
   "outputs": [],
   "source": [
    "mydict.keys() # this behaves like a list"
   ]
  },
  {
   "cell_type": "code",
   "execution_count": null,
   "id": "a1e8ef5d",
   "metadata": {},
   "outputs": [],
   "source": [
    "mydict.values() # this behaves like a list"
   ]
  },
  {
   "cell_type": "code",
   "execution_count": null,
   "id": "f98b69bd",
   "metadata": {},
   "outputs": [],
   "source": [
    "mydict.items() # this is like a list of lists [tuples to be technically correct]"
   ]
  },
  {
   "cell_type": "markdown",
   "id": "27576a30",
   "metadata": {},
   "source": [
    "you can also create dictionary with list of tuples , where the first member of tuples become key and the second a value"
   ]
  },
  {
   "cell_type": "code",
   "execution_count": null,
   "id": "be9f572b",
   "metadata": {},
   "outputs": [],
   "source": [
    "new_dict=dict([(1,2),('name','john'),('country','uk')])"
   ]
  },
  {
   "cell_type": "code",
   "execution_count": null,
   "id": "cc8a54de",
   "metadata": {},
   "outputs": [],
   "source": [
    "new_dict"
   ]
  },
  {
   "cell_type": "markdown",
   "id": "80a31c35",
   "metadata": {},
   "source": [
    "### creating an empty dictionary"
   ]
  },
  {
   "cell_type": "code",
   "execution_count": null,
   "id": "4ac3d376",
   "metadata": {},
   "outputs": [],
   "source": [
    "x={} # you can do all the dict operations on this "
   ]
  },
  {
   "cell_type": "markdown",
   "id": "b199dec7",
   "metadata": {},
   "source": [
    "# Sets\n",
    "\n",
    "sets are collection of individual items [no duplicates] of immutable objects .They are good for keeping track of unique occurences and support all mathematical set operations . we create a set by putting values in `{ }`, separated by `,` "
   ]
  },
  {
   "cell_type": "code",
   "execution_count": null,
   "id": "2b04b1d5",
   "metadata": {},
   "outputs": [],
   "source": [
    "myset={2,[3,4,5],7,7,8,9,9,2} \n",
    "# this will throw an error because we are trying to put a list which is mutable as one of the elements \n",
    "# simply put sets can not have lists , dictionaries , sets"
   ]
  },
  {
   "cell_type": "code",
   "execution_count": null,
   "id": "45d73907",
   "metadata": {},
   "outputs": [],
   "source": [
    "myset={2,3,3,4,5,7,7,8,9,9,2}"
   ]
  },
  {
   "cell_type": "code",
   "execution_count": null,
   "id": "e4567c6d",
   "metadata": {},
   "outputs": [],
   "source": [
    "myset # note that duplicates have been automatically removed "
   ]
  },
  {
   "cell_type": "code",
   "execution_count": null,
   "id": "49e68194",
   "metadata": {},
   "outputs": [],
   "source": [
    "x='python'"
   ]
  },
  {
   "cell_type": "code",
   "execution_count": null,
   "id": "4e055718",
   "metadata": {},
   "outputs": [],
   "source": [
    "x[2]='g'"
   ]
  },
  {
   "cell_type": "markdown",
   "id": "5916860a",
   "metadata": {},
   "source": [
    "### add, remove elements "
   ]
  },
  {
   "cell_type": "code",
   "execution_count": null,
   "id": "173b80d0",
   "metadata": {},
   "outputs": [],
   "source": [
    "myset.add(10)"
   ]
  },
  {
   "cell_type": "code",
   "execution_count": null,
   "id": "7bb98a3e",
   "metadata": {},
   "outputs": [],
   "source": [
    "myset"
   ]
  },
  {
   "cell_type": "code",
   "execution_count": null,
   "id": "9ad54f53",
   "metadata": {},
   "outputs": [],
   "source": [
    "myset.remove(2)"
   ]
  },
  {
   "cell_type": "code",
   "execution_count": null,
   "id": "a54dba35",
   "metadata": {},
   "outputs": [],
   "source": [
    "myset"
   ]
  },
  {
   "cell_type": "code",
   "execution_count": null,
   "id": "a10821e1",
   "metadata": {},
   "outputs": [],
   "source": [
    "type(myset)"
   ]
  },
  {
   "cell_type": "markdown",
   "id": "3a57c847",
   "metadata": {},
   "source": [
    "### accessing and conditional check"
   ]
  },
  {
   "cell_type": "markdown",
   "id": "811180fc",
   "metadata": {},
   "source": [
    "sets are unordered , implying that you dont have usual indexing with which you can access the elements [set object is not subscriptable] . you can write a for loop over them , but you cant be sure that the elements will appear in the same order in which you passed them while creating the set "
   ]
  },
  {
   "cell_type": "code",
   "execution_count": null,
   "id": "67cacfe0",
   "metadata": {},
   "outputs": [],
   "source": [
    "myset[2]"
   ]
  },
  {
   "cell_type": "code",
   "execution_count": null,
   "id": "a3e5394a",
   "metadata": {},
   "outputs": [],
   "source": [
    "myset={45,6,7,11,34,9,10,23,11,}\n",
    "for elem in myset:\n",
    "    print(elem)"
   ]
  },
  {
   "cell_type": "code",
   "execution_count": null,
   "id": "b7694bce",
   "metadata": {},
   "outputs": [],
   "source": [
    "6 in myset"
   ]
  },
  {
   "cell_type": "code",
   "execution_count": null,
   "id": "ba45d1f3",
   "metadata": {},
   "outputs": [],
   "source": [
    "7 not in myset"
   ]
  },
  {
   "cell_type": "markdown",
   "id": "c3d12db6",
   "metadata": {},
   "source": [
    "### set operations "
   ]
  },
  {
   "cell_type": "code",
   "execution_count": null,
   "id": "b03b6949",
   "metadata": {},
   "outputs": [],
   "source": [
    "set1={2,4,6,8,10,12,14,16,18,20,22,24,26,28,30}\n",
    "set2={3,6,9,12,15,18,21,24,27,30}"
   ]
  },
  {
   "cell_type": "code",
   "execution_count": null,
   "id": "ef41787c",
   "metadata": {},
   "outputs": [],
   "source": [
    "set1.union(set2) # symmetric operation"
   ]
  },
  {
   "cell_type": "code",
   "execution_count": null,
   "id": "a4797815",
   "metadata": {},
   "outputs": [],
   "source": [
    "set1.intersection(set2)"
   ]
  },
  {
   "cell_type": "code",
   "execution_count": null,
   "id": "0c372dc8",
   "metadata": {},
   "outputs": [],
   "source": [
    "set1-set2 # assymetric operation"
   ]
  },
  {
   "cell_type": "code",
   "execution_count": null,
   "id": "09de2137",
   "metadata": {},
   "outputs": [],
   "source": [
    "set1.symmetric_difference(set2) # this is equivalent to set1.union(set2)-set1.intersection(set2)"
   ]
  },
  {
   "cell_type": "markdown",
   "id": "c5824e6b",
   "metadata": {},
   "source": [
    "### creating an empty set"
   ]
  },
  {
   "cell_type": "code",
   "execution_count": null,
   "id": "9b544f0b",
   "metadata": {},
   "outputs": [],
   "source": [
    "x=set() # since {} creates an empty dictionary\n"
   ]
  },
  {
   "cell_type": "markdown",
   "id": "2ec7c505",
   "metadata": {},
   "source": [
    "Exercise : \n",
    "\n",
    "* find out all the numbers which are divisible by both 3 and 5 between 1 to 100\n",
    "\n",
    "* all the numbers which are divisible by either 3 or 5 but not by both between 1 to 100"
   ]
  },
  {
   "cell_type": "code",
   "execution_count": null,
   "id": "fe87fd48",
   "metadata": {},
   "outputs": [],
   "source": [
    "a=set(range(3,101,3))\n",
    "b=set(range(5,101,5))\n",
    "a.intersection(b)"
   ]
  },
  {
   "cell_type": "code",
   "execution_count": null,
   "id": "c93f3eba",
   "metadata": {},
   "outputs": [],
   "source": [
    "a.union(b)-a.intersection(b)"
   ]
  },
  {
   "cell_type": "code",
   "execution_count": null,
   "id": "d6522529",
   "metadata": {},
   "outputs": [],
   "source": [
    "a.symmetric_difference(b)\n",
    "# this is same as earlier in terms of the outcome"
   ]
  },
  {
   "cell_type": "markdown",
   "id": "6abf8e85",
   "metadata": {},
   "source": [
    "# Tuples"
   ]
  },
  {
   "cell_type": "markdown",
   "id": "cc87ebdf",
   "metadata": {},
   "source": [
    "Tuples are ordered but immutable and can store a fixed number of items post their creation. They are good for maintaining constrained information. In practice as beginners we will not find many direct use cases , but they are used by many data structures internally . "
   ]
  },
  {
   "cell_type": "code",
   "execution_count": null,
   "id": "f7c8528e",
   "metadata": {},
   "outputs": [],
   "source": [
    "mytuple1=(3,4,4,5,6,8,9,9,9)\n",
    "mytuple1"
   ]
  },
  {
   "cell_type": "code",
   "execution_count": null,
   "id": "3f2661af",
   "metadata": {},
   "outputs": [],
   "source": [
    "mytuple2=4,5,5,5,5,5,8,9\n",
    "mytuple2"
   ]
  },
  {
   "cell_type": "code",
   "execution_count": null,
   "id": "546237bf",
   "metadata": {},
   "outputs": [],
   "source": [
    "mytuple1[-1]"
   ]
  },
  {
   "cell_type": "code",
   "execution_count": null,
   "id": "b8ec547a",
   "metadata": {},
   "outputs": [],
   "source": [
    "mytuple1[2]=3 \n",
    "# they dont have any addition or removal functions either. you can however add two tuples to create a new one\n",
    "# but that doesnt alter the original ones as intended"
   ]
  }
 ],
 "metadata": {
  "kernelspec": {
   "display_name": "Python 3 (ipykernel)",
   "language": "python",
   "name": "python3"
  },
  "language_info": {
   "codemirror_mode": {
    "name": "ipython",
    "version": 3
   },
   "file_extension": ".py",
   "mimetype": "text/x-python",
   "name": "python",
   "nbconvert_exporter": "python",
   "pygments_lexer": "ipython3",
   "version": "3.10.9"
  }
 },
 "nbformat": 4,
 "nbformat_minor": 5
}
