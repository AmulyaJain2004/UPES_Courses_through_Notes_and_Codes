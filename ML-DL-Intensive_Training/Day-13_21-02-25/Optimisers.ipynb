{
 "cells": [
  {
   "cell_type": "markdown",
   "id": "e4e4b574-0155-4024-b1a1-73038d165f3b",
   "metadata": {},
   "source": [
    "# Losses can have non optimal local minimas"
   ]
  },
  {
   "cell_type": "code",
   "execution_count": null,
   "id": "aa70e38d-978b-47b9-8bba-45821a7cd7f8",
   "metadata": {},
   "outputs": [],
   "source": [
    "import numpy as np\n",
    "import matplotlib.pyplot as plt\n",
    "\n",
    "# Generate dataset: y = 4 + 2*x1 + 3*x2 + noise\n",
    "np.random.seed(42)\n",
    "X = np.random.rand(100, 2) * 2 - 1  \n",
    "y = 4 + 2 * X[:, 0] + 3 * X[:, 1] + np.random.randn(100) * 0.5  \n",
    "\n",
    "# ReLU activation function\n",
    "def relu(x):\n",
    "    return np.maximum(0, x)\n",
    "\n",
    "# Huber loss function\n",
    "def huber_loss(y_true, y_pred, delta=1.0):\n",
    "    error = y_true - y_pred\n",
    "    abs_error = np.abs(error)\n",
    "    quadratic = 0.5 * (error ** 2)\n",
    "    linear = delta * (abs_error - 0.5 * delta)\n",
    "    return np.mean(np.where(abs_error < delta, quadratic, linear))\n",
    "\n",
    "# Loss function with non-linearity\n",
    "def compute_loss(w1, w2, X, y):\n",
    "    b1, b2 = 0.5, -0.5  \n",
    "    W_out = np.array([[2.0], [-2.0]])  \n",
    "    b_out = 0.3  \n",
    "\n",
    "    hidden_input = np.dot(X, np.array([[w1, w2]]).T) + np.array([[b1, b2]])\n",
    "    hidden_output = relu(hidden_input)  \n",
    "    final_output = np.dot(hidden_output, W_out) + b_out  \n",
    "\n",
    "    return huber_loss(y, final_output.flatten(), delta=1.0)\n",
    "\n",
    "# Generate weight range\n",
    "w_values = np.linspace(-5, 5, 100)\n",
    "loss_w1 = np.zeros(100)\n",
    "loss_w2 = np.zeros(100)\n",
    "\n",
    "fixed_w1, fixed_w2 = 1.0, -1.0  \n",
    "\n",
    "# Compute loss for individual weights\n",
    "for i, w in enumerate(w_values):\n",
    "    loss_w1[i] = compute_loss(w, fixed_w2, X, y)\n",
    "    loss_w2[i] = compute_loss(fixed_w1, w, X, y)\n",
    "\n",
    "# Plot Loss vs W1 and W2\n",
    "fig, axes = plt.subplots(1, 2, figsize=(12, 5))\n",
    "\n",
    "axes[0].plot(w_values, loss_w1, label=\"Loss w.r.t W1\")\n",
    "axes[0].set_xlabel(\"Weight 1\")\n",
    "axes[0].set_ylabel(\"Loss\")\n",
    "axes[0].set_title(\"Loss vs W1 (ReLU + Huber)\")\n",
    "axes[0].grid()\n",
    "\n",
    "axes[1].plot(w_values, loss_w2, label=\"Loss w.r.t W2\", color='r')\n",
    "axes[1].set_xlabel(\"Weight 2\")\n",
    "axes[1].set_ylabel(\"Loss\")\n",
    "axes[1].set_title(\"Loss vs W2 (ReLU + Huber)\")\n",
    "axes[1].grid()\n",
    "\n",
    "plt.tight_layout()\n",
    "plt.show()\n"
   ]
  },
  {
   "cell_type": "markdown",
   "id": "98288f13-a155-4845-bfd2-674414e45d1c",
   "metadata": {},
   "source": [
    "# GD"
   ]
  },
  {
   "cell_type": "code",
   "execution_count": null,
   "id": "197e8d89-9499-44c1-9109-618c54a4d06b",
   "metadata": {},
   "outputs": [],
   "source": [
    "import pandas as pd"
   ]
  },
  {
   "cell_type": "code",
   "execution_count": null,
   "id": "2a85a447-f39c-4267-973e-e43695895481",
   "metadata": {},
   "outputs": [],
   "source": [
    "x1=np.random.randint(low=1,high=20,size=20000)\n",
    "x2=np.random.randint(low=1,high=20,size=20000)\n",
    "y=3+2*x1-4*x2+np.random.random(20000)"
   ]
  },
  {
   "cell_type": "code",
   "execution_count": null,
   "id": "be721d2e-b925-40c1-ba3a-56f3639b3ef6",
   "metadata": {},
   "outputs": [],
   "source": [
    "x=pd.DataFrame({'intercept':np.ones(20000),'x1':x1,'x2':x2})"
   ]
  },
  {
   "cell_type": "code",
   "execution_count": null,
   "id": "365c45da-41e0-45e9-9577-e509995f68bd",
   "metadata": {},
   "outputs": [],
   "source": [
    "from sklearn.linear_model import LinearRegression"
   ]
  },
  {
   "cell_type": "code",
   "execution_count": null,
   "id": "774bb85d-3e49-4d7e-84b1-890219d793ce",
   "metadata": {},
   "outputs": [],
   "source": [
    "sk_model=LinearRegression()"
   ]
  },
  {
   "cell_type": "code",
   "execution_count": null,
   "id": "e4d9beb4-6ec8-49b2-ae8d-9eba6c824c67",
   "metadata": {},
   "outputs": [],
   "source": [
    "sk_model.fit(pd.DataFrame({'x1':x1,'x2':x2}),y)"
   ]
  },
  {
   "cell_type": "code",
   "execution_count": null,
   "id": "dd2124d3-8b88-4e77-afce-524cf1ca293f",
   "metadata": {},
   "outputs": [],
   "source": [
    "w_sk=[sk_model.intercept_]+list(sk_model.coef_)"
   ]
  },
  {
   "cell_type": "code",
   "execution_count": null,
   "id": "fd05fb0a-0ca6-430a-a2ad-36dceaf03a74",
   "metadata": {},
   "outputs": [],
   "source": [
    "w_sk"
   ]
  },
  {
   "cell_type": "code",
   "execution_count": null,
   "id": "ba5dedad-0c1e-490a-b561-ef3f8fbc6b79",
   "metadata": {},
   "outputs": [],
   "source": [
    "w=np.random.random(x.shape[1])"
   ]
  },
  {
   "cell_type": "code",
   "execution_count": null,
   "id": "328e9013-4526-45a3-a992-89f899d50946",
   "metadata": {},
   "outputs": [],
   "source": [
    "w"
   ]
  },
  {
   "cell_type": "code",
   "execution_count": null,
   "id": "27ee767b-75fe-44e4-8329-8d2c3d9b12a0",
   "metadata": {},
   "outputs": [],
   "source": [
    "def my_pred(x,w):\n",
    "\n",
    "    preds=x@w\n",
    "    return preds"
   ]
  },
  {
   "cell_type": "code",
   "execution_count": null,
   "id": "ab38f9b0-c03b-43c7-8cb3-5ee181aac62e",
   "metadata": {},
   "outputs": [],
   "source": [
    "def my_error(y,x,w):\n",
    "\n",
    "    error=y-my_pred(x,w)\n",
    "    return error"
   ]
  },
  {
   "cell_type": "code",
   "execution_count": null,
   "id": "513aed0b-5950-4397-988f-fbc203c3cb65",
   "metadata": {},
   "outputs": [],
   "source": [
    "def my_cost(y,x,w):\n",
    "    error=my_error(y,x,w)\n",
    "    cost=error.T@error\n",
    "    return cost"
   ]
  },
  {
   "cell_type": "code",
   "execution_count": null,
   "id": "ef2d39ac-f7f5-4aa4-b2c0-a0728676b505",
   "metadata": {},
   "outputs": [],
   "source": [
    "def grad(y,x,w):\n",
    "\n",
    "    error=my_error(y,x,w)\n",
    "    grad=-x.T@error/x.shape[0]\n",
    "    return np.array(grad)"
   ]
  },
  {
   "cell_type": "code",
   "execution_count": null,
   "id": "10c23a77-e4cb-491d-9a1e-0da4db8fd492",
   "metadata": {},
   "outputs": [],
   "source": [
    "grad(y,x,w)"
   ]
  },
  {
   "cell_type": "code",
   "execution_count": null,
   "id": "e07b754b-96e6-41f9-956d-c959d56305b0",
   "metadata": {},
   "outputs": [],
   "source": [
    "def lr_gd(y,x,learning_rate,num_steps):\n",
    "\n",
    "    wts=np.zeros(x.shape[1])\n",
    "    cost=[]\n",
    "    for i in range(num_steps):\n",
    "        wts-=learning_rate*grad(y,x,wts)\n",
    "\n",
    "        cost.append(my_cost(y,x,wts))\n",
    "        \n",
    "    return cost,wts\n",
    "\n",
    "        "
   ]
  },
  {
   "cell_type": "code",
   "execution_count": null,
   "id": "06061ae8-f58c-4ab4-905a-386acb6c5f6e",
   "metadata": {},
   "outputs": [],
   "source": [
    "cost_gd,w_gd=lr_gd(y,x,.001,1000)"
   ]
  },
  {
   "cell_type": "code",
   "execution_count": null,
   "id": "7c60c2aa-d9cb-4d92-af96-a24c40efbe09",
   "metadata": {},
   "outputs": [],
   "source": [
    "w_sk"
   ]
  },
  {
   "cell_type": "code",
   "execution_count": null,
   "id": "db3d64f9-2c7a-4c3a-ab48-55926866cfcd",
   "metadata": {},
   "outputs": [],
   "source": [
    "w_gd"
   ]
  },
  {
   "cell_type": "code",
   "execution_count": null,
   "id": "e92c4d3b-aa80-4f26-9a34-4bf64fb6860a",
   "metadata": {},
   "outputs": [],
   "source": [
    "def lr_sgd(y,x,learning_rate,num_steps):\n",
    "\n",
    "    wts=np.zeros(x.shape[1])\n",
    "    cost=[]\n",
    "    for i in range(num_steps):\n",
    "        rand_ind=np.random.choice(range(x.shape[0]),10)\n",
    "        y_sub=y[rand_ind]\n",
    "        x_sub=x.iloc[rand_ind,:]\n",
    "\n",
    "        \n",
    "        wts-=learning_rate*grad(y_sub,x_sub,wts)\n",
    "\n",
    "        cost.append(my_cost(y,x,wts))\n",
    "        \n",
    "    return cost,wts"
   ]
  },
  {
   "cell_type": "code",
   "execution_count": null,
   "id": "eb69ae7b-ab36-486f-889b-bc5bd6017609",
   "metadata": {},
   "outputs": [],
   "source": [
    "cost_sgd,w_sgd=lr_sgd(y,x,.001,1000)"
   ]
  },
  {
   "cell_type": "code",
   "execution_count": null,
   "id": "8b12fb27-6d68-4e6f-b424-a88dfad124c9",
   "metadata": {},
   "outputs": [],
   "source": [
    "w_sgd"
   ]
  },
  {
   "cell_type": "code",
   "execution_count": null,
   "id": "ededc6e3-43f3-4da1-9513-b03a25dde548",
   "metadata": {},
   "outputs": [],
   "source": [
    "pd.DataFrame({'cost_gd':np.log(cost_gd),'cost_sgd':np.log(cost_sgd)}).plot()"
   ]
  },
  {
   "cell_type": "code",
   "execution_count": null,
   "id": "2036bd37-1a00-4a3c-90b5-40ff19760715",
   "metadata": {},
   "outputs": [],
   "source": [
    "def lr_sgd_mom(y,x,learning_rate,num_steps):\n",
    "\n",
    "    wts=np.zeros(x.shape[1])\n",
    "    cost=[]\n",
    "    gamma=0.9\n",
    "    v=np.zeros(x.shape[1])\n",
    "    for i in range(num_steps):\n",
    "        rand_ind=np.random.choice(range(x.shape[0]),10)\n",
    "        y_sub=y[rand_ind]\n",
    "        x_sub=x.iloc[rand_ind,:]\n",
    "\n",
    "        g=grad(y_sub,x_sub,wts)\n",
    "        v=gamma*v+(1-gamma)*g\n",
    "\n",
    "        v_adj=v/(1-gamma**(i+1))\n",
    "        \n",
    "        wts-=learning_rate*v_adj\n",
    "\n",
    "        cost.append(my_cost(y,x,wts))\n",
    "        \n",
    "    return cost,wts"
   ]
  },
  {
   "cell_type": "code",
   "execution_count": null,
   "id": "31b11e90-5b12-4b04-8c78-22e69256fbd1",
   "metadata": {},
   "outputs": [],
   "source": [
    "cost_sgd_mom,w_sgd_mom=lr_sgd_mom(y,x,.01,1000)"
   ]
  },
  {
   "cell_type": "code",
   "execution_count": null,
   "id": "022eb4ad-c55d-4b06-9444-474729524011",
   "metadata": {},
   "outputs": [],
   "source": [
    "w_sgd_mom"
   ]
  },
  {
   "cell_type": "code",
   "execution_count": null,
   "id": "d664a66b-e085-4f83-89e3-49eec456f4ea",
   "metadata": {},
   "outputs": [],
   "source": [
    "pd.DataFrame({'cost_gd':np.log(cost_gd),'cost_sgd':np.log(cost_sgd),'cost_sgd_mom':np.log(cost_sgd_mom)}).plot()"
   ]
  },
  {
   "cell_type": "code",
   "execution_count": null,
   "id": "5f7d92cd-524f-49cd-844b-7acdc96d0225",
   "metadata": {},
   "outputs": [],
   "source": []
  },
  {
   "cell_type": "code",
   "execution_count": null,
   "id": "c98f0572-3a9c-47fb-a490-09f8509d160c",
   "metadata": {},
   "outputs": [],
   "source": []
  }
 ],
 "metadata": {
  "kernelspec": {
   "display_name": "Python 3 (ipykernel)",
   "language": "python",
   "name": "python3"
  },
  "language_info": {
   "codemirror_mode": {
    "name": "ipython",
    "version": 3
   },
   "file_extension": ".py",
   "mimetype": "text/x-python",
   "name": "python",
   "nbconvert_exporter": "python",
   "pygments_lexer": "ipython3",
   "version": "3.12.7"
  }
 },
 "nbformat": 4,
 "nbformat_minor": 5
}
