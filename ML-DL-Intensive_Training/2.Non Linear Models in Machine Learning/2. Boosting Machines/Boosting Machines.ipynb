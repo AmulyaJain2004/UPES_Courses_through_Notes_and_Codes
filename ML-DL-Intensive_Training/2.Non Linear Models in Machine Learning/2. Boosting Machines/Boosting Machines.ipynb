{
 "cells": [
  {
   "cell_type": "code",
   "execution_count": null,
   "id": "f0933d46",
   "metadata": {},
   "outputs": [],
   "source": [
    "import pandas as pd\n",
    "import numpy as np\n",
    "import ml_utils as mt\n",
    "from sklearn.ensemble import GradientBoostingRegressor,GradientBoostingClassifier\n",
    "from sklearn.model_selection import RandomizedSearchCV\n",
    "from xgboost.sklearn import XGBClassifier,XGBRegressor\n",
    "from catboost import CatBoostRegressor"
   ]
  },
  {
   "cell_type": "code",
   "execution_count": null,
   "id": "5c2d1a88",
   "metadata": {},
   "outputs": [],
   "source": [
    "ld_train=pd.read_csv('loan_data_train.csv')"
   ]
  },
  {
   "cell_type": "code",
   "execution_count": null,
   "id": "2ba01e27",
   "metadata": {},
   "outputs": [],
   "source": [
    "def dtr(orig_col):\n",
    "    \n",
    "    mod_col=orig_col.str.replace('%','')\n",
    "    mod_col=pd.to_numeric(mod_col,errors='coerce')\n",
    "    \n",
    "    return mod_col\n",
    "\n",
    "def fico(orig_col):\n",
    "    k=orig_col.str.split('-',expand=True)\n",
    "    \n",
    "    for i in [0,1]:\n",
    "        k[i]=pd.to_numeric(k[i],errors='coerce')\n",
    "    \n",
    "    mod_col=0.5*(k[0]+k[1])\n",
    "    \n",
    "    return mod_col\n",
    "\n",
    "def el(orig_col):\n",
    "    \n",
    "    inter_col=orig_col.str.replace('10+ years','10',regex=False)\n",
    "    inter_col=inter_col.str.replace('< 1 year','0',regex=False)\n",
    "    inter_col=inter_col.str.replace('years','').str.replace('year','')\n",
    "    \n",
    "    mod_col=pd.to_numeric(inter_col,errors='coerce')\n",
    "    \n",
    "    return mod_col\n",
    "\n",
    "cat_to_dummies_cols=['Loan.Length','Loan.Purpose','State','Home.Ownership']\n",
    "cat_to_num_cols=['Amount.Requested','Open.CREDIT.Lines','Revolving.CREDIT.Balance']\n",
    "simple_num_cols=['Monthly.Income','Inquiries.in.the.Last.6.Months']\n",
    "custom_func_dict_cols={'Debt.To.Income.Ratio':dtr,'FICO.Range':fico,'Employment.Length':el}\n",
    "\n",
    "data_pipe=mt.DataPipe(cat_to_dummies= cat_to_dummies_cols,\n",
    "                     cat_to_num=cat_to_num_cols,\n",
    "                     simple_num=simple_num_cols,\n",
    "                     custom_func_dict=custom_func_dict_cols)\n",
    "\n",
    "data_pipe.fit(ld_train)\n",
    "\n",
    "x_train_reg=data_pipe.transform(ld_train)\n",
    "y_train_reg=ld_train['Interest.Rate'].str.replace('%','').astype(float)"
   ]
  },
  {
   "cell_type": "code",
   "execution_count": null,
   "id": "d8406ca2",
   "metadata": {},
   "outputs": [],
   "source": [
    "x_train_reg.shape"
   ]
  },
  {
   "cell_type": "code",
   "execution_count": null,
   "id": "adee3f7d",
   "metadata": {},
   "outputs": [],
   "source": [
    "params_gbm={\n",
    "    'n_estimators':[50,100,150,200,250],\n",
    "    'learning_rate':[.01,.05,0.1,0.4,0.8],# 1>learing_rate>0\n",
    "    'max_depth':[1,2,3,4,5,6],\n",
    "#    'min_samples_split': we can ignore these because they might not matter, since we are keeping the depth low\n",
    "#    'min_samples_leaf':\n",
    "    'subsample':[0.5,0.6,0.7,0.8,0.9,1] ,\n",
    "    'max_features':[5,10,15,20,30,40,48]\n",
    "}"
   ]
  },
  {
   "cell_type": "code",
   "execution_count": null,
   "id": "32ccac91",
   "metadata": {},
   "outputs": [],
   "source": [
    "reg_gbm=GradientBoostingRegressor()"
   ]
  },
  {
   "cell_type": "code",
   "execution_count": null,
   "id": "5ac0cf92",
   "metadata": {},
   "outputs": [],
   "source": [
    "rs_gbm=RandomizedSearchCV(reg_gbm,\n",
    "                         scoring='neg_mean_absolute_error',\n",
    "                         param_distributions=params_gbm,\n",
    "                         cv=10,\n",
    "                         n_iter=50,\n",
    "                         n_jobs=-1)"
   ]
  },
  {
   "cell_type": "code",
   "execution_count": null,
   "id": "565a267a",
   "metadata": {},
   "outputs": [],
   "source": [
    "rs_gbm.fit(x_train_reg,y_train_reg)"
   ]
  },
  {
   "cell_type": "code",
   "execution_count": null,
   "id": "cb04f7bc",
   "metadata": {},
   "outputs": [],
   "source": [
    "mt.report(rs_gbm.cv_results_,5)"
   ]
  },
  {
   "cell_type": "code",
   "execution_count": null,
   "id": "e6aa15d6",
   "metadata": {},
   "outputs": [],
   "source": [
    "# I am using a specific set of parameters which were best for my quick run\n",
    "# in your iteration this might be different \n",
    "reg_gbm_final=GradientBoostingRegressor(**{'subsample': 0.5, 'n_estimators': 150, \n",
    "                                           'max_features': 48,\n",
    "                                           'max_depth': 4, 'learning_rate': 0.05})"
   ]
  },
  {
   "cell_type": "code",
   "execution_count": null,
   "id": "c90e67ce",
   "metadata": {},
   "outputs": [],
   "source": [
    "reg_gbm_final.fit(x_train_reg,y_train_reg)"
   ]
  },
  {
   "cell_type": "code",
   "execution_count": null,
   "id": "7eca0280",
   "metadata": {},
   "outputs": [],
   "source": [
    "reg_gbm_final.predict(x_train_reg)"
   ]
  },
  {
   "cell_type": "markdown",
   "id": "1deee58a",
   "metadata": {},
   "source": [
    "# gbm for classification"
   ]
  },
  {
   "cell_type": "code",
   "execution_count": null,
   "id": "4c426de6",
   "metadata": {},
   "outputs": [],
   "source": [
    "bd_train=pd.read_csv('bd_train.csv')"
   ]
  },
  {
   "cell_type": "code",
   "execution_count": null,
   "id": "9d7b4f31",
   "metadata": {},
   "outputs": [],
   "source": [
    "def children_to_num(col):\n",
    "    \n",
    "    num_col=col.str.replace('Zero','0')\n",
    "    num_col=num_col.str.replace('4+','4',regex=False)\n",
    "    num_col=pd.to_numeric(num_col,errors='coerce')\n",
    "    \n",
    "    return num_col\n",
    "\n",
    "def ab_to_num(col):\n",
    "    \n",
    "    col=col.str.replace('71+','71-71',regex=False)\n",
    "    k=col.str.split('-',expand=True)\n",
    "    \n",
    "    for i in [0,1]:\n",
    "        k[i]=pd.to_numeric(k[i],errors='coerce')\n",
    "        \n",
    "    num_col=0.5*(k[0]+k[1])\n",
    "    \n",
    "    return num_col\n",
    "\n",
    "def fi_to_num(col):\n",
    "    \n",
    "    col=col.replace({'<10,000, >= 8,000':9000, '>=35,000':35000, '<25,000, >=22,500':23750,\n",
    "       '<20,000, >=17,500':18750, '<12,500, >=10,000':11250, '<30,000, >=27,500':28750,\n",
    "       '<27,500, >=25,000':26250, '<17,500, >=15,000':16250, '<15,000, >=12,500':13750,\n",
    "       '<22,500, >=20,000':21250,'< 4,000': 4000, '< 8,000, >= 4,000':6000})\n",
    "    num_col=pd.to_numeric(col,errors='coerce')\n",
    "    \n",
    "    return num_col\n",
    "\n",
    "simple_numeric_cols=['year_last_moved','Average.Credit.Card.Transaction', 'Balance.Transfer',\n",
    "      'Term.Deposit', 'Life.Insurance', 'Medical.Insurance',\n",
    "      'Average.A.C.Balance', 'Personal.Loan', 'Investment.in.Mutual.Fund',\n",
    "      'Investment.Tax.Saving.Bond', 'Home.Loan', 'Online.Purchase.Amount','Investment.in.Commudity',\n",
    "      'Investment.in.Equity', 'Investment.in.Derivative',\n",
    "      'Portfolio.Balance']\n",
    "\n",
    "cat_to_dummies_cols=['status' , 'occupation' , 'occupation_partner' , 'home_status', 'self_employed',\n",
    "'self_employed_partner','TVarea','gender','region']\n",
    "\n",
    "custom_function_cols={'children':children_to_num,'age_band':ab_to_num,'family_income':fi_to_num}\n",
    "\n",
    "data_pipe=mt.DataPipe(simple_num=simple_numeric_cols,\n",
    "                     cat_to_dummies=cat_to_dummies_cols,\n",
    "                     custom_func_dict=custom_function_cols)\n",
    "\n",
    "data_pipe.fit(bd_train)\n",
    "\n",
    "x_train_cls=data_pipe.transform(bd_train)\n",
    "\n",
    "y_train_cls=(bd_train['Revenue.Grid']==1).astype(int)"
   ]
  },
  {
   "cell_type": "code",
   "execution_count": null,
   "id": "a6ee5242",
   "metadata": {},
   "outputs": [],
   "source": [
    "x_train_cls.shape"
   ]
  },
  {
   "cell_type": "code",
   "execution_count": null,
   "id": "7213cbf0",
   "metadata": {},
   "outputs": [],
   "source": [
    "params_gbm={\n",
    "    'n_estimators':[50,100,150,200,250,300,400,500],\n",
    "    'learning_rate':[.01,.05,0.1,0.4,0.8],# 1>learing_rate>0\n",
    "    'max_depth':[1,2,3,4,5,6],\n",
    "#    'min_samples_split': we can ignore these because they might not matter, since we are keeping the depth low\n",
    "#    'min_samples_leaf':\n",
    "    'subsample':[0.5,0.6,0.7,0.8,0.9,1] ,\n",
    "    'max_features':[5,10,15,20,30,40,50,60,71]\n",
    "}"
   ]
  },
  {
   "cell_type": "code",
   "execution_count": null,
   "id": "caef10dd",
   "metadata": {},
   "outputs": [],
   "source": [
    "cls_gbm=GradientBoostingClassifier()"
   ]
  },
  {
   "cell_type": "code",
   "execution_count": null,
   "id": "443c6392",
   "metadata": {},
   "outputs": [],
   "source": [
    "rs_gbm_cl=RandomizedSearchCV(cls_gbm,\n",
    "                            scoring='roc_auc',\n",
    "                            param_distributions=params_gbm,\n",
    "                            cv=10,\n",
    "                            n_iter=10,\n",
    "                            n_jobs=-1)"
   ]
  },
  {
   "cell_type": "code",
   "execution_count": null,
   "id": "9a8ba3a1",
   "metadata": {},
   "outputs": [],
   "source": [
    "rs_gbm_cl.fit(x_train_cls,y_train_cls)"
   ]
  },
  {
   "cell_type": "code",
   "execution_count": null,
   "id": "3a98963f",
   "metadata": {},
   "outputs": [],
   "source": [
    "mt.report(rs_gbm_cl.cv_results_,5)"
   ]
  },
  {
   "cell_type": "code",
   "execution_count": null,
   "id": "758c5e48",
   "metadata": {},
   "outputs": [],
   "source": [
    "# Leaving the part where you train your final model separately "
   ]
  },
  {
   "cell_type": "markdown",
   "id": "e30a182b-3e56-4274-9c35-383ce04adc4b",
   "metadata": {},
   "source": [
    "# XGB for Regression"
   ]
  },
  {
   "cell_type": "code",
   "execution_count": null,
   "id": "029ff9af-83d3-43cc-9cd4-f84e7554559a",
   "metadata": {},
   "outputs": [],
   "source": [
    "params_xgb={\n",
    "            'learning_rate':[0.01,0.05,0.1,0.3,0.4,0.5], # in your first run dont go beyond 0.5, expand if needed later\n",
    "            'n_estimators':[50,100,150,200,300,400],\n",
    "            \n",
    "            'gamma':[i/10 for i in range(0,10)], # gamma can take any value from 0 to inf, penalty on tree size\n",
    "            'max_depth':[2,3,4,5,6,7,8], # start with smaller values\n",
    "            'min_child_weight':[1,2,5,10] , # this serves similar purpose as min obs in node in gbm\n",
    "    \n",
    "            'subsample':[i/10 for i in range(5,11)], # fraction of observations being picked for a tree\n",
    "            'colsample_bytree':[i/10 for i in range(4,11)], # fraction of features being picked for a tree\n",
    "            'colsample_bylevel':[i/10 for i in range(4,11)], # fraction of features being picked at each node\n",
    "                                                             # this works on top of features selected for the tree   \n",
    "             \n",
    "            'reg_lambda':[1e-5,.001,0.1,1,10,100], # l2 penalty on predictions\n",
    "            'reg_alpha': [1e-5,.001,0.1,1,10,100],  # l1 penalty on predictions\n",
    "            'max_delta_step':[0.1,0.5,1,2,5] # failsafe upper limit on predictions \n",
    "            \n",
    "}"
   ]
  },
  {
   "cell_type": "code",
   "execution_count": null,
   "id": "475d58ab-434c-44cc-8a4d-8e71b4b64a75",
   "metadata": {},
   "outputs": [],
   "source": [
    "reg_xgb=XGBRegressor(objective='reg:squarederror')"
   ]
  },
  {
   "cell_type": "code",
   "execution_count": null,
   "id": "4a8a0c2c-5625-4516-882f-16ea5fe2e09d",
   "metadata": {},
   "outputs": [],
   "source": [
    "rs_xgb=RandomizedSearchCV(reg_xgb,\n",
    "                         scoring='neg_mean_absolute_error',\n",
    "                         param_distributions=params_xgb,\n",
    "                         cv=10,\n",
    "                         n_iter=50,\n",
    "                         n_jobs=-1)"
   ]
  },
  {
   "cell_type": "code",
   "execution_count": null,
   "id": "865a8bf4-f88b-4952-9ecf-721580c5e052",
   "metadata": {},
   "outputs": [],
   "source": [
    "rs_xgb.fit(x_train_reg,y_train_reg)"
   ]
  },
  {
   "cell_type": "code",
   "execution_count": null,
   "id": "3ddc0ff8-f3f1-4646-99cc-814b53208d3f",
   "metadata": {},
   "outputs": [],
   "source": [
    "mt.report(rs_xgb.cv_results_,5)"
   ]
  },
  {
   "cell_type": "markdown",
   "id": "64c1cc46-4234-4c18-872a-057a88d2b39b",
   "metadata": {},
   "source": [
    "# Catboost Regressor"
   ]
  },
  {
   "cell_type": "code",
   "execution_count": null,
   "id": "6149a59e-55b3-4301-8462-2c54446c743f",
   "metadata": {},
   "outputs": [],
   "source": [
    "# for catboost we are going to leave categorical columns as is and it will be handled by catboost implementation internally\n",
    "\n",
    "cat_to_dummies_cols=['Loan.Length','Loan.Purpose','State','Home.Ownership']\n",
    "cat_to_num_cols=['Amount.Requested','Open.CREDIT.Lines','Revolving.CREDIT.Balance']\n",
    "simple_num_cols=['Monthly.Income','Inquiries.in.the.Last.6.Months']\n",
    "custom_func_dict_cols={'Debt.To.Income.Ratio':dtr,'FICO.Range':fico,'Employment.Length':el}\n",
    "cat_pipe=mt.DataPipe(cat_to_dummies= cat_to_dummies_cols,\n",
    "                     cat_to_num=cat_to_num_cols,\n",
    "                     simple_num=simple_num_cols,\n",
    "                     custom_func_dict=custom_func_dict_cols,\n",
    "                    for_catboost=True)"
   ]
  },
  {
   "cell_type": "code",
   "execution_count": null,
   "id": "0a6ab54d-6523-4961-907a-3206495d1137",
   "metadata": {},
   "outputs": [],
   "source": [
    "cat_pipe.fit(ld_train)"
   ]
  },
  {
   "cell_type": "code",
   "execution_count": null,
   "id": "e347c5bf-0d0d-4e71-aeb3-c3d1652e1cd1",
   "metadata": {},
   "outputs": [],
   "source": [
    "x_train_reg_cb=cat_pipe.transform(ld_train)"
   ]
  },
  {
   "cell_type": "code",
   "execution_count": null,
   "id": "e44072ab-fa6c-4ab1-84bd-3749718a867f",
   "metadata": {},
   "outputs": [],
   "source": [
    "params_cat_reg = {\n",
    "    'learning_rate': [0.01, 0.05, 0.1, 0.3, 0.4, 0.5],\n",
    "    'depth': [2, 3, 4, 5, 6, 7, 8],\n",
    "    'l2_leaf_reg': [1e-5, 0.001, 0.1, 1, 10, 100],\n",
    "    'iterations': [50, 100, 150, 200, 300, 400],\n",
    "    'bagging_temperature': [0, 0.25, 0.5, 1, 2, 5],\n",
    "    'random_strength': [1e-9, 1e-5, 0.001, 0.1, 1, 10],\n",
    "    'rsm': [0.4, 0.5, 0.6, 0.7, 0.8, 0.9, 1.0],\n",
    "    'min_data_in_leaf': [1, 2, 5, 10],\n",
    "    'max_bin': [128, 254, 512]\n",
    "}"
   ]
  },
  {
   "cell_type": "code",
   "execution_count": null,
   "id": "2f405b1f-0ba4-4c44-b318-39a1d12c9bc3",
   "metadata": {},
   "outputs": [],
   "source": [
    "reg_cat = CatBoostRegressor(\n",
    "    loss_function='MAE',\n",
    "    verbose=0,\n",
    "    random_state=42\n",
    ")\n",
    "\n",
    "rs_cat = RandomizedSearchCV(\n",
    "    estimator=reg_cat,\n",
    "    param_distributions=params_cat_reg,\n",
    "    scoring='neg_mean_absolute_error',\n",
    "    cv=10,\n",
    "    n_iter=50,\n",
    "    n_jobs=-1\n",
    ")\n",
    "\n",
    "rs_cat.fit(x_train_reg_cb, y_train_reg, **{'cat_features': cat_to_dummies_cols})"
   ]
  },
  {
   "cell_type": "code",
   "execution_count": null,
   "id": "f3ef4ad2-3cb0-455f-9973-8bc365b7edb2",
   "metadata": {},
   "outputs": [],
   "source": [
    "mt.report(rs_cat.cv_results_,5)"
   ]
  },
  {
   "cell_type": "code",
   "execution_count": null,
   "id": "728f1f7e-4eec-4feb-8eb6-54407bf39b41",
   "metadata": {},
   "outputs": [],
   "source": [
    "# Similar mechanics can be followed for classification problems as well , leaving that for students "
   ]
  }
 ],
 "metadata": {
  "kernelspec": {
   "display_name": "Python 3 (ipykernel)",
   "language": "python",
   "name": "python3"
  },
  "language_info": {
   "codemirror_mode": {
    "name": "ipython",
    "version": 3
   },
   "file_extension": ".py",
   "mimetype": "text/x-python",
   "name": "python",
   "nbconvert_exporter": "python",
   "pygments_lexer": "ipython3",
   "version": "3.12.7"
  }
 },
 "nbformat": 4,
 "nbformat_minor": 5
}
