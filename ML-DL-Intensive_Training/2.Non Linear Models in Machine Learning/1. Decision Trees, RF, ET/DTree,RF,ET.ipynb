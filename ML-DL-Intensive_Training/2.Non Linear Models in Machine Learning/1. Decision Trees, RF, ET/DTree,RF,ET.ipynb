{
 "cells": [
  {
   "cell_type": "code",
   "execution_count": null,
   "id": "5ba00c2d",
   "metadata": {},
   "outputs": [],
   "source": [
    "import ml_utils as mt \n",
    "import pandas as pd \n",
    "import numpy as np\n",
    "from sklearn.tree import DecisionTreeClassifier,DecisionTreeRegressor,plot_tree\n",
    "from sklearn.ensemble import RandomForestClassifier,RandomForestRegressor,ExtraTreesClassifier,ExtraTreesRegressor\n",
    "from sklearn.inspection import PartialDependenceDisplay,permutation_importance\n",
    "import matplotlib.pyplot as plt \n",
    "from sklearn.model_selection import RandomizedSearchCV"
   ]
  },
  {
   "cell_type": "markdown",
   "id": "c18dfb19-164d-4906-b8f2-0822384febbf",
   "metadata": {},
   "source": [
    "# Regression Trees"
   ]
  },
  {
   "cell_type": "code",
   "execution_count": null,
   "id": "8a631e7e-21ce-42ed-ac5c-bea82177bdd9",
   "metadata": {},
   "outputs": [],
   "source": [
    "ld_train=pd.read_csv('./loan_data_train.csv')\n",
    "def custom_dir(dir_col):\n",
    "    \n",
    "    temp=dir_col.str.replace('%','')\n",
    "    num=pd.to_numeric(temp,errors='coerce')\n",
    "    \n",
    "    return num\n",
    "\n",
    "def custom_fico(fico_col):\n",
    "    \n",
    "    temp=fico_col.str.split('-',expand=True)\n",
    "    for i in [0,1]:\n",
    "        temp[i]=pd.to_numeric(temp[i],errors='coerce')\n",
    "    num=0.5*(temp[0]+temp[1])\n",
    "    \n",
    "    return num\n",
    "\n",
    "def custom_el(el_col):\n",
    "    temp=el_col.replace({'5 years':5, '4 years':4, '< 1 year':0, \n",
    "           '10+ years':10, '2 years':2,'8 years':8, \n",
    "           '1 year':1, '6 years':6, '7 years':7, \n",
    "           '3 years':3, '9 years':9})\n",
    "    num=pd.to_numeric(temp,errors='coerce')\n",
    "    return num\n",
    "\n",
    "cat_to_num_cols=['Amount.Requested',\n",
    "                'Open.CREDIT.Lines','Revolving.CREDIT.Balance']\n",
    "simple_num_cols=['Monthly.Income','Inquiries.in.the.Last.6.Months']\n",
    "cat_to_dummies_cols=[ 'Loan.Length','Loan.Purpose',\n",
    "                    'State','Home.Ownership']\n",
    "custom_func_cols={'Debt.To.Income.Ratio':custom_dir,\n",
    "                    'FICO.Range':custom_fico,\n",
    "                    'Employment.Length':custom_el}\n",
    "ld_pipe=mt.DataPipe(simple_num=simple_num_cols,\n",
    "                   cat_to_num=cat_to_num_cols,\n",
    "                   cat_to_dummies=cat_to_dummies_cols,\n",
    "                   custom_func_dict=custom_func_cols)\n",
    "ld_pipe.fit(ld_train)\n",
    "x_train=ld_pipe.transform(ld_train)\n",
    "y_train=ld_train['Interest.Rate'].str.replace('%','').astype(float)"
   ]
  },
  {
   "cell_type": "code",
   "execution_count": null,
   "id": "212ec4f4-3ae7-4fd4-9804-d3b3af1a0be6",
   "metadata": {},
   "outputs": [],
   "source": [
    "# None here implies that there is no explicit constraint on max_depth \n",
    "# and it will be controlled by other parameters\n",
    "params={\n",
    "        'max_depth':[None,5,6,7,8,10,15,20,30,50], \n",
    "        'min_samples_leaf':[1,2,5,10,15,20], \n",
    "        'min_samples_split':[2,5,10,15,20] \n",
    "        }"
   ]
  },
  {
   "cell_type": "code",
   "execution_count": null,
   "id": "f30dc828-4c6f-46a2-96dd-98be60c6a5a1",
   "metadata": {},
   "outputs": [],
   "source": [
    "reg=DecisionTreeRegressor()"
   ]
  },
  {
   "cell_type": "code",
   "execution_count": null,
   "id": "0a01a1b2-8a36-49d8-8be5-448a14798ef2",
   "metadata": {},
   "outputs": [],
   "source": [
    "rs=RandomizedSearchCV(reg,\n",
    "                     cv=10,\n",
    "                     param_distributions=params,\n",
    "                     scoring='neg_mean_absolute_error',\n",
    "                     n_iter=50,\n",
    "                     n_jobs=-1)"
   ]
  },
  {
   "cell_type": "code",
   "execution_count": null,
   "id": "e119beb6-c670-40cf-84b4-c785a9b15748",
   "metadata": {},
   "outputs": [],
   "source": [
    "rs.fit(x_train,y_train)"
   ]
  },
  {
   "cell_type": "code",
   "execution_count": null,
   "id": "1828958a-80ed-4aed-a08a-b5f6f57789d0",
   "metadata": {},
   "outputs": [],
   "source": [
    "mt.report(rs.cv_results_,5)"
   ]
  },
  {
   "cell_type": "code",
   "execution_count": null,
   "id": "b2017890-f0e0-4859-90ba-5f337c946cc6",
   "metadata": {},
   "outputs": [],
   "source": [
    "# I am using a particular set of parameter values here which i obtained as best \n",
    "# its possible that you get some other candidates as best due to data change , random seed change etc \n",
    "# replace these with the values which you got as best \n",
    "dt=DecisionTreeRegressor(**{'min_samples_split': 5, 'min_samples_leaf': 15, 'max_depth': 8})"
   ]
  },
  {
   "cell_type": "code",
   "execution_count": null,
   "id": "9c62c01f-5be7-4e2a-9513-5e9ab16e1791",
   "metadata": {},
   "outputs": [],
   "source": [
    "dt.fit(x_train,y_train)"
   ]
  },
  {
   "cell_type": "code",
   "execution_count": null,
   "id": "ada25dc8-3416-4710-ac8f-4ed216383582",
   "metadata": {},
   "outputs": [],
   "source": [
    "# for this to work , you will also need to have graphviz installed on your machine\n",
    "# visit : https://graphviz.org\n",
    "from sklearn.tree import export_graphviz\n",
    "import graphviz\n",
    "\n",
    "# Generate DOT data\n",
    "dot_data = export_graphviz(\n",
    "    dt,\n",
    "    out_file=None,  # No file output, just return as a string\n",
    "    feature_names=x_train.columns,\n",
    "    class_names=[\"0\", \"1\"],\n",
    "    filled=True,\n",
    "    rounded=True,\n",
    "    special_characters=True\n",
    ")\n",
    "\n",
    "# Render with Graphviz\n",
    "graph = graphviz.Source(dot_data)\n",
    "graph.render(\"decision_tree\", format=\"png\", cleanup=True)  # Saves as a high-quality PNG\n",
    "graph  # Display in Jupyter Notebook (if applicable)"
   ]
  },
  {
   "cell_type": "code",
   "execution_count": null,
   "id": "0d7b72f7-8c4b-42bd-910b-8af735c713d6",
   "metadata": {},
   "outputs": [],
   "source": [
    "# this exports decision tree [in sequence of rules format]\n",
    "from sklearn.tree import export_text\n",
    "\n",
    "tree_rules = export_text(dt, feature_names=x_train.columns)\n",
    "print(tree_rules)"
   ]
  },
  {
   "cell_type": "markdown",
   "id": "a4516d2d-3760-4324-8038-81b6d2bf7a6c",
   "metadata": {},
   "source": [
    "# Partial Dependence Plots"
   ]
  },
  {
   "cell_type": "code",
   "execution_count": null,
   "id": "da7017e0-5195-4e9b-b8ba-761fdde9e750",
   "metadata": {},
   "outputs": [],
   "source": [
    "feature_to_plot = ['FICO.Range']  \n",
    "fig, ax = plt.subplots(figsize=(10, 6))\n",
    "PartialDependenceDisplay.from_estimator(dt, x_train, feature_to_plot, ax=ax,kind='average')\n",
    "plt.show()"
   ]
  },
  {
   "cell_type": "code",
   "execution_count": null,
   "id": "ee672df6-fbd0-4af4-9718-fee61732ae44",
   "metadata": {},
   "outputs": [],
   "source": [
    "features = [('Amount.Requested', 'FICO.Range')]  \n",
    "\n",
    "fig, ax = plt.subplots(figsize=(12, 8))\n",
    "PartialDependenceDisplay.from_estimator(dt, x_train, features, ax=ax, kind=\"average\")\n",
    "plt.show()"
   ]
  },
  {
   "cell_type": "markdown",
   "id": "90631b02-456d-41cc-902b-5427ee088cdd",
   "metadata": {},
   "source": [
    "# Regression Forest"
   ]
  },
  {
   "cell_type": "code",
   "execution_count": null,
   "id": "912a5f79-2e8f-424f-8a13-b7101cca9c95",
   "metadata": {},
   "outputs": [],
   "source": [
    "params_rf={\n",
    "        'n_estimators':[50,100,150,200,250,300], \n",
    "        'max_features':[2,5,10,15,20,30,40,48],  \n",
    "        'bootstrap': [True,False], # 2\n",
    "        'max_depth':[None,5,6,7,8,10,15,20,30,50], \n",
    "        'min_samples_leaf':[1,2,5,10,15,20], \n",
    "        'min_samples_split':[2,5,10,15,20] \n",
    "}"
   ]
  },
  {
   "cell_type": "code",
   "execution_count": null,
   "id": "a6523636-7bec-43fd-826b-d467abfecaa7",
   "metadata": {},
   "outputs": [],
   "source": [
    "reg_rf=RandomForestRegressor()"
   ]
  },
  {
   "cell_type": "code",
   "execution_count": null,
   "id": "e661be18-7b22-4de6-9253-7129ccbe5d46",
   "metadata": {},
   "outputs": [],
   "source": [
    "rs_rf=RandomizedSearchCV(reg_rf,\n",
    "                        cv=10,\n",
    "                        param_distributions=params_rf,\n",
    "                        scoring='neg_mean_absolute_error',\n",
    "                        n_iter=50,\n",
    "                        n_jobs=-1)"
   ]
  },
  {
   "cell_type": "code",
   "execution_count": null,
   "id": "f7ed121d-3faa-4f01-8ed8-bcf0c6a89d33",
   "metadata": {},
   "outputs": [],
   "source": [
    "rs_rf.fit(x_train,y_train)"
   ]
  },
  {
   "cell_type": "code",
   "execution_count": null,
   "id": "d41d382e-74d3-495d-8bfd-47a1ee0a08e3",
   "metadata": {},
   "outputs": [],
   "source": [
    "mt.report(rs_rf.cv_results_,5)"
   ]
  },
  {
   "cell_type": "code",
   "execution_count": null,
   "id": "cc3edb1c-8115-4f75-b30a-646e169a23bc",
   "metadata": {},
   "outputs": [],
   "source": [
    "# I am using a particular set of parameter values here which i obtained as best \n",
    "# its possible that you get some other candidates as best due to data change , random seed change etc \n",
    "# replace these with the values which you got as best\n",
    "reg_rf=RandomForestRegressor(**{'n_estimators': 200, 'min_samples_split': 15, 'min_samples_leaf': 5, 'max_features': 40, 'max_depth': 8, 'bootstrap': True})"
   ]
  },
  {
   "cell_type": "code",
   "execution_count": null,
   "id": "efab50b3-cd86-40bb-909d-558eeaa19ac9",
   "metadata": {},
   "outputs": [],
   "source": [
    "reg_rf.fit(x_train,y_train)"
   ]
  },
  {
   "cell_type": "markdown",
   "id": "ed22a3a3-fa32-4202-877f-df23f8c6c16f",
   "metadata": {},
   "source": [
    "# Feature Importance"
   ]
  },
  {
   "cell_type": "code",
   "execution_count": null,
   "id": "01262171-581e-4fe6-aca4-35e0357fc09a",
   "metadata": {},
   "outputs": [],
   "source": [
    "feat_imp_df=pd.DataFrame({'Features':x_train.columns,'Importance':reg_rf.feature_importances_})"
   ]
  },
  {
   "cell_type": "code",
   "execution_count": null,
   "id": "5fa805c6-93a0-4d28-9566-5fb03bc03445",
   "metadata": {},
   "outputs": [],
   "source": [
    "# you can use cumulative importance to discard features \n",
    "# once you have reached to a certain level of cumulative importance \n",
    "feat_imp_df.sort_values(by='Importance',ascending=False,inplace=True)\n",
    "feat_imp_df['Cum_Importance']=feat_imp_df['Importance'].cumsum()\n",
    "feat_imp_df"
   ]
  },
  {
   "cell_type": "markdown",
   "id": "e959c9de-80d1-4024-b121-78572003f90b",
   "metadata": {},
   "source": [
    "# Permutation Importance"
   ]
  },
  {
   "cell_type": "code",
   "execution_count": null,
   "id": "0764d392-a44d-4bdf-8161-73890132c47e",
   "metadata": {},
   "outputs": [],
   "source": [
    "# you can use some new datasets also for this doesnt have to be x_train,y_train\n",
    "perm_importance = permutation_importance(reg_rf, x_train, y_train, scoring='neg_mean_absolute_error', n_repeats=10, random_state=42)"
   ]
  },
  {
   "cell_type": "code",
   "execution_count": null,
   "id": "e401d530-7bac-4364-9e61-43b7549c7876",
   "metadata": {},
   "outputs": [],
   "source": [
    "# note that this is just mean change in scoring metrics and these values are not normalised by default over features \n",
    "# that we will have to do explicitly before we go ahead and look at it as cumulative importance \n",
    "perm_df = pd.DataFrame({'Feature': x_train.columns, 'Importance': perm_importance.importances_mean})\n",
    "perm_df['Importance']=perm_df['Importance']/perm_df['Importance'].sum()\n",
    "perm_df.sort_values(by=\"Importance\", ascending=False,inplace=True)\n",
    "perm_df['Cum_Importance']=perm_df['Importance'].cumsum()\n",
    "perm_df"
   ]
  },
  {
   "cell_type": "markdown",
   "id": "086229e6-ff9b-4916-86a9-cf90e1ba429c",
   "metadata": {},
   "source": [
    "# Partial Dependence Plots\n",
    "\n",
    "Note that how same dependence plots are much more smoother after we extract dependence by averaging over many trees in random forest"
   ]
  },
  {
   "cell_type": "code",
   "execution_count": null,
   "id": "737dd4a9-c5f2-4e47-8bbe-d65b5d9f3e44",
   "metadata": {},
   "outputs": [],
   "source": [
    "feature_to_plot = ['FICO.Range']  \n",
    "fig, ax = plt.subplots(figsize=(10, 6))\n",
    "PartialDependenceDisplay.from_estimator(reg_rf, x_train, feature_to_plot, ax=ax,kind='average')\n",
    "plt.show()"
   ]
  },
  {
   "cell_type": "code",
   "execution_count": null,
   "id": "d6e9fa61-ea6d-41c9-a97a-9d0deadd1b0b",
   "metadata": {},
   "outputs": [],
   "source": [
    "features = [('Amount.Requested', 'FICO.Range')] \n",
    "\n",
    "fig, ax = plt.subplots(figsize=(12, 8))\n",
    "PartialDependenceDisplay.from_estimator(rs_rf, x_train, features, ax=ax, kind=\"average\")\n",
    "plt.show()\n"
   ]
  },
  {
   "cell_type": "markdown",
   "id": "47065731-9300-444f-9b8c-b2c9b86da796",
   "metadata": {},
   "source": [
    "# Classification Data Prep"
   ]
  },
  {
   "cell_type": "code",
   "execution_count": null,
   "id": "8063e722-0589-4f35-a02c-5b2df987d579",
   "metadata": {},
   "outputs": [],
   "source": [
    "bd_train=pd.read_csv(r'./bd_train.csv')\n",
    "\n",
    "def children_to_num(col):\n",
    "    \n",
    "    num_col=col.str.replace('Zero','0')\n",
    "    num_col=num_col.str.replace('4+','4',regex=False)\n",
    "    num_col=pd.to_numeric(num_col,errors='coerce')\n",
    "    \n",
    "    return num_col\n",
    "\n",
    "def ab_to_num(col):\n",
    "    \n",
    "    col=col.str.replace('71+','71-71',regex=False)\n",
    "    k=col.str.split('-',expand=True)\n",
    "    \n",
    "    for i in [0,1]:\n",
    "        k[i]=pd.to_numeric(k[i],errors='coerce')\n",
    "        \n",
    "    num_col=0.5*(k[0]+k[1])\n",
    "    \n",
    "    return num_col\n",
    "\n",
    "def fi_to_num(col):\n",
    "    \n",
    "    col=col.replace({'<10,000, >= 8,000':9000, '>=35,000':35000, '<25,000, >=22,500':23750,\n",
    "       '<20,000, >=17,500':18750, '<12,500, >=10,000':11250, '<30,000, >=27,500':28750,\n",
    "       '<27,500, >=25,000':26250, '<17,500, >=15,000':16250, '<15,000, >=12,500':13750,\n",
    "       '<22,500, >=20,000':21250,'< 4,000': 4000, '< 8,000, >= 4,000':6000})\n",
    "    num_col=pd.to_numeric(col,errors='coerce')\n",
    "    \n",
    "    return num_col\n",
    "\n",
    "simple_numeric_cols=['year_last_moved','Average.Credit.Card.Transaction', 'Balance.Transfer',\n",
    "      'Term.Deposit', 'Life.Insurance', 'Medical.Insurance',\n",
    "      'Average.A.C.Balance', 'Personal.Loan', 'Investment.in.Mutual.Fund',\n",
    "      'Investment.Tax.Saving.Bond', 'Home.Loan', 'Online.Purchase.Amount','Investment.in.Commudity',\n",
    "      'Investment.in.Equity', 'Investment.in.Derivative',\n",
    "      'Portfolio.Balance']\n",
    "\n",
    "cat_to_dummies_cols=['status' , 'occupation' , 'occupation_partner' , 'home_status', 'self_employed',\n",
    "'self_employed_partner','TVarea','gender','region']\n",
    "\n",
    "custom_function_cols={'children':children_to_num,'age_band':ab_to_num,'family_income':fi_to_num}\n",
    "\n",
    "bd_pipe=mt.DataPipe(simple_num=simple_numeric_cols,\n",
    "                     cat_to_dummies=cat_to_dummies_cols,\n",
    "                     custom_func_dict=custom_function_cols)\n",
    "bd_pipe.fit(bd_train)\n",
    "x_train=bd_pipe.transform(bd_train)\n",
    "y_train=(bd_train['Revenue.Grid']==1).astype(int)"
   ]
  },
  {
   "cell_type": "markdown",
   "id": "959a7b15-15a8-4231-bc5d-ddc680e7d16c",
   "metadata": {},
   "source": [
    "# Decision Trees"
   ]
  },
  {
   "cell_type": "code",
   "execution_count": null,
   "id": "aa6cd5d8-0f66-43ce-a282-1cb6c6ed8841",
   "metadata": {},
   "outputs": [],
   "source": [
    "params_dt={\n",
    "    'max_depth':[None,5,10,15,20,30,50,70],\n",
    "    'min_samples_leaf':[1,2,5,10,15,20],\n",
    "    'min_samples_split':[2,5,10,15,20],\n",
    "    # these two hyper parameters are not there for regression models\n",
    "    'class_weight':[None,'balanced'],\n",
    "    'criterion':['entropy','gini']\n",
    "}"
   ]
  },
  {
   "cell_type": "code",
   "execution_count": null,
   "id": "fa3993f5-6aa5-49c9-b703-f4fe0153321a",
   "metadata": {},
   "outputs": [],
   "source": [
    "clf_dt=DecisionTreeClassifier()"
   ]
  },
  {
   "cell_type": "code",
   "execution_count": null,
   "id": "58e310b5-100b-46f3-88d3-a587d44e0709",
   "metadata": {},
   "outputs": [],
   "source": [
    "rs_dt=RandomizedSearchCV(clf_dt,\n",
    "                        cv=10,\n",
    "                        param_distributions=params_dt,\n",
    "                        scoring='roc_auc',\n",
    "                        n_iter=10,\n",
    "                        n_jobs=-1)"
   ]
  },
  {
   "cell_type": "code",
   "execution_count": null,
   "id": "d5ad8096-084e-4e1d-a891-f6a4647b61ea",
   "metadata": {},
   "outputs": [],
   "source": [
    "rs_dt.fit(x_train,y_train)"
   ]
  },
  {
   "cell_type": "code",
   "execution_count": null,
   "id": "9d73af6b-79e7-4793-bc28-9e3e4d186814",
   "metadata": {},
   "outputs": [],
   "source": [
    "mt.report(rs_dt.cv_results_,5)"
   ]
  },
  {
   "cell_type": "code",
   "execution_count": null,
   "id": "94675f8a-5535-44ce-b771-9d6ba3c95b0f",
   "metadata": {},
   "outputs": [],
   "source": [
    "# displaying the tree as figure or as text , works the same as it did for regression tree , i am not repeating this here\n",
    "# feature importance , permuation importance [scoring = roc_auc ] , partial dependence plots [predict probability] work \n",
    "# syntactically the same way as they did for regression trees \n",
    "# if you struggle please raise an issue with details\n",
    "\n",
    "# finding threshold for predicted probabilities also works the same way it did for linear models , please go back to that section\n",
    "# if you dont seem to recall\n",
    "\n",
    "# Hyperparameters for extraTree are exactly the same, just the internal working is different \n",
    "# Do add codes for extratrees here and see how performance, extracted patterns etc compare with dtrees and rfs"
   ]
  },
  {
   "cell_type": "markdown",
   "id": "10ea7f09-99a1-4cf2-9c0b-be9b581b605e",
   "metadata": {},
   "source": [
    "# Random Forest"
   ]
  },
  {
   "cell_type": "code",
   "execution_count": null,
   "id": "c7b0b564-5fb2-4745-9967-5e294d557b6c",
   "metadata": {},
   "outputs": [],
   "source": [
    "clf_rf=RandomForestClassifier()"
   ]
  },
  {
   "cell_type": "code",
   "execution_count": null,
   "id": "6d3cf675-0d58-4a3e-ab29-ede120cfcd20",
   "metadata": {},
   "outputs": [],
   "source": [
    "x_train.shape"
   ]
  },
  {
   "cell_type": "code",
   "execution_count": null,
   "id": "4b6bb0c4-ef8a-48dd-9f02-5c7a925c792c",
   "metadata": {},
   "outputs": [],
   "source": [
    "params_rf={\n",
    "    'n_estimators':[100,200,300,500,700,1000],\n",
    "    'max_features':[5,10,15,20,25,30,35,40,45,50,55,60,70], # this should not exceed number of features in the data\n",
    "    'bootstrap':[True,False],\n",
    "    'max_depth':[None,5,10,15,20,30,50,70],\n",
    "    'min_samples_leaf':[1,2,5,10,15,20],\n",
    "    'min_samples_split':[2,5,10,15,20],\n",
    "    'class_weight':[None,'balanced'],\n",
    "    'criterion':['entropy','gini']\n",
    "}"
   ]
  },
  {
   "cell_type": "code",
   "execution_count": null,
   "id": "160a1e1c-9f46-463d-a27c-f580e1d8980e",
   "metadata": {},
   "outputs": [],
   "source": [
    "rs_rf=RandomizedSearchCV(\n",
    "                        clf_rf,\n",
    "                        cv=10,\n",
    "                        param_distributions=params_rf,\n",
    "                        scoring='roc_auc',\n",
    "                        n_iter=10,\n",
    "                        n_jobs=-1\n",
    "                        )"
   ]
  },
  {
   "cell_type": "code",
   "execution_count": null,
   "id": "1fb6569d-42b3-47d5-b1f5-ba1712ab5471",
   "metadata": {},
   "outputs": [],
   "source": [
    "rs_rf.fit(x_train,y_train)"
   ]
  },
  {
   "cell_type": "code",
   "execution_count": null,
   "id": "61cf9db4-9d1c-405a-8481-831af3677fe2",
   "metadata": {},
   "outputs": [],
   "source": [
    "mt.report(rs_rf.cv_results_,5)"
   ]
  }
 ],
 "metadata": {
  "kernelspec": {
   "display_name": "Python 3 (ipykernel)",
   "language": "python",
   "name": "python3"
  },
  "language_info": {
   "codemirror_mode": {
    "name": "ipython",
    "version": 3
   },
   "file_extension": ".py",
   "mimetype": "text/x-python",
   "name": "python",
   "nbconvert_exporter": "python",
   "pygments_lexer": "ipython3",
   "version": "3.12.7"
  }
 },
 "nbformat": 4,
 "nbformat_minor": 5
}
