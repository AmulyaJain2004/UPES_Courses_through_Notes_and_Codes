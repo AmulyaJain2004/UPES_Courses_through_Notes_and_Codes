{
  "cells": [
    {
      "cell_type": "code",
      "execution_count": 1,
      "metadata": {
        "colab": {
          "base_uri": "https://localhost:8080/"
        },
        "id": "7Xhy7HR2FEmd",
        "outputId": "f67fb7dd-e3ed-4ff3-b48b-a91cdbe94f7a"
      },
      "outputs": [
        {
          "output_type": "stream",
          "name": "stdout",
          "text": [
            "Requirement already satisfied: torch in /usr/local/lib/python3.11/dist-packages (2.6.0+cu124)\n",
            "Requirement already satisfied: filelock in /usr/local/lib/python3.11/dist-packages (from torch) (3.18.0)\n",
            "Requirement already satisfied: typing-extensions>=4.10.0 in /usr/local/lib/python3.11/dist-packages (from torch) (4.12.2)\n",
            "Requirement already satisfied: networkx in /usr/local/lib/python3.11/dist-packages (from torch) (3.4.2)\n",
            "Requirement already satisfied: jinja2 in /usr/local/lib/python3.11/dist-packages (from torch) (3.1.6)\n",
            "Requirement already satisfied: fsspec in /usr/local/lib/python3.11/dist-packages (from torch) (2025.3.0)\n",
            "Requirement already satisfied: nvidia-cuda-nvrtc-cu12==12.4.127 in /usr/local/lib/python3.11/dist-packages (from torch) (12.4.127)\n",
            "Requirement already satisfied: nvidia-cuda-runtime-cu12==12.4.127 in /usr/local/lib/python3.11/dist-packages (from torch) (12.4.127)\n",
            "Requirement already satisfied: nvidia-cuda-cupti-cu12==12.4.127 in /usr/local/lib/python3.11/dist-packages (from torch) (12.4.127)\n",
            "Requirement already satisfied: nvidia-cudnn-cu12==9.1.0.70 in /usr/local/lib/python3.11/dist-packages (from torch) (9.1.0.70)\n",
            "Requirement already satisfied: nvidia-cublas-cu12==12.4.5.8 in /usr/local/lib/python3.11/dist-packages (from torch) (12.4.5.8)\n",
            "Requirement already satisfied: nvidia-cufft-cu12==11.2.1.3 in /usr/local/lib/python3.11/dist-packages (from torch) (11.2.1.3)\n",
            "Requirement already satisfied: nvidia-curand-cu12==10.3.5.147 in /usr/local/lib/python3.11/dist-packages (from torch) (10.3.5.147)\n",
            "Requirement already satisfied: nvidia-cusolver-cu12==11.6.1.9 in /usr/local/lib/python3.11/dist-packages (from torch) (11.6.1.9)\n",
            "Requirement already satisfied: nvidia-cusparse-cu12==12.3.1.170 in /usr/local/lib/python3.11/dist-packages (from torch) (12.3.1.170)\n",
            "Requirement already satisfied: nvidia-cusparselt-cu12==0.6.2 in /usr/local/lib/python3.11/dist-packages (from torch) (0.6.2)\n",
            "Requirement already satisfied: nvidia-nccl-cu12==2.21.5 in /usr/local/lib/python3.11/dist-packages (from torch) (2.21.5)\n",
            "Requirement already satisfied: nvidia-nvtx-cu12==12.4.127 in /usr/local/lib/python3.11/dist-packages (from torch) (12.4.127)\n",
            "Requirement already satisfied: nvidia-nvjitlink-cu12==12.4.127 in /usr/local/lib/python3.11/dist-packages (from torch) (12.4.127)\n",
            "Requirement already satisfied: triton==3.2.0 in /usr/local/lib/python3.11/dist-packages (from torch) (3.2.0)\n",
            "Requirement already satisfied: sympy==1.13.1 in /usr/local/lib/python3.11/dist-packages (from torch) (1.13.1)\n",
            "Requirement already satisfied: mpmath<1.4,>=1.1.0 in /usr/local/lib/python3.11/dist-packages (from sympy==1.13.1->torch) (1.3.0)\n",
            "Requirement already satisfied: MarkupSafe>=2.0 in /usr/local/lib/python3.11/dist-packages (from jinja2->torch) (3.0.2)\n"
          ]
        }
      ],
      "source": [
        "pip install torch"
      ]
    },
    {
      "cell_type": "code",
      "execution_count": 2,
      "metadata": {
        "colab": {
          "base_uri": "https://localhost:8080/"
        },
        "id": "Xgs3or8wE0bs",
        "outputId": "d15775d2-1caf-4df2-d1ff-1d200e2c0795"
      },
      "outputs": [
        {
          "output_type": "stream",
          "name": "stdout",
          "text": [
            "subs.csv            100%[===================>] 125.29M  17.5MB/s    in 7.9s    \n"
          ]
        }
      ],
      "source": [
        "!wget -q --show-progress -O subs.csv https://www.dropbox.com/scl/fi/x4k7vhf6pze0z5w333573/Subscribers.csv?rlkey=lkntddg23yktg1hdgbgt8nlcg&dl=0"
      ]
    },
    {
      "cell_type": "code",
      "execution_count": 3,
      "metadata": {
        "id": "xgJCa2bcF5mr"
      },
      "outputs": [],
      "source": [
        "import pandas as pd\n",
        "import numpy as np"
      ]
    },
    {
      "cell_type": "code",
      "execution_count": 4,
      "metadata": {
        "id": "4RMJ6KaIF-9d"
      },
      "outputs": [],
      "source": [
        "data = pd.read_csv('subs.csv')"
      ]
    },
    {
      "cell_type": "code",
      "execution_count": 5,
      "metadata": {
        "colab": {
          "base_uri": "https://localhost:8080/"
        },
        "id": "7E28dy1IGCIp",
        "outputId": "4466d6cc-854c-48ca-c099-59c3b8fb061e"
      },
      "outputs": [
        {
          "output_type": "stream",
          "name": "stdout",
          "text": [
            "<class 'pandas.core.frame.DataFrame'>\n",
            "RangeIndex: 300000 entries, 0 to 299999\n",
            "Data columns (total 51 columns):\n",
            " #   Column       Non-Null Count   Dtype  \n",
            "---  ------       --------------   -----  \n",
            " 0   V1           300000 non-null  float64\n",
            " 1   V2           300000 non-null  float64\n",
            " 2   V3           300000 non-null  float64\n",
            " 3   V4           300000 non-null  float64\n",
            " 4   V5           300000 non-null  float64\n",
            " 5   V6           300000 non-null  float64\n",
            " 6   V7           300000 non-null  float64\n",
            " 7   V8           300000 non-null  float64\n",
            " 8   V9           300000 non-null  float64\n",
            " 9   V10          300000 non-null  float64\n",
            " 10  V11          300000 non-null  float64\n",
            " 11  V12          300000 non-null  float64\n",
            " 12  V13          300000 non-null  float64\n",
            " 13  V14          300000 non-null  float64\n",
            " 14  V15          300000 non-null  float64\n",
            " 15  V16          300000 non-null  float64\n",
            " 16  V17          300000 non-null  float64\n",
            " 17  V18          300000 non-null  float64\n",
            " 18  V19          300000 non-null  float64\n",
            " 19  V20          300000 non-null  float64\n",
            " 20  V21          300000 non-null  int64  \n",
            " 21  V22          300000 non-null  float64\n",
            " 22  V23          300000 non-null  float64\n",
            " 23  V24          300000 non-null  float64\n",
            " 24  V25          300000 non-null  float64\n",
            " 25  V26          300000 non-null  float64\n",
            " 26  V27          300000 non-null  float64\n",
            " 27  V28          300000 non-null  float64\n",
            " 28  V29          300000 non-null  float64\n",
            " 29  V30          300000 non-null  float64\n",
            " 30  V31          300000 non-null  float64\n",
            " 31  V32          300000 non-null  float64\n",
            " 32  V33          300000 non-null  int64  \n",
            " 33  V34          300000 non-null  float64\n",
            " 34  V35          300000 non-null  float64\n",
            " 35  V36          300000 non-null  float64\n",
            " 36  V37          300000 non-null  float64\n",
            " 37  V38          300000 non-null  int64  \n",
            " 38  V39          300000 non-null  float64\n",
            " 39  V40          300000 non-null  float64\n",
            " 40  V41          300000 non-null  int64  \n",
            " 41  V42          300000 non-null  float64\n",
            " 42  V43          300000 non-null  float64\n",
            " 43  V44          300000 non-null  float64\n",
            " 44  V45          300000 non-null  float64\n",
            " 45  V46          300000 non-null  float64\n",
            " 46  V47          300000 non-null  float64\n",
            " 47  V48          300000 non-null  float64\n",
            " 48  V49          300000 non-null  float64\n",
            " 49  V50          300000 non-null  float64\n",
            " 50  Subscribers  300000 non-null  int64  \n",
            "dtypes: float64(46), int64(5)\n",
            "memory usage: 116.7 MB\n"
          ]
        }
      ],
      "source": [
        "data.info()"
      ]
    },
    {
      "cell_type": "code",
      "execution_count": 6,
      "metadata": {
        "id": "k8xwIdF-GEvz"
      },
      "outputs": [],
      "source": [
        "x = data.drop(columns=['Subscribers']).values\n",
        "y = data['Subscribers']"
      ]
    },
    {
      "cell_type": "code",
      "execution_count": 7,
      "metadata": {
        "id": "e2MzOnY5G27b"
      },
      "outputs": [],
      "source": [
        "from sklearn.model_selection import train_test_split\n",
        "from sklearn.preprocessing import StandardScaler"
      ]
    },
    {
      "cell_type": "code",
      "execution_count": 8,
      "metadata": {
        "id": "C9IbtQ4xHIau"
      },
      "outputs": [],
      "source": [
        "x_train, x_test, y_train, y_test = train_test_split(x,y, test_size =0.2, random_state=32)"
      ]
    },
    {
      "cell_type": "code",
      "execution_count": 9,
      "metadata": {
        "id": "4fqt5N7IHW7g"
      },
      "outputs": [],
      "source": [
        "scaler = StandardScaler()\n",
        "\n",
        "x_train_sd = scaler.fit_transform(x_train)\n",
        "x_test_sd = scaler.transform(x_test)"
      ]
    },
    {
      "cell_type": "code",
      "execution_count": 10,
      "metadata": {
        "colab": {
          "base_uri": "https://localhost:8080/",
          "height": 178
        },
        "id": "dTanrGAYHVtf",
        "outputId": "2fe2b071-4a63-4e26-fcf9-1ce665bb2f48"
      },
      "outputs": [
        {
          "output_type": "execute_result",
          "data": {
            "text/plain": [
              "Subscribers\n",
              "0    198837\n",
              "1     41163\n",
              "Name: count, dtype: int64"
            ],
            "text/html": [
              "<div>\n",
              "<style scoped>\n",
              "    .dataframe tbody tr th:only-of-type {\n",
              "        vertical-align: middle;\n",
              "    }\n",
              "\n",
              "    .dataframe tbody tr th {\n",
              "        vertical-align: top;\n",
              "    }\n",
              "\n",
              "    .dataframe thead th {\n",
              "        text-align: right;\n",
              "    }\n",
              "</style>\n",
              "<table border=\"1\" class=\"dataframe\">\n",
              "  <thead>\n",
              "    <tr style=\"text-align: right;\">\n",
              "      <th></th>\n",
              "      <th>count</th>\n",
              "    </tr>\n",
              "    <tr>\n",
              "      <th>Subscribers</th>\n",
              "      <th></th>\n",
              "    </tr>\n",
              "  </thead>\n",
              "  <tbody>\n",
              "    <tr>\n",
              "      <th>0</th>\n",
              "      <td>198837</td>\n",
              "    </tr>\n",
              "    <tr>\n",
              "      <th>1</th>\n",
              "      <td>41163</td>\n",
              "    </tr>\n",
              "  </tbody>\n",
              "</table>\n",
              "</div><br><label><b>dtype:</b> int64</label>"
            ]
          },
          "metadata": {},
          "execution_count": 10
        }
      ],
      "source": [
        "y_train.value_counts()"
      ]
    },
    {
      "cell_type": "code",
      "execution_count": 11,
      "metadata": {
        "colab": {
          "base_uri": "https://localhost:8080/"
        },
        "id": "a_FeBldKHz16",
        "outputId": "cd863631-153a-4abc-f9e4-3ad7b81ba567"
      },
      "outputs": [
        {
          "output_type": "execute_result",
          "data": {
            "text/plain": [
              "240000"
            ]
          },
          "metadata": {},
          "execution_count": 11
        }
      ],
      "source": [
        "198837 + 41163"
      ]
    },
    {
      "cell_type": "code",
      "execution_count": 12,
      "metadata": {
        "colab": {
          "base_uri": "https://localhost:8080/"
        },
        "id": "PPjTWMsFIcvU",
        "outputId": "eeb89df9-5992-450a-d580-53c98616ecc3"
      },
      "outputs": [
        {
          "output_type": "execute_result",
          "data": {
            "text/plain": [
              "0.6035094072028848"
            ]
          },
          "metadata": {},
          "execution_count": 12
        }
      ],
      "source": [
        "240000 /(2*198837)"
      ]
    },
    {
      "cell_type": "code",
      "execution_count": 13,
      "metadata": {
        "colab": {
          "base_uri": "https://localhost:8080/"
        },
        "id": "Cg9w21rTIm0W",
        "outputId": "10832955-2433-46f6-effe-04c5560b104d"
      },
      "outputs": [
        {
          "output_type": "execute_result",
          "data": {
            "text/plain": [
              "2.915239414036878"
            ]
          },
          "metadata": {},
          "execution_count": 13
        }
      ],
      "source": [
        "240000 /(2*41163)"
      ]
    },
    {
      "cell_type": "code",
      "execution_count": 14,
      "metadata": {
        "id": "YJgorSwCIs9s"
      },
      "outputs": [],
      "source": [
        "import torch"
      ]
    },
    {
      "cell_type": "code",
      "execution_count": 15,
      "metadata": {
        "id": "TzmV1Kd-JAzp"
      },
      "outputs": [],
      "source": [
        "cw = np.array([0.603, 2.915])"
      ]
    },
    {
      "cell_type": "code",
      "execution_count": 16,
      "metadata": {
        "id": "09F0T9qSI2G1"
      },
      "outputs": [],
      "source": [
        "cw_tensor = torch.tensor(cw, dtype=torch.float32)"
      ]
    },
    {
      "cell_type": "code",
      "execution_count": 17,
      "metadata": {
        "id": "7DbFy6u4JXCd"
      },
      "outputs": [],
      "source": [
        "from torch.utils.data import Dataset, DataLoader # DataLoaders helps in chunking of data i.e. random chunks of data"
      ]
    },
    {
      "cell_type": "code",
      "execution_count": 18,
      "metadata": {
        "id": "Iaa9vyNPJrgB"
      },
      "outputs": [],
      "source": [
        "# len , getitems\n",
        "\n",
        "class TabularData (Dataset):\n",
        "  def __init__(self, x,y):\n",
        "    self.x = torch.tensor(x, dtype=torch.float32)\n",
        "    self.y = torch.tensor(y.values, dtype=torch.float32)\n",
        "\n",
        "  def __len__(self):\n",
        "    return len(self.x)\n",
        "\n",
        "  def __getitem__(self, idx):\n",
        "    return self.x[idx], self.y[idx]\n",
        "\n",
        "train_ds = TabularData(x_train_sd, y_train)\n",
        "test_ds = TabularData(x_test_sd, y_test)"
      ]
    },
    {
      "cell_type": "code",
      "execution_count": 19,
      "metadata": {
        "id": "FBr_mn3OKgAx"
      },
      "outputs": [],
      "source": [
        "train_loader = DataLoader(train_ds, batch_size=10000, shuffle=True)\n",
        "test_loader = DataLoader(test_ds, batch_size=64, shuffle=False)"
      ]
    },
    {
      "cell_type": "code",
      "execution_count": 20,
      "metadata": {
        "id": "zgUs_tbkSq03"
      },
      "outputs": [],
      "source": [
        "import torch.nn as nn\n",
        "import torch.nn.functional as F"
      ]
    },
    {
      "cell_type": "code",
      "execution_count": 21,
      "metadata": {
        "id": "ulTlVyB0Ry3e"
      },
      "outputs": [],
      "source": [
        "class DeepFFN(nn.Module):\n",
        "  def __init__(self, input_dim):\n",
        "    # we could customise this further\n",
        "    # by providing the ability to have a customr number of layers and nodes\n",
        "    super(DeepFFN, self).__init__()\n",
        "    self.fc1 = nn.Linear(input_dim, 30)\n",
        "    self.bn1 = nn.BatchNorm1d(30)\n",
        "    self.dp1 = nn.Dropout(0.2)\n",
        "\n",
        "    self.fc2 = nn.Linear(30, 20)\n",
        "    self.bn2 = nn.BatchNorm1d(20)\n",
        "    self.dp2 = nn.Dropout(0.2)\n",
        "\n",
        "    self.fc3 = nn.Linear(20, 10)\n",
        "    self.bn3 = nn.BatchNorm1d(10)\n",
        "    self.dp3 = nn.Dropout(0.2)\n",
        "\n",
        "    self.out = nn.Linear(10,1)\n",
        "    self._init_wts()\n",
        "\n",
        "  def _init_wts(self):\n",
        "    for m in self.modules():\n",
        "      if isinstance(m, nn.Linear):\n",
        "        nn.init.kaiming_normal_(m.weight, nonlinearity='relu')\n",
        "        nn.init.zeros_(m.bias)\n",
        "\n",
        "\n",
        "\n",
        "  def forward(self, x):\n",
        "    x = self.dp1(self.bn1(F.relu(self.fc1(x))))\n",
        "    x = self.dp2(self.bn2(F.relu(self.fc2(x))))\n",
        "    x = self.dp3(self.bn3(F.relu(self.fc3(x))))\n",
        "\n",
        "    return self.out(x)\n"
      ]
    },
    {
      "cell_type": "code",
      "execution_count": 22,
      "metadata": {
        "colab": {
          "base_uri": "https://localhost:8080/"
        },
        "id": "xynGEXN0Tzbu",
        "outputId": "65558738-346f-47b9-e346-8222462df5fc"
      },
      "outputs": [
        {
          "output_type": "execute_result",
          "data": {
            "text/plain": [
              "True"
            ]
          },
          "metadata": {},
          "execution_count": 22
        }
      ],
      "source": [
        "torch.cuda.is_available()"
      ]
    },
    {
      "cell_type": "code",
      "execution_count": 23,
      "metadata": {
        "id": "edajVQGQSSVQ"
      },
      "outputs": [],
      "source": [
        "device=torch.device('cuda') #torch.device('cpu') if result occurs false"
      ]
    },
    {
      "cell_type": "code",
      "execution_count": 24,
      "metadata": {
        "id": "P8qLnlsbSpHb"
      },
      "outputs": [],
      "source": [
        "model=DeepFFN(input_dim=50).to(device)\n",
        "loss_fn=nn.BCEWithLogitsLoss(pos_weight=cw_tensor[1].to(device))\n",
        "optimizer=torch.optim.Adam(model.parameters(), lr=0.001)\n",
        "l1_lambda=0.01"
      ]
    },
    {
      "cell_type": "code",
      "execution_count": 25,
      "metadata": {
        "id": "pj6NeKSeafHo"
      },
      "outputs": [],
      "source": [
        "import os"
      ]
    },
    {
      "cell_type": "code",
      "execution_count": 26,
      "metadata": {
        "id": "Jcgcn1nIabDX"
      },
      "outputs": [],
      "source": [
        "def save_checkpoint(model,epoch,loss):\n",
        "  path=f'./model_outputs/saved-{epoch:02d}-{loss:.4f}.pt'\n",
        "  os.makedirs('./model_outputs', exist_ok=True)\n",
        "  torch.save(model.state_dict(), path)\n",
        "  print(f'Model saved at {path}')\n"
      ]
    },
    {
      "cell_type": "code",
      "execution_count": 27,
      "metadata": {
        "id": "FCjx3qJsdMkg"
      },
      "outputs": [],
      "source": [
        "from sklearn.metrics import roc_auc_score"
      ]
    },
    {
      "cell_type": "code",
      "execution_count": 28,
      "metadata": {
        "id": "LlwEZOWybvH0"
      },
      "outputs": [],
      "source": [
        "class AucTracker:\n",
        "  def __init__(self,x,y):\n",
        "    self.x=torch.tensor(x, dtype=torch.float32).to(device)\n",
        "    self.y=y\n",
        "    self.auc_scores=[]\n",
        "   # self.y=torch.tensor(y.values, dtype=torch.float32).to(device)\n",
        "    #self.reset()\n",
        "\n",
        "  def compute(self,model,epoch):\n",
        "    model.eval()\n",
        "\n",
        "    with torch.no_grad():\n",
        "      logits=model(self.x).squeeze().cpu().numpy()\n",
        "      probs=1/(1+np.exp(-logits))\n",
        "      auc=roc_auc_score(self.y, probs)\n",
        "      self.auc_scores.append((auc))\n",
        "      print(f'AUC on test set for epoch {epoch}:{auc:.4f}')\n",
        "     # print(f'Epoch:{epoch}, AUC:{auc}')\n",
        "auc_tracker=AucTracker(x_test_sd,y_test)"
      ]
    },
    {
      "cell_type": "code",
      "execution_count": 29,
      "metadata": {
        "id": "RsKk-7UefUOz"
      },
      "outputs": [],
      "source": [
        "class EarlyStopping:\n",
        "  def __init__(self, patience=5, min_delta=0):\n",
        "    self.patience=patience\n",
        "   # self.min_delta=min_delta\n",
        "    self.counter=0\n",
        "    self.best_loss=float('inf')\n",
        "    self.should_stop=False\n",
        "  #  self.early_stop=False\n",
        "  def step(self,loss):\n",
        "    if loss<self.best_loss:\n",
        "      self.best_loss=loss\n",
        "      self.counter=0\n",
        "    else:\n",
        "      self.counter+=1\n",
        "      if self.counter>=self.patience:\n",
        "        self.should_stop=True"
      ]
    },
    {
      "cell_type": "code",
      "execution_count": 30,
      "metadata": {
        "id": "BoJ7pECzglOG"
      },
      "outputs": [],
      "source": [
        "early_stopper=EarlyStopping(patience=5)"
      ]
    },
    {
      "cell_type": "code",
      "execution_count": 31,
      "metadata": {
        "id": "D1YrwOzQTj8-"
      },
      "outputs": [],
      "source": [
        "def train_model(model,train_loader,loss_fn,optimizer,l1_lambda,n_epochs,auc_tracker,early_stopper):\n",
        "  model.train()\n",
        "  step=0\n",
        "  for epoch in range(n_epochs):\n",
        "    epoch_loss=0.0\n",
        "    for batch_idx,(xb,yb) in enumerate(train_loader):\n",
        "      xb,yb=xb.to(device),yb.to(device).unsqueeze(1)\n",
        "      optimizer.zero_grad() #this is only resetting or forgetting pervious batch\n",
        "                              #grads\n",
        "      outputs=model(xb)\n",
        "\n",
        "      loss=loss_fn(outputs,yb)\n",
        "      l1_loss=sum(param.abs().sum() for param in model.parameters())\n",
        "      total_loss=loss+l1_lambda*l1_loss\n",
        "      total_loss.backward()  #this calculates gradients\n",
        "      optimizer.step() # this updates the wts using current grads\n",
        "      epoch_loss+=total_loss.item()\n",
        "      #\n",
        "\n",
        "      step+=1\n",
        "\n",
        "      if step%50==0:\n",
        "        pass\n",
        "        #do something\n",
        "        save_checkpoint(model,epoch+1,total_loss.item())\n",
        "\n",
        "    avg_loss=epoch_loss/len(train_loader)\n",
        "    print(f'Epoch:{epoch+1}, Avg Loss:{avg_loss}')\n",
        "    auc_tracker.compute(model,epoch+1)\n",
        "\n",
        "    early_stopper.step(avg_loss)\n",
        "\n",
        "    if early_stopper.should_stop:\n",
        "      print('Early Stopping Triggered')\n",
        "      break\n"
      ]
    },
    {
      "cell_type": "code",
      "execution_count": 32,
      "metadata": {
        "colab": {
          "base_uri": "https://localhost:8080/"
        },
        "id": "HbymGzyRhg4R",
        "outputId": "998e61b6-e371-483e-c2a7-f01caf7c2247"
      },
      "outputs": [
        {
          "output_type": "stream",
          "name": "stdout",
          "text": [
            "Epoch:1, Avg Loss:5.660636444886525\n",
            "AUC on test set for epoch 1:0.5296\n"
          ]
        },
        {
          "output_type": "stream",
          "name": "stderr",
          "text": [
            "<ipython-input-28-c54c38488fb0>:14: RuntimeWarning: overflow encountered in exp\n",
            "  probs=1/(1+np.exp(-logits))\n"
          ]
        },
        {
          "output_type": "stream",
          "name": "stdout",
          "text": [
            "Epoch:2, Avg Loss:5.053987483183543\n",
            "AUC on test set for epoch 2:0.5590\n"
          ]
        },
        {
          "output_type": "stream",
          "name": "stderr",
          "text": [
            "<ipython-input-28-c54c38488fb0>:14: RuntimeWarning: overflow encountered in exp\n",
            "  probs=1/(1+np.exp(-logits))\n"
          ]
        },
        {
          "output_type": "stream",
          "name": "stdout",
          "text": [
            "Model saved at ./model_outputs/saved-03-4.7939.pt\n",
            "Epoch:3, Avg Loss:4.597788731257121\n",
            "AUC on test set for epoch 3:0.5995\n"
          ]
        },
        {
          "output_type": "stream",
          "name": "stderr",
          "text": [
            "<ipython-input-28-c54c38488fb0>:14: RuntimeWarning: overflow encountered in exp\n",
            "  probs=1/(1+np.exp(-logits))\n"
          ]
        },
        {
          "output_type": "stream",
          "name": "stdout",
          "text": [
            "Epoch:4, Avg Loss:4.194533407688141\n",
            "AUC on test set for epoch 4:0.6245\n"
          ]
        },
        {
          "output_type": "stream",
          "name": "stderr",
          "text": [
            "<ipython-input-28-c54c38488fb0>:14: RuntimeWarning: overflow encountered in exp\n",
            "  probs=1/(1+np.exp(-logits))\n"
          ]
        },
        {
          "output_type": "stream",
          "name": "stdout",
          "text": [
            "Model saved at ./model_outputs/saved-05-3.9547.pt\n",
            "Epoch:5, Avg Loss:3.8266600171724954\n",
            "AUC on test set for epoch 5:0.6381\n",
            "Epoch:6, Avg Loss:3.492070496082306\n",
            "AUC on test set for epoch 6:0.6449\n",
            "Model saved at ./model_outputs/saved-07-3.2603.pt\n",
            "Epoch:7, Avg Loss:3.196041206518809\n",
            "AUC on test set for epoch 7:0.6492\n",
            "Epoch:8, Avg Loss:2.9347426891326904\n",
            "AUC on test set for epoch 8:0.6534\n",
            "Model saved at ./model_outputs/saved-09-2.7610.pt\n",
            "Epoch:9, Avg Loss:2.7023157874743142\n",
            "AUC on test set for epoch 9:0.6571\n",
            "Epoch:10, Avg Loss:2.495922734340032\n",
            "AUC on test set for epoch 10:0.6612\n",
            "Model saved at ./model_outputs/saved-11-2.3384.pt\n",
            "Epoch:11, Avg Loss:2.3147254586219788\n",
            "AUC on test set for epoch 11:0.6656\n",
            "Epoch:12, Avg Loss:2.1580251355965934\n",
            "AUC on test set for epoch 12:0.6700\n",
            "Model saved at ./model_outputs/saved-13-2.0213.pt\n",
            "Epoch:13, Avg Loss:2.023047889272372\n",
            "AUC on test set for epoch 13:0.6736\n",
            "Epoch:14, Avg Loss:1.9056583046913147\n",
            "AUC on test set for epoch 14:0.6779\n",
            "Model saved at ./model_outputs/saved-15-1.8016.pt\n",
            "Epoch:15, Avg Loss:1.8044707824786503\n",
            "AUC on test set for epoch 15:0.6836\n",
            "Epoch:16, Avg Loss:1.7146560748418171\n",
            "AUC on test set for epoch 16:0.6912\n",
            "Model saved at ./model_outputs/saved-17-1.6289.pt\n",
            "Epoch:17, Avg Loss:1.634438360730807\n",
            "AUC on test set for epoch 17:0.7021\n",
            "Epoch:18, Avg Loss:1.561277558406194\n",
            "AUC on test set for epoch 18:0.7156\n",
            "Model saved at ./model_outputs/saved-19-1.4783.pt\n",
            "Epoch:19, Avg Loss:1.4946610281864803\n",
            "AUC on test set for epoch 19:0.7290\n",
            "Epoch:20, Avg Loss:1.4337664991617203\n",
            "AUC on test set for epoch 20:0.7444\n",
            "Model saved at ./model_outputs/saved-21-1.3788.pt\n",
            "Epoch:21, Avg Loss:1.377192959189415\n",
            "AUC on test set for epoch 21:0.7587\n",
            "Epoch:22, Avg Loss:1.3254866749048233\n",
            "AUC on test set for epoch 22:0.7692\n",
            "Model saved at ./model_outputs/saved-23-1.2588.pt\n",
            "Epoch:23, Avg Loss:1.279489666223526\n",
            "AUC on test set for epoch 23:0.7780\n",
            "Epoch:24, Avg Loss:1.238412544131279\n",
            "AUC on test set for epoch 24:0.7817\n",
            "Model saved at ./model_outputs/saved-25-1.1924.pt\n",
            "Epoch:25, Avg Loss:1.2017084807157516\n",
            "AUC on test set for epoch 25:0.7855\n",
            "Epoch:26, Avg Loss:1.1689662486314774\n",
            "AUC on test set for epoch 26:0.7905\n",
            "Epoch:27, Avg Loss:1.1397029707829158\n",
            "AUC on test set for epoch 27:0.7935\n",
            "Model saved at ./model_outputs/saved-28-1.1093.pt\n",
            "Epoch:28, Avg Loss:1.112884595990181\n",
            "AUC on test set for epoch 28:0.7917\n",
            "Epoch:29, Avg Loss:1.0880704422791798\n",
            "AUC on test set for epoch 29:0.7943\n",
            "Model saved at ./model_outputs/saved-30-1.0773.pt\n",
            "Epoch:30, Avg Loss:1.0652553588151932\n",
            "AUC on test set for epoch 30:0.7941\n",
            "Epoch:31, Avg Loss:1.0445724825064342\n",
            "AUC on test set for epoch 31:0.7948\n",
            "Model saved at ./model_outputs/saved-32-1.0130.pt\n",
            "Epoch:32, Avg Loss:1.0252678245306015\n",
            "AUC on test set for epoch 32:0.7982\n",
            "Epoch:33, Avg Loss:1.0070858597755432\n",
            "AUC on test set for epoch 33:0.7993\n",
            "Model saved at ./model_outputs/saved-34-0.9893.pt\n",
            "Epoch:34, Avg Loss:0.9900366763273875\n",
            "AUC on test set for epoch 34:0.7976\n",
            "Epoch:35, Avg Loss:0.9731050382057825\n",
            "AUC on test set for epoch 35:0.8013\n",
            "Model saved at ./model_outputs/saved-36-0.9487.pt\n",
            "Epoch:36, Avg Loss:0.9565814683834711\n",
            "AUC on test set for epoch 36:0.8029\n",
            "Epoch:37, Avg Loss:0.9405887772639593\n",
            "AUC on test set for epoch 37:0.8023\n",
            "Model saved at ./model_outputs/saved-38-0.9283.pt\n",
            "Epoch:38, Avg Loss:0.9247561246156693\n",
            "AUC on test set for epoch 38:0.8007\n",
            "Epoch:39, Avg Loss:0.9088681414723396\n",
            "AUC on test set for epoch 39:0.8044\n",
            "Model saved at ./model_outputs/saved-40-0.8864.pt\n",
            "Epoch:40, Avg Loss:0.8941506346066793\n",
            "AUC on test set for epoch 40:0.8049\n",
            "Epoch:41, Avg Loss:0.8806202386816343\n",
            "AUC on test set for epoch 41:0.8048\n",
            "Model saved at ./model_outputs/saved-42-0.8913.pt\n",
            "Epoch:42, Avg Loss:0.8682538991173109\n",
            "AUC on test set for epoch 42:0.8056\n",
            "Epoch:43, Avg Loss:0.8567666759093603\n",
            "AUC on test set for epoch 43:0.8057\n",
            "Model saved at ./model_outputs/saved-44-0.8555.pt\n",
            "Epoch:44, Avg Loss:0.8472930019100507\n",
            "AUC on test set for epoch 44:0.8068\n",
            "Epoch:45, Avg Loss:0.8408431907494863\n",
            "AUC on test set for epoch 45:0.8080\n",
            "Model saved at ./model_outputs/saved-46-0.8173.pt\n",
            "Epoch:46, Avg Loss:0.8337079485257467\n",
            "AUC on test set for epoch 46:0.8073\n",
            "Epoch:47, Avg Loss:0.828355627755324\n",
            "AUC on test set for epoch 47:0.8071\n",
            "Model saved at ./model_outputs/saved-48-0.8244.pt\n",
            "Epoch:48, Avg Loss:0.8236261705557505\n",
            "AUC on test set for epoch 48:0.8082\n",
            "Epoch:49, Avg Loss:0.820329375565052\n",
            "AUC on test set for epoch 49:0.8084\n",
            "Model saved at ./model_outputs/saved-50-0.8509.pt\n",
            "Epoch:50, Avg Loss:0.8171372736493746\n",
            "AUC on test set for epoch 50:0.8093\n",
            "Epoch:51, Avg Loss:0.8142316540082296\n",
            "AUC on test set for epoch 51:0.8083\n",
            "Epoch:52, Avg Loss:0.8122216040889422\n",
            "AUC on test set for epoch 52:0.8090\n",
            "Model saved at ./model_outputs/saved-53-0.8165.pt\n",
            "Epoch:53, Avg Loss:0.810303640862306\n",
            "AUC on test set for epoch 53:0.8104\n",
            "Epoch:54, Avg Loss:0.8080957407752672\n",
            "AUC on test set for epoch 54:0.8095\n",
            "Model saved at ./model_outputs/saved-55-0.8154.pt\n",
            "Epoch:55, Avg Loss:0.8068344195683798\n",
            "AUC on test set for epoch 55:0.8084\n",
            "Epoch:56, Avg Loss:0.8048354585965475\n",
            "AUC on test set for epoch 56:0.8101\n",
            "Model saved at ./model_outputs/saved-57-0.8093.pt\n",
            "Epoch:57, Avg Loss:0.8034627114733061\n",
            "AUC on test set for epoch 57:0.8092\n",
            "Epoch:58, Avg Loss:0.8021113450328509\n",
            "AUC on test set for epoch 58:0.8097\n",
            "Model saved at ./model_outputs/saved-59-0.8169.pt\n",
            "Epoch:59, Avg Loss:0.8007590721050898\n",
            "AUC on test set for epoch 59:0.8095\n",
            "Epoch:60, Avg Loss:0.7996752212444941\n",
            "AUC on test set for epoch 60:0.8095\n",
            "Model saved at ./model_outputs/saved-61-0.7850.pt\n",
            "Epoch:61, Avg Loss:0.7987973193327585\n",
            "AUC on test set for epoch 61:0.8095\n",
            "Epoch:62, Avg Loss:0.7977971062064171\n",
            "AUC on test set for epoch 62:0.8085\n",
            "Model saved at ./model_outputs/saved-63-0.8008.pt\n",
            "Epoch:63, Avg Loss:0.7973040218154589\n",
            "AUC on test set for epoch 63:0.8087\n",
            "Epoch:64, Avg Loss:0.7957731833060583\n",
            "AUC on test set for epoch 64:0.8091\n",
            "Model saved at ./model_outputs/saved-65-0.7873.pt\n",
            "Epoch:65, Avg Loss:0.795034850637118\n",
            "AUC on test set for epoch 65:0.8098\n",
            "Epoch:66, Avg Loss:0.7931913211941719\n",
            "AUC on test set for epoch 66:0.8087\n",
            "Model saved at ./model_outputs/saved-67-0.7799.pt\n",
            "Epoch:67, Avg Loss:0.7924988816181818\n",
            "AUC on test set for epoch 67:0.8082\n",
            "Epoch:68, Avg Loss:0.7922304396828016\n",
            "AUC on test set for epoch 68:0.8092\n",
            "Model saved at ./model_outputs/saved-69-0.7773.pt\n",
            "Epoch:69, Avg Loss:0.7916616077224413\n",
            "AUC on test set for epoch 69:0.8096\n",
            "Epoch:70, Avg Loss:0.7910207236806551\n",
            "AUC on test set for epoch 70:0.8099\n",
            "Model saved at ./model_outputs/saved-71-0.7940.pt\n",
            "Epoch:71, Avg Loss:0.7911635935306549\n",
            "AUC on test set for epoch 71:0.8090\n",
            "Epoch:72, Avg Loss:0.7906339565912882\n",
            "AUC on test set for epoch 72:0.8094\n",
            "Model saved at ./model_outputs/saved-73-0.7803.pt\n",
            "Epoch:73, Avg Loss:0.790139451622963\n",
            "AUC on test set for epoch 73:0.8100\n",
            "Epoch:74, Avg Loss:0.7894823228319486\n",
            "AUC on test set for epoch 74:0.8095\n",
            "Model saved at ./model_outputs/saved-75-0.7850.pt\n",
            "Epoch:75, Avg Loss:0.7893996685743332\n",
            "AUC on test set for epoch 75:0.8095\n",
            "Epoch:76, Avg Loss:0.7894774650533994\n",
            "AUC on test set for epoch 76:0.8098\n",
            "Epoch:77, Avg Loss:0.7889827638864517\n",
            "AUC on test set for epoch 77:0.8106\n",
            "Model saved at ./model_outputs/saved-78-0.7955.pt\n",
            "Epoch:78, Avg Loss:0.7888912012179693\n",
            "AUC on test set for epoch 78:0.8099\n",
            "Epoch:79, Avg Loss:0.7890903949737549\n",
            "AUC on test set for epoch 79:0.8098\n",
            "Model saved at ./model_outputs/saved-80-0.7762.pt\n",
            "Epoch:80, Avg Loss:0.7887104178468386\n",
            "AUC on test set for epoch 80:0.8101\n",
            "Epoch:81, Avg Loss:0.7885149444142977\n",
            "AUC on test set for epoch 81:0.8107\n",
            "Model saved at ./model_outputs/saved-82-0.7966.pt\n",
            "Epoch:82, Avg Loss:0.7882732227444649\n",
            "AUC on test set for epoch 82:0.8099\n",
            "Epoch:83, Avg Loss:0.7891411085923513\n",
            "AUC on test set for epoch 83:0.8099\n",
            "Model saved at ./model_outputs/saved-84-0.7862.pt\n",
            "Epoch:84, Avg Loss:0.7884955257177353\n",
            "AUC on test set for epoch 84:0.8102\n",
            "Epoch:85, Avg Loss:0.7878253410259882\n",
            "AUC on test set for epoch 85:0.8101\n",
            "Model saved at ./model_outputs/saved-86-0.7858.pt\n",
            "Epoch:86, Avg Loss:0.7880238592624664\n",
            "AUC on test set for epoch 86:0.8100\n",
            "Epoch:87, Avg Loss:0.78789022564888\n",
            "AUC on test set for epoch 87:0.8108\n",
            "Model saved at ./model_outputs/saved-88-0.7916.pt\n",
            "Epoch:88, Avg Loss:0.7872091407577196\n",
            "AUC on test set for epoch 88:0.8104\n",
            "Epoch:89, Avg Loss:0.787403459350268\n",
            "AUC on test set for epoch 89:0.8100\n",
            "Model saved at ./model_outputs/saved-90-0.7731.pt\n",
            "Epoch:90, Avg Loss:0.7874453216791153\n",
            "AUC on test set for epoch 90:0.8102\n",
            "Epoch:91, Avg Loss:0.7881590103109678\n",
            "AUC on test set for epoch 91:0.8107\n",
            "Model saved at ./model_outputs/saved-92-0.7872.pt\n",
            "Epoch:92, Avg Loss:0.7877272789676985\n",
            "AUC on test set for epoch 92:0.8106\n",
            "Epoch:93, Avg Loss:0.7872845381498337\n",
            "AUC on test set for epoch 93:0.8110\n",
            "Early Stopping Triggered\n"
          ]
        }
      ],
      "source": [
        "train_model(model, train_loader,loss_fn,optimizer,\n",
        "            l1_lambda,n_epochs=200,\n",
        "            auc_tracker=auc_tracker,\n",
        "            early_stopper=early_stopper)"
      ]
    }
  ],
  "metadata": {
    "accelerator": "GPU",
    "colab": {
      "gpuType": "T4",
      "provenance": []
    },
    "kernelspec": {
      "display_name": "Python 3",
      "name": "python3"
    },
    "language_info": {
      "name": "python"
    }
  },
  "nbformat": 4,
  "nbformat_minor": 0
}