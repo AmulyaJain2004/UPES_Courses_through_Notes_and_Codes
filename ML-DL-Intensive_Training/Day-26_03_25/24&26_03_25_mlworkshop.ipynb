{
  "cells": [
    {
      "cell_type": "code",
      "execution_count": 1,
      "metadata": {
        "colab": {
          "base_uri": "https://localhost:8080/"
        },
        "id": "7Xhy7HR2FEmd",
        "outputId": "836e8729-7668-4aab-a1a6-c343c321b272"
      },
      "outputs": [
        {
          "output_type": "stream",
          "name": "stdout",
          "text": [
            "Requirement already satisfied: torch in /usr/local/lib/python3.11/dist-packages (2.6.0+cu124)\n",
            "Requirement already satisfied: filelock in /usr/local/lib/python3.11/dist-packages (from torch) (3.18.0)\n",
            "Requirement already satisfied: typing-extensions>=4.10.0 in /usr/local/lib/python3.11/dist-packages (from torch) (4.12.2)\n",
            "Requirement already satisfied: networkx in /usr/local/lib/python3.11/dist-packages (from torch) (3.4.2)\n",
            "Requirement already satisfied: jinja2 in /usr/local/lib/python3.11/dist-packages (from torch) (3.1.6)\n",
            "Requirement already satisfied: fsspec in /usr/local/lib/python3.11/dist-packages (from torch) (2025.3.0)\n",
            "Requirement already satisfied: nvidia-cuda-nvrtc-cu12==12.4.127 in /usr/local/lib/python3.11/dist-packages (from torch) (12.4.127)\n",
            "Requirement already satisfied: nvidia-cuda-runtime-cu12==12.4.127 in /usr/local/lib/python3.11/dist-packages (from torch) (12.4.127)\n",
            "Requirement already satisfied: nvidia-cuda-cupti-cu12==12.4.127 in /usr/local/lib/python3.11/dist-packages (from torch) (12.4.127)\n",
            "Requirement already satisfied: nvidia-cudnn-cu12==9.1.0.70 in /usr/local/lib/python3.11/dist-packages (from torch) (9.1.0.70)\n",
            "Requirement already satisfied: nvidia-cublas-cu12==12.4.5.8 in /usr/local/lib/python3.11/dist-packages (from torch) (12.4.5.8)\n",
            "Requirement already satisfied: nvidia-cufft-cu12==11.2.1.3 in /usr/local/lib/python3.11/dist-packages (from torch) (11.2.1.3)\n",
            "Requirement already satisfied: nvidia-curand-cu12==10.3.5.147 in /usr/local/lib/python3.11/dist-packages (from torch) (10.3.5.147)\n",
            "Requirement already satisfied: nvidia-cusolver-cu12==11.6.1.9 in /usr/local/lib/python3.11/dist-packages (from torch) (11.6.1.9)\n",
            "Requirement already satisfied: nvidia-cusparse-cu12==12.3.1.170 in /usr/local/lib/python3.11/dist-packages (from torch) (12.3.1.170)\n",
            "Requirement already satisfied: nvidia-cusparselt-cu12==0.6.2 in /usr/local/lib/python3.11/dist-packages (from torch) (0.6.2)\n",
            "Requirement already satisfied: nvidia-nccl-cu12==2.21.5 in /usr/local/lib/python3.11/dist-packages (from torch) (2.21.5)\n",
            "Requirement already satisfied: nvidia-nvtx-cu12==12.4.127 in /usr/local/lib/python3.11/dist-packages (from torch) (12.4.127)\n",
            "Requirement already satisfied: nvidia-nvjitlink-cu12==12.4.127 in /usr/local/lib/python3.11/dist-packages (from torch) (12.4.127)\n",
            "Requirement already satisfied: triton==3.2.0 in /usr/local/lib/python3.11/dist-packages (from torch) (3.2.0)\n",
            "Requirement already satisfied: sympy==1.13.1 in /usr/local/lib/python3.11/dist-packages (from torch) (1.13.1)\n",
            "Requirement already satisfied: mpmath<1.4,>=1.1.0 in /usr/local/lib/python3.11/dist-packages (from sympy==1.13.1->torch) (1.3.0)\n",
            "Requirement already satisfied: MarkupSafe>=2.0 in /usr/local/lib/python3.11/dist-packages (from jinja2->torch) (3.0.2)\n"
          ]
        }
      ],
      "source": [
        "pip install torch"
      ]
    },
    {
      "cell_type": "code",
      "execution_count": null,
      "metadata": {
        "colab": {
          "base_uri": "https://localhost:8080/"
        },
        "id": "Xgs3or8wE0bs",
        "outputId": "9fd3e49e-ce08-4176-843e-4f14b975bf56"
      },
      "outputs": [
        {
          "output_type": "stream",
          "name": "stdout",
          "text": [
            "subs.csv             82%[===============>    ] 103.77M  17.1MB/s    eta 2s     "
          ]
        }
      ],
      "source": [
        "!wget -q --show-progress -O subs.csv https://www.dropbox.com/scl/fi/x4k7vhf6pze0z5w333573/Subscribers.csv?rlkey=lkntddg23yktg1hdgbgt8nlcg&dl=0"
      ]
    },
    {
      "cell_type": "code",
      "execution_count": null,
      "metadata": {
        "id": "xgJCa2bcF5mr"
      },
      "outputs": [],
      "source": [
        "import pandas as pd\n",
        "import numpy as np"
      ]
    },
    {
      "cell_type": "code",
      "execution_count": null,
      "metadata": {
        "id": "4RMJ6KaIF-9d"
      },
      "outputs": [],
      "source": [
        "data = pd.read_csv('subs.csv')"
      ]
    },
    {
      "cell_type": "code",
      "execution_count": null,
      "metadata": {
        "id": "7E28dy1IGCIp"
      },
      "outputs": [],
      "source": [
        "data.info()"
      ]
    },
    {
      "cell_type": "code",
      "execution_count": null,
      "metadata": {
        "id": "k8xwIdF-GEvz"
      },
      "outputs": [],
      "source": [
        "x = data.drop(columns=['Subscribers']).values\n",
        "y = data['Subscribers']"
      ]
    },
    {
      "cell_type": "code",
      "execution_count": null,
      "metadata": {
        "id": "e2MzOnY5G27b"
      },
      "outputs": [],
      "source": [
        "from sklearn.model_selection import train_test_split\n",
        "from sklearn.preprocessing import StandardScaler"
      ]
    },
    {
      "cell_type": "code",
      "execution_count": null,
      "metadata": {
        "id": "C9IbtQ4xHIau"
      },
      "outputs": [],
      "source": [
        "x_train, x_test, y_train, y_test = train_test_split(x,y, test_size =0.2, random_state=32)"
      ]
    },
    {
      "cell_type": "code",
      "execution_count": null,
      "metadata": {
        "id": "4fqt5N7IHW7g"
      },
      "outputs": [],
      "source": [
        "scaler = StandardScaler()\n",
        "\n",
        "x_train_sd = scaler.fit_transform(x_train)\n",
        "x_test_sd = scaler.transform(x_test)"
      ]
    },
    {
      "cell_type": "code",
      "execution_count": null,
      "metadata": {
        "id": "dTanrGAYHVtf"
      },
      "outputs": [],
      "source": [
        "y_train.value_counts()"
      ]
    },
    {
      "cell_type": "code",
      "execution_count": null,
      "metadata": {
        "id": "a_FeBldKHz16"
      },
      "outputs": [],
      "source": [
        "198837 + 41163"
      ]
    },
    {
      "cell_type": "code",
      "execution_count": null,
      "metadata": {
        "id": "PPjTWMsFIcvU"
      },
      "outputs": [],
      "source": [
        "240000 /(2*198837)"
      ]
    },
    {
      "cell_type": "code",
      "execution_count": null,
      "metadata": {
        "id": "Cg9w21rTIm0W"
      },
      "outputs": [],
      "source": [
        "240000 /(2*41163)"
      ]
    },
    {
      "cell_type": "code",
      "execution_count": null,
      "metadata": {
        "id": "YJgorSwCIs9s"
      },
      "outputs": [],
      "source": [
        "import torch"
      ]
    },
    {
      "cell_type": "code",
      "execution_count": null,
      "metadata": {
        "id": "TzmV1Kd-JAzp"
      },
      "outputs": [],
      "source": [
        "cw = np.array([0.603, 2.915])"
      ]
    },
    {
      "cell_type": "code",
      "execution_count": null,
      "metadata": {
        "id": "09F0T9qSI2G1"
      },
      "outputs": [],
      "source": [
        "cw_tensor = torch.tensor(cw, dtype=torch.float32)"
      ]
    },
    {
      "cell_type": "code",
      "execution_count": null,
      "metadata": {
        "id": "7DbFy6u4JXCd"
      },
      "outputs": [],
      "source": [
        "from torch.utils.data import Dataset, DataLoader # DataLoaders helps in chunking of data i.e. random chunks of data"
      ]
    },
    {
      "cell_type": "code",
      "execution_count": null,
      "metadata": {
        "id": "Iaa9vyNPJrgB"
      },
      "outputs": [],
      "source": [
        "# len , getitems\n",
        "\n",
        "class TabularData (Dataset):\n",
        "  def __init__(self, x,y):\n",
        "    self.x = torch.tensor(x, dtype=torch.float32)\n",
        "    self.y = torch.tensor(y.values, dtype=torch.float32)\n",
        "\n",
        "  def __len__(self):\n",
        "    return len(self.x)\n",
        "\n",
        "  def __getitem__(self, idx):\n",
        "    return self.x[idx], self.y[idx]\n",
        "\n",
        "train_ds = TabularData(x_train_sd, y_train)\n",
        "test_ds = TabularData(x_test_sd, y_test)"
      ]
    },
    {
      "cell_type": "code",
      "execution_count": null,
      "metadata": {
        "id": "FBr_mn3OKgAx"
      },
      "outputs": [],
      "source": [
        "train_loader = DataLoader(train_ds, batch_size=10000, shuffle=True)\n",
        "test_loader = DataLoader(test_ds, batch_size=64, shuffle=False)"
      ]
    },
    {
      "cell_type": "code",
      "execution_count": null,
      "metadata": {
        "id": "zgUs_tbkSq03"
      },
      "outputs": [],
      "source": [
        "import torch.nn as nn\n",
        "import torch.nn.functional as F"
      ]
    },
    {
      "cell_type": "code",
      "execution_count": null,
      "metadata": {
        "id": "ulTlVyB0Ry3e"
      },
      "outputs": [],
      "source": [
        "class DeepFFN(nn.Module):\n",
        "  def __init__(self, input_dim):\n",
        "    # we could customise this further\n",
        "    # by providing the ability to have a customr number of layers and nodes\n",
        "    super(DeepFFN, self).__init__()\n",
        "    self.fc1 = nn.Linear(input_dim, 30)\n",
        "    self.bn1 = nn.BatchNorm1d(30)\n",
        "    self.dp1 = nn.Dropout(0.2)\n",
        "\n",
        "    self.fc2 = nn.Linear(30, 20)\n",
        "    self.bn2 = nn.BatchNorm1d(20)\n",
        "    self.dp2 = nn.Dropout(0.2)\n",
        "\n",
        "    self.fc3 = nn.Linear(20, 10)\n",
        "    self.bn3 = nn.BatchNorm1d(10)\n",
        "    self.dp3 = nn.Dropout(0.2)\n",
        "\n",
        "    self.out = nn.Linear(10,1)\n",
        "    self._init_wts()\n",
        "\n",
        "  def _init_wts(self):\n",
        "    for m in self.modules():\n",
        "      if isinstance(m, nn.Linear):\n",
        "        nn.init.kaiming_normal_(m.weight, nonlinearity='relu')\n",
        "        nn.init.zeros_(m.bias)\n",
        "\n",
        "\n",
        "\n",
        "  def forward(self, x):\n",
        "    x = self.dp1(self.bn1(F.relu(self.fc1(x))))\n",
        "    x = self.dp2(self.bn2(F.relu(self.fc2(x))))\n",
        "    x = self.dp3(self.bn3(F.relu(self.fc3(x))))\n",
        "\n",
        "    return self.out(x)\n"
      ]
    },
    {
      "cell_type": "code",
      "execution_count": null,
      "metadata": {
        "id": "xynGEXN0Tzbu"
      },
      "outputs": [],
      "source": [
        "torch.cuda.is_available()"
      ]
    },
    {
      "cell_type": "code",
      "execution_count": null,
      "metadata": {
        "id": "edajVQGQSSVQ"
      },
      "outputs": [],
      "source": [
        "device=torch.device('cuda') #torch.device('cpu') if result occurs false"
      ]
    },
    {
      "cell_type": "code",
      "execution_count": null,
      "metadata": {
        "id": "P8qLnlsbSpHb"
      },
      "outputs": [],
      "source": [
        "model=DeepFFN(input_dim=50).to(device)\n",
        "loss_fn=nn.BCEWithLogitsLoss(pos_weight=cw_tensor[1].to(device))\n",
        "optimizer=torch.optim.Adam(model.parameters(), lr=0.001)\n",
        "l1_lambda=0.01"
      ]
    },
    {
      "cell_type": "code",
      "execution_count": null,
      "metadata": {
        "id": "pj6NeKSeafHo"
      },
      "outputs": [],
      "source": [
        "import os"
      ]
    },
    {
      "cell_type": "code",
      "execution_count": null,
      "metadata": {
        "id": "Jcgcn1nIabDX"
      },
      "outputs": [],
      "source": [
        "def save_checkpoint(model,epoch,loss):\n",
        "  path=f'./model_outputs/saved-{epoch:02d}-{loss:.4f}.pt'\n",
        "  os.makedirs('./model_outputs', exist_ok=True)\n",
        "  torch.save(model.state_dict(), path)\n",
        "  print(f'Model saved at {path}')\n"
      ]
    },
    {
      "cell_type": "code",
      "execution_count": null,
      "metadata": {
        "id": "FCjx3qJsdMkg"
      },
      "outputs": [],
      "source": [
        "from sklearn.metrics import roc_auc_score"
      ]
    },
    {
      "cell_type": "code",
      "execution_count": null,
      "metadata": {
        "id": "LlwEZOWybvH0"
      },
      "outputs": [],
      "source": [
        "class AucTracker:\n",
        "  def __init__(self,x,y):\n",
        "    self.x=torch.tensor(x, dtype=torch.float32).to(device)\n",
        "    self.y=y\n",
        "    self.auc_scores=[]\n",
        "   # self.y=torch.tensor(y.values, dtype=torch.float32).to(device)\n",
        "    #self.reset()\n",
        "\n",
        "  def compute(self,model,epoch):\n",
        "    model.eval()\n",
        "\n",
        "    with torch.no_grad():\n",
        "      logits=model(self.x).squeeze().cpu().numpy()\n",
        "      probs=1/(1+np.exp(-logits))\n",
        "      auc=roc_auc_score(self.y, probs)\n",
        "      self.auc_scores.append((auc))\n",
        "      print(f'AUC on test set for epoch {epoch}:{auc:.4f}')\n",
        "     # print(f'Epoch:{epoch}, AUC:{auc}')\n",
        "auc_tracker=AucTracker(x_test_sd,y_test)"
      ]
    },
    {
      "cell_type": "code",
      "execution_count": null,
      "metadata": {
        "id": "RsKk-7UefUOz"
      },
      "outputs": [],
      "source": [
        "class EarlyStopping:\n",
        "  def __init__(self, patience=5, min_delta=0):\n",
        "    self.patience=patience\n",
        "   # self.min_delta=min_delta\n",
        "    self.counter=0\n",
        "    self.best_loss=float('inf')\n",
        "    self.should_stop=False\n",
        "  #  self.early_stop=False\n",
        "  def step(self,loss):\n",
        "    if loss<self.best_loss:\n",
        "      self.best_loss=loss\n",
        "      self.counter=0\n",
        "    else:\n",
        "      self.counter+=1\n",
        "      if self.counter>=self.patience:\n",
        "        self.should_stop=True"
      ]
    },
    {
      "cell_type": "code",
      "execution_count": null,
      "metadata": {
        "id": "BoJ7pECzglOG"
      },
      "outputs": [],
      "source": [
        "early_stopper=EarlyStopping(patience=5)"
      ]
    },
    {
      "cell_type": "code",
      "execution_count": null,
      "metadata": {
        "id": "D1YrwOzQTj8-"
      },
      "outputs": [],
      "source": [
        "def train_model(model,train_loader,loss_fn,optimizer,l1_lambda,n_epochs,auc_tracker,early_stopper):\n",
        "  model.train()\n",
        "  step=0\n",
        "  for epoch in range(n_epochs):\n",
        "    epoch_loss=0.0\n",
        "    for batch_idx,(xb,yb) in enumerate(train_loader):\n",
        "      xb,yb=xb.to(device),yb.to(device).unsqueeze(1)\n",
        "      optimizer.zero_grad() #this is only resetting or forgetting pervious batch\n",
        "                              #grads\n",
        "      outputs=model(xb)\n",
        "\n",
        "      loss=loss_fn(outputs,yb)\n",
        "      l1_loss=sum(param.abs().sum() for param in model.parameters())\n",
        "      total_loss=loss+l1_lambda*l1_loss\n",
        "      total_loss.backward()  #this calculates gradients\n",
        "      optimizer.step() # this updates the wts using current grads\n",
        "      epoch_loss+=total_loss.item()\n",
        "      #\n",
        "\n",
        "      step+=1\n",
        "\n",
        "      if step%50==0:\n",
        "        pass\n",
        "        #do something\n",
        "        save_checkpoint(model,epoch+1,total_loss.item())\n",
        "\n",
        "    avg_loss=epoch_loss/len(train_loader)\n",
        "    print(f'Epoch:{epoch+1}, Avg Loss:{avg_loss}')\n",
        "    auc_tracker.compute(model,epoch+1)\n",
        "\n",
        "    early_stopper.step(avg_loss)\n",
        "\n",
        "    if early_stopper.should_stop:\n",
        "      print('Early Stopping Triggered')\n",
        "      break\n"
      ]
    },
    {
      "cell_type": "code",
      "execution_count": null,
      "metadata": {
        "id": "HbymGzyRhg4R"
      },
      "outputs": [],
      "source": [
        "train_model(model, train_loader,loss_fn,optimizer,\n",
        "            l1_lambda,n_epochs=200,\n",
        "            auc_tracker=auc_tracker,\n",
        "            early_stopper=early_stopper)"
      ]
    },
    {
      "cell_type": "code",
      "execution_count": null,
      "metadata": {
        "id": "K5GvNxS8iQQX"
      },
      "outputs": [],
      "source": []
    }
  ],
  "metadata": {
    "accelerator": "GPU",
    "colab": {
      "gpuType": "T4",
      "provenance": []
    },
    "kernelspec": {
      "display_name": "Python 3",
      "name": "python3"
    },
    "language_info": {
      "name": "python"
    }
  },
  "nbformat": 4,
  "nbformat_minor": 0
}