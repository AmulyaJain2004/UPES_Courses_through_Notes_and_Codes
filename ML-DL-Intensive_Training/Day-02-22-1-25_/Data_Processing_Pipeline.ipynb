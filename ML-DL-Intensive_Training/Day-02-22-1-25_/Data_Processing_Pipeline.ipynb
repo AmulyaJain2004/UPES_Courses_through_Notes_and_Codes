{
 "cells": [
  {
   "cell_type": "code",
   "execution_count": 1,
   "metadata": {},
   "outputs": [],
   "source": [
    "import pandas as pd "
   ]
  },
  {
   "cell_type": "code",
   "execution_count": 2,
   "metadata": {},
   "outputs": [],
   "source": [
    "ld_train = pd.read_csv('loan_data_train.csv')"
   ]
  },
  {
   "cell_type": "code",
   "execution_count": 3,
   "metadata": {},
   "outputs": [
    {
     "data": {
      "text/html": [
       "<div>\n",
       "<style scoped>\n",
       "    .dataframe tbody tr th:only-of-type {\n",
       "        vertical-align: middle;\n",
       "    }\n",
       "\n",
       "    .dataframe tbody tr th {\n",
       "        vertical-align: top;\n",
       "    }\n",
       "\n",
       "    .dataframe thead th {\n",
       "        text-align: right;\n",
       "    }\n",
       "</style>\n",
       "<table border=\"1\" class=\"dataframe\">\n",
       "  <thead>\n",
       "    <tr style=\"text-align: right;\">\n",
       "      <th></th>\n",
       "      <th>ID</th>\n",
       "      <th>Amount.Requested</th>\n",
       "      <th>Amount.Funded.By.Investors</th>\n",
       "      <th>Interest.Rate</th>\n",
       "      <th>Loan.Length</th>\n",
       "      <th>Loan.Purpose</th>\n",
       "      <th>Debt.To.Income.Ratio</th>\n",
       "      <th>State</th>\n",
       "      <th>Home.Ownership</th>\n",
       "      <th>Monthly.Income</th>\n",
       "      <th>FICO.Range</th>\n",
       "      <th>Open.CREDIT.Lines</th>\n",
       "      <th>Revolving.CREDIT.Balance</th>\n",
       "      <th>Inquiries.in.the.Last.6.Months</th>\n",
       "      <th>Employment.Length</th>\n",
       "    </tr>\n",
       "  </thead>\n",
       "  <tbody>\n",
       "    <tr>\n",
       "      <th>0</th>\n",
       "      <td>79542.0</td>\n",
       "      <td>25000</td>\n",
       "      <td>25000</td>\n",
       "      <td>18.49%</td>\n",
       "      <td>60 months</td>\n",
       "      <td>debt_consolidation</td>\n",
       "      <td>27.56%</td>\n",
       "      <td>VA</td>\n",
       "      <td>MORTGAGE</td>\n",
       "      <td>8606.56</td>\n",
       "      <td>720-724</td>\n",
       "      <td>11</td>\n",
       "      <td>15210</td>\n",
       "      <td>3.0</td>\n",
       "      <td>5 years</td>\n",
       "    </tr>\n",
       "    <tr>\n",
       "      <th>1</th>\n",
       "      <td>75473.0</td>\n",
       "      <td>19750</td>\n",
       "      <td>19750</td>\n",
       "      <td>17.27%</td>\n",
       "      <td>60 months</td>\n",
       "      <td>debt_consolidation</td>\n",
       "      <td>13.39%</td>\n",
       "      <td>NY</td>\n",
       "      <td>MORTGAGE</td>\n",
       "      <td>6737.50</td>\n",
       "      <td>710-714</td>\n",
       "      <td>14</td>\n",
       "      <td>19070</td>\n",
       "      <td>3.0</td>\n",
       "      <td>4 years</td>\n",
       "    </tr>\n",
       "    <tr>\n",
       "      <th>2</th>\n",
       "      <td>67265.0</td>\n",
       "      <td>2100</td>\n",
       "      <td>2100</td>\n",
       "      <td>14.33%</td>\n",
       "      <td>36 months</td>\n",
       "      <td>major_purchase</td>\n",
       "      <td>3.50%</td>\n",
       "      <td>LA</td>\n",
       "      <td>OWN</td>\n",
       "      <td>1000.00</td>\n",
       "      <td>690-694</td>\n",
       "      <td>13</td>\n",
       "      <td>893</td>\n",
       "      <td>1.0</td>\n",
       "      <td>&lt; 1 year</td>\n",
       "    </tr>\n",
       "    <tr>\n",
       "      <th>3</th>\n",
       "      <td>80167.0</td>\n",
       "      <td>28000</td>\n",
       "      <td>28000</td>\n",
       "      <td>16.29%</td>\n",
       "      <td>36 months</td>\n",
       "      <td>credit_card</td>\n",
       "      <td>19.62%</td>\n",
       "      <td>NV</td>\n",
       "      <td>MORTGAGE</td>\n",
       "      <td>7083.33</td>\n",
       "      <td>710-714</td>\n",
       "      <td>12</td>\n",
       "      <td>38194</td>\n",
       "      <td>1.0</td>\n",
       "      <td>10+ years</td>\n",
       "    </tr>\n",
       "    <tr>\n",
       "      <th>4</th>\n",
       "      <td>17240.0</td>\n",
       "      <td>24250</td>\n",
       "      <td>17431.82</td>\n",
       "      <td>12.23%</td>\n",
       "      <td>60 months</td>\n",
       "      <td>credit_card</td>\n",
       "      <td>23.79%</td>\n",
       "      <td>OH</td>\n",
       "      <td>MORTGAGE</td>\n",
       "      <td>5833.33</td>\n",
       "      <td>730-734</td>\n",
       "      <td>6</td>\n",
       "      <td>31061</td>\n",
       "      <td>2.0</td>\n",
       "      <td>10+ years</td>\n",
       "    </tr>\n",
       "    <tr>\n",
       "      <th>...</th>\n",
       "      <td>...</td>\n",
       "      <td>...</td>\n",
       "      <td>...</td>\n",
       "      <td>...</td>\n",
       "      <td>...</td>\n",
       "      <td>...</td>\n",
       "      <td>...</td>\n",
       "      <td>...</td>\n",
       "      <td>...</td>\n",
       "      <td>...</td>\n",
       "      <td>...</td>\n",
       "      <td>...</td>\n",
       "      <td>...</td>\n",
       "      <td>...</td>\n",
       "      <td>...</td>\n",
       "    </tr>\n",
       "    <tr>\n",
       "      <th>2195</th>\n",
       "      <td>74047.0</td>\n",
       "      <td>30000</td>\n",
       "      <td>30000</td>\n",
       "      <td>23.28%</td>\n",
       "      <td>60 months</td>\n",
       "      <td>other</td>\n",
       "      <td>12.10%</td>\n",
       "      <td>IL</td>\n",
       "      <td>MORTGAGE</td>\n",
       "      <td>7083.33</td>\n",
       "      <td>675-679</td>\n",
       "      <td>16</td>\n",
       "      <td>17969</td>\n",
       "      <td>1.0</td>\n",
       "      <td>10+ years</td>\n",
       "    </tr>\n",
       "    <tr>\n",
       "      <th>2196</th>\n",
       "      <td>63768.0</td>\n",
       "      <td>4200</td>\n",
       "      <td>4200</td>\n",
       "      <td>14.33%</td>\n",
       "      <td>60 months</td>\n",
       "      <td>car</td>\n",
       "      <td>14.16%</td>\n",
       "      <td>NJ</td>\n",
       "      <td>RENT</td>\n",
       "      <td>3850.00</td>\n",
       "      <td>700-704</td>\n",
       "      <td>4</td>\n",
       "      <td>5718</td>\n",
       "      <td>0.0</td>\n",
       "      <td>2 years</td>\n",
       "    </tr>\n",
       "    <tr>\n",
       "      <th>2197</th>\n",
       "      <td>94545.0</td>\n",
       "      <td>19800</td>\n",
       "      <td>19775</td>\n",
       "      <td>15.31%</td>\n",
       "      <td>60 months</td>\n",
       "      <td>debt_consolidation</td>\n",
       "      <td>15.03%</td>\n",
       "      <td>IL</td>\n",
       "      <td>MORTGAGE</td>\n",
       "      <td>6666.67</td>\n",
       "      <td>675-679</td>\n",
       "      <td>10</td>\n",
       "      <td>46879</td>\n",
       "      <td>3.0</td>\n",
       "      <td>6 years</td>\n",
       "    </tr>\n",
       "    <tr>\n",
       "      <th>2198</th>\n",
       "      <td>53635.0</td>\n",
       "      <td>18000</td>\n",
       "      <td>18000</td>\n",
       "      <td>20.99%</td>\n",
       "      <td>60 months</td>\n",
       "      <td>credit_card</td>\n",
       "      <td>11.63%</td>\n",
       "      <td>CA</td>\n",
       "      <td>RENT</td>\n",
       "      <td>9051.83</td>\n",
       "      <td>670-674</td>\n",
       "      <td>5</td>\n",
       "      <td>32394</td>\n",
       "      <td>2.0</td>\n",
       "      <td>4 years</td>\n",
       "    </tr>\n",
       "    <tr>\n",
       "      <th>2199</th>\n",
       "      <td>67953.0</td>\n",
       "      <td>7550</td>\n",
       "      <td>7550</td>\n",
       "      <td>10.16%</td>\n",
       "      <td>36 months</td>\n",
       "      <td>debt_consolidation</td>\n",
       "      <td>3.83%</td>\n",
       "      <td>CA</td>\n",
       "      <td>MORTGAGE</td>\n",
       "      <td>8333.33</td>\n",
       "      <td>710-714</td>\n",
       "      <td>10</td>\n",
       "      <td>10204</td>\n",
       "      <td>0.0</td>\n",
       "      <td>2 years</td>\n",
       "    </tr>\n",
       "  </tbody>\n",
       "</table>\n",
       "<p>2200 rows × 15 columns</p>\n",
       "</div>"
      ],
      "text/plain": [
       "           ID Amount.Requested Amount.Funded.By.Investors Interest.Rate  \\\n",
       "0     79542.0            25000                      25000        18.49%   \n",
       "1     75473.0            19750                      19750        17.27%   \n",
       "2     67265.0             2100                       2100        14.33%   \n",
       "3     80167.0            28000                      28000        16.29%   \n",
       "4     17240.0            24250                   17431.82        12.23%   \n",
       "...       ...              ...                        ...           ...   \n",
       "2195  74047.0            30000                      30000        23.28%   \n",
       "2196  63768.0             4200                       4200        14.33%   \n",
       "2197  94545.0            19800                      19775        15.31%   \n",
       "2198  53635.0            18000                      18000        20.99%   \n",
       "2199  67953.0             7550                       7550        10.16%   \n",
       "\n",
       "     Loan.Length        Loan.Purpose Debt.To.Income.Ratio State  \\\n",
       "0      60 months  debt_consolidation               27.56%    VA   \n",
       "1      60 months  debt_consolidation               13.39%    NY   \n",
       "2      36 months      major_purchase                3.50%    LA   \n",
       "3      36 months         credit_card               19.62%    NV   \n",
       "4      60 months         credit_card               23.79%    OH   \n",
       "...          ...                 ...                  ...   ...   \n",
       "2195   60 months               other               12.10%    IL   \n",
       "2196   60 months                 car               14.16%    NJ   \n",
       "2197   60 months  debt_consolidation               15.03%    IL   \n",
       "2198   60 months         credit_card               11.63%    CA   \n",
       "2199   36 months  debt_consolidation                3.83%    CA   \n",
       "\n",
       "     Home.Ownership  Monthly.Income FICO.Range Open.CREDIT.Lines  \\\n",
       "0          MORTGAGE         8606.56    720-724                11   \n",
       "1          MORTGAGE         6737.50    710-714                14   \n",
       "2               OWN         1000.00    690-694                13   \n",
       "3          MORTGAGE         7083.33    710-714                12   \n",
       "4          MORTGAGE         5833.33    730-734                 6   \n",
       "...             ...             ...        ...               ...   \n",
       "2195       MORTGAGE         7083.33    675-679                16   \n",
       "2196           RENT         3850.00    700-704                 4   \n",
       "2197       MORTGAGE         6666.67    675-679                10   \n",
       "2198           RENT         9051.83    670-674                 5   \n",
       "2199       MORTGAGE         8333.33    710-714                10   \n",
       "\n",
       "     Revolving.CREDIT.Balance  Inquiries.in.the.Last.6.Months  \\\n",
       "0                       15210                             3.0   \n",
       "1                       19070                             3.0   \n",
       "2                         893                             1.0   \n",
       "3                       38194                             1.0   \n",
       "4                       31061                             2.0   \n",
       "...                       ...                             ...   \n",
       "2195                    17969                             1.0   \n",
       "2196                     5718                             0.0   \n",
       "2197                    46879                             3.0   \n",
       "2198                    32394                             2.0   \n",
       "2199                    10204                             0.0   \n",
       "\n",
       "     Employment.Length  \n",
       "0              5 years  \n",
       "1              4 years  \n",
       "2             < 1 year  \n",
       "3            10+ years  \n",
       "4            10+ years  \n",
       "...                ...  \n",
       "2195         10+ years  \n",
       "2196           2 years  \n",
       "2197           6 years  \n",
       "2198           4 years  \n",
       "2199           2 years  \n",
       "\n",
       "[2200 rows x 15 columns]"
      ]
     },
     "execution_count": 3,
     "metadata": {},
     "output_type": "execute_result"
    }
   ],
   "source": [
    "ld_train"
   ]
  },
  {
   "cell_type": "code",
   "execution_count": 4,
   "metadata": {},
   "outputs": [
    {
     "name": "stdout",
     "output_type": "stream",
     "text": [
      "<class 'pandas.core.frame.DataFrame'>\n",
      "RangeIndex: 2200 entries, 0 to 2199\n",
      "Data columns (total 15 columns):\n",
      " #   Column                          Non-Null Count  Dtype  \n",
      "---  ------                          --------------  -----  \n",
      " 0   ID                              2199 non-null   float64\n",
      " 1   Amount.Requested                2199 non-null   object \n",
      " 2   Amount.Funded.By.Investors      2199 non-null   object \n",
      " 3   Interest.Rate                   2200 non-null   object \n",
      " 4   Loan.Length                     2199 non-null   object \n",
      " 5   Loan.Purpose                    2199 non-null   object \n",
      " 6   Debt.To.Income.Ratio            2199 non-null   object \n",
      " 7   State                           2199 non-null   object \n",
      " 8   Home.Ownership                  2199 non-null   object \n",
      " 9   Monthly.Income                  2197 non-null   float64\n",
      " 10  FICO.Range                      2200 non-null   object \n",
      " 11  Open.CREDIT.Lines               2196 non-null   object \n",
      " 12  Revolving.CREDIT.Balance        2197 non-null   object \n",
      " 13  Inquiries.in.the.Last.6.Months  2197 non-null   float64\n",
      " 14  Employment.Length               2131 non-null   object \n",
      "dtypes: float64(3), object(12)\n",
      "memory usage: 257.9+ KB\n"
     ]
    }
   ],
   "source": [
    "ld_train.info()"
   ]
  },
  {
   "cell_type": "code",
   "execution_count": 5,
   "metadata": {},
   "outputs": [],
   "source": [
    "### Insights and Data Cleaning and Processing\n",
    "## We need to ignore ID as it is not useful for prediction\n",
    "# Amount.Requested                 \n",
    "#Amount.Funded.By.Investors typecasting\n",
    "# Interest.Rate object to float + remove % sign custom function \n",
    "\n",
    "# Loan.Length                     \n",
    "# Loan.Purpose category encoding\n",
    "\n",
    "# Debt.To.Income.Ratio object to float + remove % sign custom function\n",
    "# State and Home.Ownership category encoding\n"
   ]
  },
  {
   "cell_type": "code",
   "execution_count": 6,
   "metadata": {},
   "outputs": [],
   "source": [
    "#ignore columns : ID [unique ID] , Interest.Rate[target]\n",
    "\n",
    "###info : numeric ; data type : object ; typecasting\n",
    "\n",
    "#Account.Requested\n",
    "#Amount.Funded.By.Investors\n",
    "#Revolving.CREDIT.Balance\n",
    "#Open.CREDIT.Lines\n",
    "\n",
    "### info : categorical , create dummies for it\n",
    "\n",
    "#Loan.Length\n",
    "#Loan.Purpose\n",
    "#State\n",
    "#Home.Ownership\n",
    "\n",
    "###info : numeric , datatype : categorical , custom function\n",
    "\n",
    "#Debt.To.Income.Ratio\n",
    "#FICO.Range\n",
    "#Employment.Length\n",
    "\n",
    "### info : numeric , data type : numeric\n",
    "\n",
    "#Montly.Income\n",
    "\n",
    "#Inquiries.in.the.Last.6.Months"
   ]
  },
  {
   "cell_type": "code",
   "execution_count": 7,
   "metadata": {},
   "outputs": [
    {
     "data": {
      "text/plain": [
       "Loan.Length\n",
       "36 months    1722\n",
       "60 months     476\n",
       "NaN             1\n",
       ".               1\n",
       "Name: count, dtype: int64"
      ]
     },
     "execution_count": 7,
     "metadata": {},
     "output_type": "execute_result"
    }
   ],
   "source": [
    "ld_train['Loan.Length'].value_counts(dropna=False)"
   ]
  },
  {
   "cell_type": "code",
   "execution_count": 8,
   "metadata": {},
   "outputs": [
    {
     "data": {
      "text/plain": [
       "Loan.Purpose\n",
       "debt_consolidation    1147\n",
       "credit_card            394\n",
       "other                  174\n",
       "home_improvement       135\n",
       "major_purchase          84\n",
       "small_business          80\n",
       "car                     45\n",
       "wedding                 35\n",
       "medical                 26\n",
       "moving                  25\n",
       "house                   19\n",
       "vacation                18\n",
       "educational             14\n",
       "renewable_energy         3\n",
       "NaN                      1\n",
       "Name: count, dtype: int64"
      ]
     },
     "execution_count": 8,
     "metadata": {},
     "output_type": "execute_result"
    }
   ],
   "source": [
    "ld_train['Loan.Purpose'].value_counts(dropna=False)"
   ]
  },
  {
   "cell_type": "code",
   "execution_count": 9,
   "metadata": {},
   "outputs": [],
   "source": [
    "custom_func_cols = {}"
   ]
  },
  {
   "cell_type": "code",
   "execution_count": 10,
   "metadata": {},
   "outputs": [],
   "source": [
    "a = ld_train['Debt.To.Income.Ratio']"
   ]
  },
  {
   "cell_type": "code",
   "execution_count": 11,
   "metadata": {},
   "outputs": [],
   "source": [
    "temp = a.str.replace('%','')"
   ]
  },
  {
   "cell_type": "code",
   "execution_count": 12,
   "metadata": {},
   "outputs": [],
   "source": [
    "num = pd.to_numeric(temp, errors='coerce')"
   ]
  },
  {
   "cell_type": "code",
   "execution_count": 13,
   "metadata": {},
   "outputs": [
    {
     "data": {
      "text/plain": [
       "0       27.56\n",
       "1       13.39\n",
       "2        3.50\n",
       "3       19.62\n",
       "4       23.79\n",
       "        ...  \n",
       "2195    12.10\n",
       "2196    14.16\n",
       "2197    15.03\n",
       "2198    11.63\n",
       "2199     3.83\n",
       "Name: Debt.To.Income.Ratio, Length: 2200, dtype: float64"
      ]
     },
     "execution_count": 13,
     "metadata": {},
     "output_type": "execute_result"
    }
   ],
   "source": [
    "num"
   ]
  },
  {
   "cell_type": "code",
   "execution_count": 14,
   "metadata": {},
   "outputs": [],
   "source": [
    "# b = pd.Series(['1', '2', 'DSKJF'])\n",
    "# pd.to_numeric(b)\n",
    "# ## why coerce is important to use"
   ]
  },
  {
   "cell_type": "code",
   "execution_count": 15,
   "metadata": {},
   "outputs": [],
   "source": [
    "def custom_dir(dir_col):\n",
    "    temp = dir_col.str.replace('%','')\n",
    "    num = pd.to_numeric(temp, errors='coerce')\n",
    "    \n",
    "    return num\n"
   ]
  },
  {
   "cell_type": "code",
   "execution_count": 16,
   "metadata": {},
   "outputs": [
    {
     "data": {
      "text/plain": [
       "0       27.56\n",
       "1       13.39\n",
       "2        3.50\n",
       "3       19.62\n",
       "4       23.79\n",
       "        ...  \n",
       "2195    12.10\n",
       "2196    14.16\n",
       "2197    15.03\n",
       "2198    11.63\n",
       "2199     3.83\n",
       "Name: Debt.To.Income.Ratio, Length: 2200, dtype: float64"
      ]
     },
     "execution_count": 16,
     "metadata": {},
     "output_type": "execute_result"
    }
   ],
   "source": [
    "custom_dir(ld_train['Debt.To.Income.Ratio'])"
   ]
  },
  {
   "cell_type": "code",
   "execution_count": 17,
   "metadata": {},
   "outputs": [],
   "source": [
    "a = ld_train['FICO.Range']"
   ]
  },
  {
   "cell_type": "code",
   "execution_count": 18,
   "metadata": {},
   "outputs": [
    {
     "data": {
      "text/plain": [
       "0       [720, 724]\n",
       "1       [710, 714]\n",
       "2       [690, 694]\n",
       "3       [710, 714]\n",
       "4       [730, 734]\n",
       "           ...    \n",
       "2195    [675, 679]\n",
       "2196    [700, 704]\n",
       "2197    [675, 679]\n",
       "2198    [670, 674]\n",
       "2199    [710, 714]\n",
       "Name: FICO.Range, Length: 2200, dtype: object"
      ]
     },
     "execution_count": 18,
     "metadata": {},
     "output_type": "execute_result"
    }
   ],
   "source": [
    "a.str.split('-')"
   ]
  },
  {
   "cell_type": "code",
   "execution_count": 19,
   "metadata": {},
   "outputs": [],
   "source": [
    "k=a.str.split('-', expand=True)"
   ]
  },
  {
   "cell_type": "code",
   "execution_count": 20,
   "metadata": {},
   "outputs": [],
   "source": [
    "for i in [0,1]:\n",
    "    k[i] = pd.to_numeric(k[i], errors='coerce')"
   ]
  },
  {
   "cell_type": "code",
   "execution_count": 21,
   "metadata": {},
   "outputs": [],
   "source": [
    "num = (k[0] + k[1])*0.5"
   ]
  },
  {
   "cell_type": "code",
   "execution_count": 22,
   "metadata": {},
   "outputs": [
    {
     "data": {
      "text/plain": [
       "0       722.0\n",
       "1       712.0\n",
       "2       692.0\n",
       "3       712.0\n",
       "4       732.0\n",
       "        ...  \n",
       "2195    677.0\n",
       "2196    702.0\n",
       "2197    677.0\n",
       "2198    672.0\n",
       "2199    712.0\n",
       "Length: 2200, dtype: float64"
      ]
     },
     "execution_count": 22,
     "metadata": {},
     "output_type": "execute_result"
    }
   ],
   "source": [
    "num"
   ]
  },
  {
   "cell_type": "code",
   "execution_count": 23,
   "metadata": {},
   "outputs": [],
   "source": [
    "def custom_fico (fico_col):\n",
    "    temp = fico_col.str.split('-', expand=True)\n",
    "    for i in [0,1]:\n",
    "        temp[i] = pd.to_numeric(temp[i], errors='coerce')\n",
    "    num = (k[0] + k[1])*0.5\n",
    "    return num"
   ]
  },
  {
   "cell_type": "code",
   "execution_count": 24,
   "metadata": {},
   "outputs": [],
   "source": [
    "a = ld_train['Employment.Length']"
   ]
  },
  {
   "cell_type": "code",
   "execution_count": 25,
   "metadata": {},
   "outputs": [
    {
     "data": {
      "text/plain": [
       "array(['5 years', '4 years', '< 1 year', '10+ years', nan, '2 years',\n",
       "       '8 years', '1 year', '6 years', '7 years', '3 years', '9 years',\n",
       "       '.'], dtype=object)"
      ]
     },
     "execution_count": 25,
     "metadata": {},
     "output_type": "execute_result"
    }
   ],
   "source": [
    "a.unique()"
   ]
  },
  {
   "cell_type": "code",
   "execution_count": 26,
   "metadata": {},
   "outputs": [
    {
     "data": {
      "text/plain": [
       "0        5\n",
       "1        4\n",
       "2        0\n",
       "3       10\n",
       "4       10\n",
       "        ..\n",
       "2195    10\n",
       "2196     2\n",
       "2197     6\n",
       "2198     4\n",
       "2199     2\n",
       "Name: Employment.Length, Length: 2200, dtype: object"
      ]
     },
     "execution_count": 26,
     "metadata": {},
     "output_type": "execute_result"
    }
   ],
   "source": [
    "a.replace({'5 years': 5, '4 years': 4, '< 1 year': 0, '10+ years':10, '2 years': 2,\n",
    "       '8 years': 8, '1 year': 1, '6 years':6, '7 years':7, '3 years':3, '9 years':9})"
   ]
  },
  {
   "cell_type": "code",
   "execution_count": 27,
   "metadata": {},
   "outputs": [],
   "source": [
    "def custom_el (el_col):\n",
    "    temp = el_col.replace({'5 years': 5, '4 years': 4, '< 1 year': 0, '10+ years':10, '2 years': 2,\n",
    "       '8 years': 8, '1 year': 1, '6 years':6, '7 years':7, '3 years':3, '9 years':9})\n",
    "    num = pd.to_numeric(temp, errors='coerce')\n",
    "    return num"
   ]
  },
  {
   "cell_type": "code",
   "execution_count": 28,
   "metadata": {},
   "outputs": [
    {
     "data": {
      "text/plain": [
       "0        5.0\n",
       "1        4.0\n",
       "2        0.0\n",
       "3       10.0\n",
       "4       10.0\n",
       "        ... \n",
       "2195    10.0\n",
       "2196     2.0\n",
       "2197     6.0\n",
       "2198     4.0\n",
       "2199     2.0\n",
       "Name: Employment.Length, Length: 2200, dtype: float64"
      ]
     },
     "execution_count": 28,
     "metadata": {},
     "output_type": "execute_result"
    }
   ],
   "source": [
    "custom_el(ld_train['Employment.Length'])"
   ]
  },
  {
   "cell_type": "code",
   "execution_count": 29,
   "metadata": {},
   "outputs": [],
   "source": [
    "cat_to_num_cols = ['Amount.Requested','Amount.Funded.By.Investors','Revolving.CREDIT.Balance', 'Open.CREDIT.Lines']"
   ]
  },
  {
   "cell_type": "code",
   "execution_count": 30,
   "metadata": {},
   "outputs": [],
   "source": [
    "simple_num_cols = ['Montly.Income','Inquiries.in.the.Last.6.Months']\n",
    "cat_to_dummies_cols = ['Loan.Length','Loan.Purpose','State','Home.Ownership']"
   ]
  },
  {
   "cell_type": "code",
   "execution_count": 31,
   "metadata": {},
   "outputs": [],
   "source": [
    "## first find these group of columns\n",
    "## form a dictionary of these columns\n",
    "## then apply the custom function to these columns"
   ]
  },
  {
   "cell_type": "code",
   "execution_count": 32,
   "metadata": {},
   "outputs": [],
   "source": [
    "custom_func_cols = {'Debt.To.Income.Ratio': custom_dir, 'FICO.Range': custom_fico, 'Employment.Length': custom_el}"
   ]
  },
  {
   "cell_type": "code",
   "execution_count": 33,
   "metadata": {},
   "outputs": [],
   "source": [
    "import ml_utils as mt"
   ]
  },
  {
   "cell_type": "code",
   "execution_count": 34,
   "metadata": {},
   "outputs": [],
   "source": [
    "# ld_pipe=mt.DataPipe(simple_num=simple_num_cols,\n",
    "#                      cat_to_dummies=cat_to_dummies_cols,\n",
    "#                      custom_func_dict=custom_func_cols)"
   ]
  },
  {
   "cell_type": "code",
   "execution_count": 35,
   "metadata": {},
   "outputs": [],
   "source": [
    "# cat_to_num_cols = ['Amount.Requested', 'Amount.Funded.By.Investors',\n",
    "#                    'Open.CREDIT.Lines', 'Revolving.CREDIT.Balance']\n",
    "\n",
    "# simple_num_cols = ['Monthly.Income', 'Inquiries.in.the.Last.6.Months']\n",
    "\n",
    "# cat_to_dummies_cols = ['Loan.Length', 'Loan.Purpose', 'State', 'Home.Ownership']"
   ]
  },
  {
   "cell_type": "code",
   "execution_count": 36,
   "metadata": {},
   "outputs": [],
   "source": [
    "cat_to_dummies_cols=['Loan.Length','Loan.Purpose','State','Home.Ownership']\n",
    "# groups of columns for which we need to create dummies \n",
    "cat_to_num_cols=['Amount.Requested','Open.CREDIT.Lines','Revolving.CREDIT.Balance']\n",
    "# columns which contain numeric info but only require simple typecasting\n",
    "simple_num_cols=['Monthly.Income','Inquiries.in.the.Last.6.Months']\n",
    "# columns which are all ready numeric and contain numeric information"
   ]
  },
  {
   "cell_type": "code",
   "execution_count": 37,
   "metadata": {},
   "outputs": [],
   "source": [
    "ld_pipe = mt.DataPipe(simple_num=simple_num_cols,\n",
    "                     cat_to_num=cat_to_num_cols,\n",
    "                     cat_to_dummies=cat_to_dummies_cols,\n",
    "                     custom_func_dict=custom_func_cols)"
   ]
  },
  {
   "cell_type": "code",
   "execution_count": 38,
   "metadata": {},
   "outputs": [
    {
     "name": "stderr",
     "output_type": "stream",
     "text": [
      "d:\\my_codes_26_12_24_1\\upes_repo\\UPES_Courses_through_Notes_and_Codes\\ML-DL-Intensive_Training\\Day-02-22-1-25_\\ml_utils.py:75: SettingWithCopyWarning: \n",
      "A value is trying to be set on a copy of a slice from a DataFrame.\n",
      "Try using .loc[row_indexer,col_indexer] = value instead\n",
      "\n",
      "See the caveats in the documentation: https://pandas.pydata.org/pandas-docs/stable/user_guide/indexing.html#returning-a-view-versus-a-copy\n",
      "  x[col]=pd.to_numeric(x[col],errors='coerce')\n",
      "d:\\my_codes_26_12_24_1\\upes_repo\\UPES_Courses_through_Notes_and_Codes\\ML-DL-Intensive_Training\\Day-02-22-1-25_\\ml_utils.py:126: SettingWithCopyWarning: \n",
      "A value is trying to be set on a copy of a slice from a DataFrame.\n",
      "Try using .loc[row_indexer,col_indexer] = value instead\n",
      "\n",
      "See the caveats in the documentation: https://pandas.pydata.org/pandas-docs/stable/user_guide/indexing.html#returning-a-view-versus-a-copy\n",
      "  x[col]=self.col_func_dict[col](x[col])\n",
      "d:\\my_codes_26_12_24_1\\upes_repo\\UPES_Courses_through_Notes_and_Codes\\ML-DL-Intensive_Training\\Day-02-22-1-25_\\ml_utils.py:126: SettingWithCopyWarning: \n",
      "A value is trying to be set on a copy of a slice from a DataFrame.\n",
      "Try using .loc[row_indexer,col_indexer] = value instead\n",
      "\n",
      "See the caveats in the documentation: https://pandas.pydata.org/pandas-docs/stable/user_guide/indexing.html#returning-a-view-versus-a-copy\n",
      "  x[col]=self.col_func_dict[col](x[col])\n"
     ]
    },
    {
     "data": {
      "text/plain": [
       "<ml_utils.DataPipe at 0x14dce10b740>"
      ]
     },
     "execution_count": 38,
     "metadata": {},
     "output_type": "execute_result"
    }
   ],
   "source": [
    "ld_pipe.fit(ld_train)"
   ]
  },
  {
   "cell_type": "code",
   "execution_count": 39,
   "metadata": {},
   "outputs": [
    {
     "name": "stderr",
     "output_type": "stream",
     "text": [
      "d:\\my_codes_26_12_24_1\\upes_repo\\UPES_Courses_through_Notes_and_Codes\\ML-DL-Intensive_Training\\Day-02-22-1-25_\\ml_utils.py:75: SettingWithCopyWarning: \n",
      "A value is trying to be set on a copy of a slice from a DataFrame.\n",
      "Try using .loc[row_indexer,col_indexer] = value instead\n",
      "\n",
      "See the caveats in the documentation: https://pandas.pydata.org/pandas-docs/stable/user_guide/indexing.html#returning-a-view-versus-a-copy\n",
      "  x[col]=pd.to_numeric(x[col],errors='coerce')\n",
      "d:\\my_codes_26_12_24_1\\upes_repo\\UPES_Courses_through_Notes_and_Codes\\ML-DL-Intensive_Training\\Day-02-22-1-25_\\ml_utils.py:126: SettingWithCopyWarning: \n",
      "A value is trying to be set on a copy of a slice from a DataFrame.\n",
      "Try using .loc[row_indexer,col_indexer] = value instead\n",
      "\n",
      "See the caveats in the documentation: https://pandas.pydata.org/pandas-docs/stable/user_guide/indexing.html#returning-a-view-versus-a-copy\n",
      "  x[col]=self.col_func_dict[col](x[col])\n",
      "d:\\my_codes_26_12_24_1\\upes_repo\\UPES_Courses_through_Notes_and_Codes\\ML-DL-Intensive_Training\\Day-02-22-1-25_\\ml_utils.py:126: SettingWithCopyWarning: \n",
      "A value is trying to be set on a copy of a slice from a DataFrame.\n",
      "Try using .loc[row_indexer,col_indexer] = value instead\n",
      "\n",
      "See the caveats in the documentation: https://pandas.pydata.org/pandas-docs/stable/user_guide/indexing.html#returning-a-view-versus-a-copy\n",
      "  x[col]=self.col_func_dict[col](x[col])\n"
     ]
    }
   ],
   "source": [
    "x_train = ld_pipe.transform(ld_train)"
   ]
  },
  {
   "cell_type": "code",
   "execution_count": 40,
   "metadata": {},
   "outputs": [
    {
     "data": {
      "text/plain": [
       "(2200, 48)"
      ]
     },
     "execution_count": 40,
     "metadata": {},
     "output_type": "execute_result"
    }
   ],
   "source": [
    "x_train.shape"
   ]
  },
  {
   "cell_type": "code",
   "execution_count": 42,
   "metadata": {},
   "outputs": [],
   "source": [
    "ld_test = pd.read_csv('./loan_data_test.csv')"
   ]
  },
  {
   "cell_type": "code",
   "execution_count": 43,
   "metadata": {},
   "outputs": [
    {
     "name": "stderr",
     "output_type": "stream",
     "text": [
      "d:\\my_codes_26_12_24_1\\upes_repo\\UPES_Courses_through_Notes_and_Codes\\ML-DL-Intensive_Training\\Day-02-22-1-25_\\ml_utils.py:75: SettingWithCopyWarning: \n",
      "A value is trying to be set on a copy of a slice from a DataFrame.\n",
      "Try using .loc[row_indexer,col_indexer] = value instead\n",
      "\n",
      "See the caveats in the documentation: https://pandas.pydata.org/pandas-docs/stable/user_guide/indexing.html#returning-a-view-versus-a-copy\n",
      "  x[col]=pd.to_numeric(x[col],errors='coerce')\n",
      "d:\\my_codes_26_12_24_1\\upes_repo\\UPES_Courses_through_Notes_and_Codes\\ML-DL-Intensive_Training\\Day-02-22-1-25_\\ml_utils.py:126: SettingWithCopyWarning: \n",
      "A value is trying to be set on a copy of a slice from a DataFrame.\n",
      "Try using .loc[row_indexer,col_indexer] = value instead\n",
      "\n",
      "See the caveats in the documentation: https://pandas.pydata.org/pandas-docs/stable/user_guide/indexing.html#returning-a-view-versus-a-copy\n",
      "  x[col]=self.col_func_dict[col](x[col])\n",
      "d:\\my_codes_26_12_24_1\\upes_repo\\UPES_Courses_through_Notes_and_Codes\\ML-DL-Intensive_Training\\Day-02-22-1-25_\\ml_utils.py:126: SettingWithCopyWarning: \n",
      "A value is trying to be set on a copy of a slice from a DataFrame.\n",
      "Try using .loc[row_indexer,col_indexer] = value instead\n",
      "\n",
      "See the caveats in the documentation: https://pandas.pydata.org/pandas-docs/stable/user_guide/indexing.html#returning-a-view-versus-a-copy\n",
      "  x[col]=self.col_func_dict[col](x[col])\n"
     ]
    }
   ],
   "source": [
    "x_test = ld_pipe.transform(ld_test)"
   ]
  },
  {
   "cell_type": "code",
   "execution_count": 44,
   "metadata": {},
   "outputs": [
    {
     "data": {
      "text/plain": [
       "(300, 48)"
      ]
     },
     "execution_count": 44,
     "metadata": {},
     "output_type": "execute_result"
    }
   ],
   "source": [
    "x_test.shape"
   ]
  }
 ],
 "metadata": {
  "kernelspec": {
   "display_name": "base",
   "language": "python",
   "name": "python3"
  },
  "language_info": {
   "codemirror_mode": {
    "name": "ipython",
    "version": 3
   },
   "file_extension": ".py",
   "mimetype": "text/x-python",
   "name": "python",
   "nbconvert_exporter": "python",
   "pygments_lexer": "ipython3",
   "version": "3.12.4"
  }
 },
 "nbformat": 4,
 "nbformat_minor": 2
}
